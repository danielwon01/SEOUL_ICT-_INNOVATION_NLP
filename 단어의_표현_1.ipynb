{
  "nbformat": 4,
  "nbformat_minor": 0,
  "metadata": {
    "colab": {
      "name": "단어의 표현_1.ipynb",
      "provenance": []
    },
    "kernelspec": {
      "name": "python3",
      "display_name": "Python 3"
    },
    "language_info": {
      "name": "python"
    }
  },
  "cells": [
    {
      "cell_type": "markdown",
      "source": [
        "# 전처리: 단어의 벡터 표현"
      ],
      "metadata": {
        "id": "CgKnFujQ4OPB"
      }
    },
    {
      "cell_type": "markdown",
      "source": [
        "---\n",
        "- 참고도서\n",
        "  - 딥 러닝을 이용한 자연어 처리 입문(유원준,안상준 저 | 무료 e-book) https://wikidocs.net/book/2155\n",
        "  - PyTorch로 시작하는 딥 러닝 입문(유원준,안상준 저 | 무료 e-book) https://wikidocs.net/book/2788\n",
        "  - 파이썬으로 배우는 응용 텍스트 분석(벤자민 벵포트,레베카 빌브로,토니 오제다 저/박진수 역 | 제이펍)\n",
        "  - 김기현의 자연어 처리 딥러닝 캠프-파이토치편(김기현 저 | 한빛미디어)\n",
        "---"
      ],
      "metadata": {
        "id": "XUEG7mM64XNv"
      }
    },
    {
      "cell_type": "code",
      "source": [
        "import numpy as np\n",
        "import pandas as pd\n",
        "import seaborn as sns\n",
        "import matplotlib.pyplot as plt"
      ],
      "metadata": {
        "id": "3nag3Cdq4XtQ"
      },
      "execution_count": 34,
      "outputs": []
    },
    {
      "cell_type": "markdown",
      "source": [
        "## 단어의 의미와 유사성, 모호성\n",
        "\n",
        "자연어 처리에서 가장 기본이 되면서 어려운 문제는 단어와 단어의 의미와의 관계를 파악하는 것이다. \n",
        "단어를 글자로 표현할 때는 하나의 형태를 가지지만 상황에 따라 다른 의미로 사용된다. \n",
        "\n",
        "* 동형어 - 형태는 같으나 뜻이 서로 다른 단어\n",
        "* 다의어 - 한 형태의 단어가 여러 의미를 지니는 단어\n",
        "* 동의어 - 같은 의미를 가지는 다른 형태의 단어\n",
        "\n",
        " **자연어 처리를 위하여 단어의 중의성을 제거하는 작업이 필요하다.** \n",
        " **자연어 처리를 위해서는 각 단어에 정확한 값을 부여하는 작업이 요구된다.**\n",
        "\n"
      ],
      "metadata": {
        "id": "6y4O-OVW4XyI"
      }
    },
    {
      "cell_type": "markdown",
      "source": [
        "## 임베딩 \n",
        "단어나 문장을 수치화 화여 벡터공간으로 표현하는 과정 \n",
        "\n",
        "임베딩을 하는 이유는 컴퓨터는 자연어는 직접적으로 처리할 수 없고 수치연산만 가능하기 때문이다.\n",
        "\n",
        "#### 임베딩 기법의 종류 \n",
        "* 문장 임베딩 - 문장 전체를 벡터로 표현하는 방법\n",
        "  전체 문장의 흐름을 파악해 벡터로 변환하기 때문에 문맥적 의미를 지니는 장점을 가지지만 학습비용이 크다는 단점이 존재 \n",
        "\n",
        "\n",
        "* 단어 임베딩 - 개별 단어를 벡터로 표현하는 방법\n",
        "  동음어 구분을 하지 않는다 즉 의미가 달라도 단어의 형태가 같으면 동일한 벡터값을 가짐, 학습방법이 간단하다는 장점이 있다. \n",
        "\n",
        "\n",
        "* 원핫 인코딩 - 원-핫 인코딩은 단어 집합의 크기를 벡터의 차원으로 하고, 표현하고 싶은 단어의 인덱스에 1의 값을 부여하고, 다른 인덱스에는 0을 부여하는 단어의 벡터 표현 방식입니다. 이렇게 표현된 벡터를 원-핫 벡터(One-Hot vector)라고 한다. (희소표현)\n",
        "  단어는 불연속적인 심볼이며 이산 확률 변수로 나타남→원핫 벡터는 이산 확률 분포에서 추출한 샘플→불연속적인 값을 가짐 유사도를 계산하기 위하여 벡터간 연산을 할 때, 결과가 0 이 된다는 특징이 있다.\n",
        "    \n",
        "  \n",
        " \n",
        "* 원핫 인코딩의 단점인 차원의 수가 많아진다는 점을 보완하기 위해 분산표현 사용, 분산 표현은 한 단어의 정보가 특정 차원에 표현되지 않고 여러 차원에 분산되어 표현되기 떄문에 벡터 공간을 절약할 수 있는 방법이다. 데이터 손실을 최소화 하면서 압축할 수 있다. "
      ],
      "metadata": {
        "id": "nP128h384X2a"
      }
    },
    {
      "cell_type": "code",
      "source": [
        "# 문장 토큰화 \n",
        "from konlpy.tag import Okt  \n",
        "\n",
        "okt = Okt()\n",
        "tokens = okt.morphs('요즘 패션업계의 화두는 ‘애슬레저’다. 애슬레저는 애슬레틱(athletic)과 레저(leisure)의 합성어로, 일상복과의 경계를 허문 스포츠웨어를 뜻한다.')\n",
        "print(tokens)\n"
      ],
      "metadata": {
        "colab": {
          "base_uri": "https://localhost:8080/"
        },
        "id": "bGUF25NF4X6f",
        "outputId": "832bc679-36aa-428f-cbd6-b4e018005731"
      },
      "execution_count": 35,
      "outputs": [
        {
          "output_type": "stream",
          "name": "stdout",
          "text": [
            "['요즘', '패션', '업계', '의', '화두', '는', '‘', '애', '슬레', '저', '’', '다', '.', '애', '슬레', '저', '는', '애', '슬레', '틱', '(', 'athletic', ')', '과', '레저', '(', 'leisure', ')', '의', '합성어', '로', ',', '일', '상복', '과의', '경계', '를', '허문', '스포츠', '웨어', '를', '뜻', '한다', '.']\n"
          ]
        }
      ]
    },
    {
      "cell_type": "code",
      "source": [
        "# 정수 부여 \n",
        "word_to_index = {word : index for index, word in enumerate(tokens)}\n",
        "print('단어 집합 :',word_to_index)"
      ],
      "metadata": {
        "colab": {
          "base_uri": "https://localhost:8080/"
        },
        "id": "xf7-Xnix4X-p",
        "outputId": "84379723-d6b9-4d0a-c17b-332cff692026"
      },
      "execution_count": 36,
      "outputs": [
        {
          "output_type": "stream",
          "name": "stdout",
          "text": [
            "단어 집합 : {'요즘': 0, '패션': 1, '업계': 2, '의': 28, '화두': 4, '는': 16, '‘': 6, '애': 17, '슬레': 18, '저': 15, '’': 10, '다': 11, '.': 43, '틱': 19, '(': 25, 'athletic': 21, ')': 27, '과': 23, '레저': 24, 'leisure': 26, '합성어': 29, '로': 30, ',': 31, '일': 32, '상복': 33, '과의': 34, '경계': 35, '를': 40, '허문': 37, '스포츠': 38, '웨어': 39, '뜻': 41, '한다': 42}\n"
          ]
        }
      ]
    },
    {
      "cell_type": "code",
      "source": [
        "# 원핫 인코딩  \n",
        "\n",
        "from sklearn.preprocessing import LabelEncoder, OneHotEncoder, StandardScaler, MinMaxScaler\n",
        "\n",
        "\n",
        "items = ['TV', '냉장고', '전자렌지', '컴퓨터', '선풍기', '선풍기', '믹서', '믹서']\n",
        "\n",
        "encoder = LabelEncoder()\n",
        "encoder.fit(items)\n",
        "labels = encoder.transform(items)\n",
        "labels"
      ],
      "metadata": {
        "colab": {
          "base_uri": "https://localhost:8080/"
        },
        "id": "b8DucfjJ4YCf",
        "outputId": "85184c70-407a-4804-ec9e-aad59b792253"
      },
      "execution_count": 37,
      "outputs": [
        {
          "output_type": "execute_result",
          "data": {
            "text/plain": [
              "array([0, 1, 4, 5, 3, 3, 2, 2])"
            ]
          },
          "metadata": {},
          "execution_count": 37
        }
      ]
    },
    {
      "cell_type": "code",
      "source": [
        "labels = labels.reshape(-1, 1)\n",
        "labels"
      ],
      "metadata": {
        "colab": {
          "base_uri": "https://localhost:8080/"
        },
        "id": "gzZFldMm4Y-Y",
        "outputId": "c410ad30-c59d-4d8c-e8a4-21a3d16ae5fa"
      },
      "execution_count": 38,
      "outputs": [
        {
          "output_type": "execute_result",
          "data": {
            "text/plain": [
              "array([[0],\n",
              "       [1],\n",
              "       [4],\n",
              "       [5],\n",
              "       [3],\n",
              "       [3],\n",
              "       [2],\n",
              "       [2]])"
            ]
          },
          "metadata": {},
          "execution_count": 38
        }
      ]
    },
    {
      "cell_type": "code",
      "source": [
        "oh_encoder = OneHotEncoder()\n",
        "oh_encoder.fit(labels)\n",
        "oh_labels = oh_encoder.transform(labels)\n",
        "\n",
        "oh_array = oh_labels.toarray()\n",
        "print(oh_array)\n",
        "print(oh_array.shape)"
      ],
      "metadata": {
        "colab": {
          "base_uri": "https://localhost:8080/"
        },
        "id": "SJxX5U5o4ZEL",
        "outputId": "01f8be72-26b8-483b-9e55-80f31a9e4b9a"
      },
      "execution_count": 39,
      "outputs": [
        {
          "output_type": "stream",
          "name": "stdout",
          "text": [
            "[[1. 0. 0. 0. 0. 0.]\n",
            " [0. 1. 0. 0. 0. 0.]\n",
            " [0. 0. 0. 0. 1. 0.]\n",
            " [0. 0. 0. 0. 0. 1.]\n",
            " [0. 0. 0. 1. 0. 0.]\n",
            " [0. 0. 0. 1. 0. 0.]\n",
            " [0. 0. 1. 0. 0. 0.]\n",
            " [0. 0. 1. 0. 0. 0.]]\n",
            "(8, 6)\n"
          ]
        }
      ]
    },
    {
      "cell_type": "code",
      "source": [
        "df = pd.DataFrame({'items': items})\n",
        "df"
      ],
      "metadata": {
        "colab": {
          "base_uri": "https://localhost:8080/",
          "height": 300
        },
        "id": "Cs248TIA4ZL5",
        "outputId": "ea535a71-7265-404e-aaef-4c923afcf2fd"
      },
      "execution_count": 40,
      "outputs": [
        {
          "output_type": "execute_result",
          "data": {
            "text/plain": [
              "  items\n",
              "0    TV\n",
              "1   냉장고\n",
              "2  전자렌지\n",
              "3   컴퓨터\n",
              "4   선풍기\n",
              "5   선풍기\n",
              "6    믹서\n",
              "7    믹서"
            ],
            "text/html": [
              "\n",
              "  <div id=\"df-1e129ade-413e-448c-9fe7-952938d2a9ef\">\n",
              "    <div class=\"colab-df-container\">\n",
              "      <div>\n",
              "<style scoped>\n",
              "    .dataframe tbody tr th:only-of-type {\n",
              "        vertical-align: middle;\n",
              "    }\n",
              "\n",
              "    .dataframe tbody tr th {\n",
              "        vertical-align: top;\n",
              "    }\n",
              "\n",
              "    .dataframe thead th {\n",
              "        text-align: right;\n",
              "    }\n",
              "</style>\n",
              "<table border=\"1\" class=\"dataframe\">\n",
              "  <thead>\n",
              "    <tr style=\"text-align: right;\">\n",
              "      <th></th>\n",
              "      <th>items</th>\n",
              "    </tr>\n",
              "  </thead>\n",
              "  <tbody>\n",
              "    <tr>\n",
              "      <th>0</th>\n",
              "      <td>TV</td>\n",
              "    </tr>\n",
              "    <tr>\n",
              "      <th>1</th>\n",
              "      <td>냉장고</td>\n",
              "    </tr>\n",
              "    <tr>\n",
              "      <th>2</th>\n",
              "      <td>전자렌지</td>\n",
              "    </tr>\n",
              "    <tr>\n",
              "      <th>3</th>\n",
              "      <td>컴퓨터</td>\n",
              "    </tr>\n",
              "    <tr>\n",
              "      <th>4</th>\n",
              "      <td>선풍기</td>\n",
              "    </tr>\n",
              "    <tr>\n",
              "      <th>5</th>\n",
              "      <td>선풍기</td>\n",
              "    </tr>\n",
              "    <tr>\n",
              "      <th>6</th>\n",
              "      <td>믹서</td>\n",
              "    </tr>\n",
              "    <tr>\n",
              "      <th>7</th>\n",
              "      <td>믹서</td>\n",
              "    </tr>\n",
              "  </tbody>\n",
              "</table>\n",
              "</div>\n",
              "      <button class=\"colab-df-convert\" onclick=\"convertToInteractive('df-1e129ade-413e-448c-9fe7-952938d2a9ef')\"\n",
              "              title=\"Convert this dataframe to an interactive table.\"\n",
              "              style=\"display:none;\">\n",
              "        \n",
              "  <svg xmlns=\"http://www.w3.org/2000/svg\" height=\"24px\"viewBox=\"0 0 24 24\"\n",
              "       width=\"24px\">\n",
              "    <path d=\"M0 0h24v24H0V0z\" fill=\"none\"/>\n",
              "    <path d=\"M18.56 5.44l.94 2.06.94-2.06 2.06-.94-2.06-.94-.94-2.06-.94 2.06-2.06.94zm-11 1L8.5 8.5l.94-2.06 2.06-.94-2.06-.94L8.5 2.5l-.94 2.06-2.06.94zm10 10l.94 2.06.94-2.06 2.06-.94-2.06-.94-.94-2.06-.94 2.06-2.06.94z\"/><path d=\"M17.41 7.96l-1.37-1.37c-.4-.4-.92-.59-1.43-.59-.52 0-1.04.2-1.43.59L10.3 9.45l-7.72 7.72c-.78.78-.78 2.05 0 2.83L4 21.41c.39.39.9.59 1.41.59.51 0 1.02-.2 1.41-.59l7.78-7.78 2.81-2.81c.8-.78.8-2.07 0-2.86zM5.41 20L4 18.59l7.72-7.72 1.47 1.35L5.41 20z\"/>\n",
              "  </svg>\n",
              "      </button>\n",
              "      \n",
              "  <style>\n",
              "    .colab-df-container {\n",
              "      display:flex;\n",
              "      flex-wrap:wrap;\n",
              "      gap: 12px;\n",
              "    }\n",
              "\n",
              "    .colab-df-convert {\n",
              "      background-color: #E8F0FE;\n",
              "      border: none;\n",
              "      border-radius: 50%;\n",
              "      cursor: pointer;\n",
              "      display: none;\n",
              "      fill: #1967D2;\n",
              "      height: 32px;\n",
              "      padding: 0 0 0 0;\n",
              "      width: 32px;\n",
              "    }\n",
              "\n",
              "    .colab-df-convert:hover {\n",
              "      background-color: #E2EBFA;\n",
              "      box-shadow: 0px 1px 2px rgba(60, 64, 67, 0.3), 0px 1px 3px 1px rgba(60, 64, 67, 0.15);\n",
              "      fill: #174EA6;\n",
              "    }\n",
              "\n",
              "    [theme=dark] .colab-df-convert {\n",
              "      background-color: #3B4455;\n",
              "      fill: #D2E3FC;\n",
              "    }\n",
              "\n",
              "    [theme=dark] .colab-df-convert:hover {\n",
              "      background-color: #434B5C;\n",
              "      box-shadow: 0px 1px 3px 1px rgba(0, 0, 0, 0.15);\n",
              "      filter: drop-shadow(0px 1px 2px rgba(0, 0, 0, 0.3));\n",
              "      fill: #FFFFFF;\n",
              "    }\n",
              "  </style>\n",
              "\n",
              "      <script>\n",
              "        const buttonEl =\n",
              "          document.querySelector('#df-1e129ade-413e-448c-9fe7-952938d2a9ef button.colab-df-convert');\n",
              "        buttonEl.style.display =\n",
              "          google.colab.kernel.accessAllowed ? 'block' : 'none';\n",
              "\n",
              "        async function convertToInteractive(key) {\n",
              "          const element = document.querySelector('#df-1e129ade-413e-448c-9fe7-952938d2a9ef');\n",
              "          const dataTable =\n",
              "            await google.colab.kernel.invokeFunction('convertToInteractive',\n",
              "                                                     [key], {});\n",
              "          if (!dataTable) return;\n",
              "\n",
              "          const docLinkHtml = 'Like what you see? Visit the ' +\n",
              "            '<a target=\"_blank\" href=https://colab.research.google.com/notebooks/data_table.ipynb>data table notebook</a>'\n",
              "            + ' to learn more about interactive tables.';\n",
              "          element.innerHTML = '';\n",
              "          dataTable['output_type'] = 'display_data';\n",
              "          await google.colab.output.renderOutput(dataTable, element);\n",
              "          const docLink = document.createElement('div');\n",
              "          docLink.innerHTML = docLinkHtml;\n",
              "          element.appendChild(docLink);\n",
              "        }\n",
              "      </script>\n",
              "    </div>\n",
              "  </div>\n",
              "  "
            ]
          },
          "metadata": {},
          "execution_count": 40
        }
      ]
    },
    {
      "cell_type": "code",
      "source": [
        "pd.get_dummies(df)"
      ],
      "metadata": {
        "colab": {
          "base_uri": "https://localhost:8080/",
          "height": 300
        },
        "id": "oXISU_Gc4ZsL",
        "outputId": "17548b96-b43f-41ac-8e45-4b895eb4d217"
      },
      "execution_count": 41,
      "outputs": [
        {
          "output_type": "execute_result",
          "data": {
            "text/plain": [
              "   items_TV  items_냉장고  items_믹서  items_선풍기  items_전자렌지  items_컴퓨터\n",
              "0         1          0         0          0           0          0\n",
              "1         0          1         0          0           0          0\n",
              "2         0          0         0          0           1          0\n",
              "3         0          0         0          0           0          1\n",
              "4         0          0         0          1           0          0\n",
              "5         0          0         0          1           0          0\n",
              "6         0          0         1          0           0          0\n",
              "7         0          0         1          0           0          0"
            ],
            "text/html": [
              "\n",
              "  <div id=\"df-63dc73e5-b682-402e-b991-76782ff54f47\">\n",
              "    <div class=\"colab-df-container\">\n",
              "      <div>\n",
              "<style scoped>\n",
              "    .dataframe tbody tr th:only-of-type {\n",
              "        vertical-align: middle;\n",
              "    }\n",
              "\n",
              "    .dataframe tbody tr th {\n",
              "        vertical-align: top;\n",
              "    }\n",
              "\n",
              "    .dataframe thead th {\n",
              "        text-align: right;\n",
              "    }\n",
              "</style>\n",
              "<table border=\"1\" class=\"dataframe\">\n",
              "  <thead>\n",
              "    <tr style=\"text-align: right;\">\n",
              "      <th></th>\n",
              "      <th>items_TV</th>\n",
              "      <th>items_냉장고</th>\n",
              "      <th>items_믹서</th>\n",
              "      <th>items_선풍기</th>\n",
              "      <th>items_전자렌지</th>\n",
              "      <th>items_컴퓨터</th>\n",
              "    </tr>\n",
              "  </thead>\n",
              "  <tbody>\n",
              "    <tr>\n",
              "      <th>0</th>\n",
              "      <td>1</td>\n",
              "      <td>0</td>\n",
              "      <td>0</td>\n",
              "      <td>0</td>\n",
              "      <td>0</td>\n",
              "      <td>0</td>\n",
              "    </tr>\n",
              "    <tr>\n",
              "      <th>1</th>\n",
              "      <td>0</td>\n",
              "      <td>1</td>\n",
              "      <td>0</td>\n",
              "      <td>0</td>\n",
              "      <td>0</td>\n",
              "      <td>0</td>\n",
              "    </tr>\n",
              "    <tr>\n",
              "      <th>2</th>\n",
              "      <td>0</td>\n",
              "      <td>0</td>\n",
              "      <td>0</td>\n",
              "      <td>0</td>\n",
              "      <td>1</td>\n",
              "      <td>0</td>\n",
              "    </tr>\n",
              "    <tr>\n",
              "      <th>3</th>\n",
              "      <td>0</td>\n",
              "      <td>0</td>\n",
              "      <td>0</td>\n",
              "      <td>0</td>\n",
              "      <td>0</td>\n",
              "      <td>1</td>\n",
              "    </tr>\n",
              "    <tr>\n",
              "      <th>4</th>\n",
              "      <td>0</td>\n",
              "      <td>0</td>\n",
              "      <td>0</td>\n",
              "      <td>1</td>\n",
              "      <td>0</td>\n",
              "      <td>0</td>\n",
              "    </tr>\n",
              "    <tr>\n",
              "      <th>5</th>\n",
              "      <td>0</td>\n",
              "      <td>0</td>\n",
              "      <td>0</td>\n",
              "      <td>1</td>\n",
              "      <td>0</td>\n",
              "      <td>0</td>\n",
              "    </tr>\n",
              "    <tr>\n",
              "      <th>6</th>\n",
              "      <td>0</td>\n",
              "      <td>0</td>\n",
              "      <td>1</td>\n",
              "      <td>0</td>\n",
              "      <td>0</td>\n",
              "      <td>0</td>\n",
              "    </tr>\n",
              "    <tr>\n",
              "      <th>7</th>\n",
              "      <td>0</td>\n",
              "      <td>0</td>\n",
              "      <td>1</td>\n",
              "      <td>0</td>\n",
              "      <td>0</td>\n",
              "      <td>0</td>\n",
              "    </tr>\n",
              "  </tbody>\n",
              "</table>\n",
              "</div>\n",
              "      <button class=\"colab-df-convert\" onclick=\"convertToInteractive('df-63dc73e5-b682-402e-b991-76782ff54f47')\"\n",
              "              title=\"Convert this dataframe to an interactive table.\"\n",
              "              style=\"display:none;\">\n",
              "        \n",
              "  <svg xmlns=\"http://www.w3.org/2000/svg\" height=\"24px\"viewBox=\"0 0 24 24\"\n",
              "       width=\"24px\">\n",
              "    <path d=\"M0 0h24v24H0V0z\" fill=\"none\"/>\n",
              "    <path d=\"M18.56 5.44l.94 2.06.94-2.06 2.06-.94-2.06-.94-.94-2.06-.94 2.06-2.06.94zm-11 1L8.5 8.5l.94-2.06 2.06-.94-2.06-.94L8.5 2.5l-.94 2.06-2.06.94zm10 10l.94 2.06.94-2.06 2.06-.94-2.06-.94-.94-2.06-.94 2.06-2.06.94z\"/><path d=\"M17.41 7.96l-1.37-1.37c-.4-.4-.92-.59-1.43-.59-.52 0-1.04.2-1.43.59L10.3 9.45l-7.72 7.72c-.78.78-.78 2.05 0 2.83L4 21.41c.39.39.9.59 1.41.59.51 0 1.02-.2 1.41-.59l7.78-7.78 2.81-2.81c.8-.78.8-2.07 0-2.86zM5.41 20L4 18.59l7.72-7.72 1.47 1.35L5.41 20z\"/>\n",
              "  </svg>\n",
              "      </button>\n",
              "      \n",
              "  <style>\n",
              "    .colab-df-container {\n",
              "      display:flex;\n",
              "      flex-wrap:wrap;\n",
              "      gap: 12px;\n",
              "    }\n",
              "\n",
              "    .colab-df-convert {\n",
              "      background-color: #E8F0FE;\n",
              "      border: none;\n",
              "      border-radius: 50%;\n",
              "      cursor: pointer;\n",
              "      display: none;\n",
              "      fill: #1967D2;\n",
              "      height: 32px;\n",
              "      padding: 0 0 0 0;\n",
              "      width: 32px;\n",
              "    }\n",
              "\n",
              "    .colab-df-convert:hover {\n",
              "      background-color: #E2EBFA;\n",
              "      box-shadow: 0px 1px 2px rgba(60, 64, 67, 0.3), 0px 1px 3px 1px rgba(60, 64, 67, 0.15);\n",
              "      fill: #174EA6;\n",
              "    }\n",
              "\n",
              "    [theme=dark] .colab-df-convert {\n",
              "      background-color: #3B4455;\n",
              "      fill: #D2E3FC;\n",
              "    }\n",
              "\n",
              "    [theme=dark] .colab-df-convert:hover {\n",
              "      background-color: #434B5C;\n",
              "      box-shadow: 0px 1px 3px 1px rgba(0, 0, 0, 0.15);\n",
              "      filter: drop-shadow(0px 1px 2px rgba(0, 0, 0, 0.3));\n",
              "      fill: #FFFFFF;\n",
              "    }\n",
              "  </style>\n",
              "\n",
              "      <script>\n",
              "        const buttonEl =\n",
              "          document.querySelector('#df-63dc73e5-b682-402e-b991-76782ff54f47 button.colab-df-convert');\n",
              "        buttonEl.style.display =\n",
              "          google.colab.kernel.accessAllowed ? 'block' : 'none';\n",
              "\n",
              "        async function convertToInteractive(key) {\n",
              "          const element = document.querySelector('#df-63dc73e5-b682-402e-b991-76782ff54f47');\n",
              "          const dataTable =\n",
              "            await google.colab.kernel.invokeFunction('convertToInteractive',\n",
              "                                                     [key], {});\n",
              "          if (!dataTable) return;\n",
              "\n",
              "          const docLinkHtml = 'Like what you see? Visit the ' +\n",
              "            '<a target=\"_blank\" href=https://colab.research.google.com/notebooks/data_table.ipynb>data table notebook</a>'\n",
              "            + ' to learn more about interactive tables.';\n",
              "          element.innerHTML = '';\n",
              "          dataTable['output_type'] = 'display_data';\n",
              "          await google.colab.output.renderOutput(dataTable, element);\n",
              "          const docLink = document.createElement('div');\n",
              "          docLink.innerHTML = docLinkHtml;\n",
              "          element.appendChild(docLink);\n",
              "        }\n",
              "      </script>\n",
              "    </div>\n",
              "  </div>\n",
              "  "
            ]
          },
          "metadata": {},
          "execution_count": 41
        }
      ]
    },
    {
      "cell_type": "markdown",
      "source": [
        "###  패딩\n",
        "- 자연어 처리를 하다보면 각 문장(또는 문서)은 서로 길이가 다를 수 있음\n",
        "- 기계는 길이가 전부 동일한 문서들에 대해서는 하나의 행렬로 보고, 한꺼번에 묶어서 처리할 수 있음\n",
        "- 즉, 병렬 연산을 위해서 여러 문장의 길이를 임의로 동일하게 맞춰주는 작업이 필요할 때가 있음\n",
        "- 이러한 작업을 패딩(Padding) 이라고 함"
      ],
      "metadata": {
        "id": "gZPHYzPf4Z2N"
      }
    },
    {
      "cell_type": "code",
      "source": [
        "import urllib.request\n",
        "from nltk import FreqDist\n",
        "from tensorflow.keras.preprocessing.sequence import pad_sequences\n",
        "from tensorflow.keras.preprocessing.text import Tokenizer"
      ],
      "metadata": {
        "id": "qkNAOGYu_9FX"
      },
      "execution_count": 42,
      "outputs": []
    },
    {
      "cell_type": "code",
      "source": [
        "data = pd.read_table('/content/ratings.txt')\n",
        "data[:10]"
      ],
      "metadata": {
        "colab": {
          "base_uri": "https://localhost:8080/",
          "height": 0
        },
        "id": "O-GTIV12_9J6",
        "outputId": "87642143-8817-4c62-f7e1-6a91bf4d9269"
      },
      "execution_count": 43,
      "outputs": [
        {
          "output_type": "execute_result",
          "data": {
            "text/plain": [
              "         id                                           document  label\n",
              "0   8112052                                어릴때보고 지금다시봐도 재밌어요ㅋㅋ      1\n",
              "1   8132799  디자인을 배우는 학생으로, 외국디자이너와 그들이 일군 전통을 통해 발전해가는 문화산...      1\n",
              "2   4655635               폴리스스토리 시리즈는 1부터 뉴까지 버릴께 하나도 없음.. 최고.      1\n",
              "3   9251303  와.. 연기가 진짜 개쩔구나.. 지루할거라고 생각했는데 몰입해서 봤다.. 그래 이런...      1\n",
              "4  10067386                        안개 자욱한 밤하늘에 떠 있는 초승달 같은 영화.      1\n",
              "5   2190435                      사랑을 해본사람이라면 처음부터 끝까지 웃을수 있는영화      1\n",
              "6   9279041                                   완전 감동입니다 다시봐도 감동      1\n",
              "7   7865729                        개들의 전쟁2 나오나요? 나오면 1빠로 보고 싶음      1\n",
              "8   7477618                                                  굿      1\n",
              "9   9250537                                     바보가 아니라 병 쉰 인듯      1"
            ],
            "text/html": [
              "\n",
              "  <div id=\"df-8d0add5d-7533-47d0-8714-fbf1633dd36e\">\n",
              "    <div class=\"colab-df-container\">\n",
              "      <div>\n",
              "<style scoped>\n",
              "    .dataframe tbody tr th:only-of-type {\n",
              "        vertical-align: middle;\n",
              "    }\n",
              "\n",
              "    .dataframe tbody tr th {\n",
              "        vertical-align: top;\n",
              "    }\n",
              "\n",
              "    .dataframe thead th {\n",
              "        text-align: right;\n",
              "    }\n",
              "</style>\n",
              "<table border=\"1\" class=\"dataframe\">\n",
              "  <thead>\n",
              "    <tr style=\"text-align: right;\">\n",
              "      <th></th>\n",
              "      <th>id</th>\n",
              "      <th>document</th>\n",
              "      <th>label</th>\n",
              "    </tr>\n",
              "  </thead>\n",
              "  <tbody>\n",
              "    <tr>\n",
              "      <th>0</th>\n",
              "      <td>8112052</td>\n",
              "      <td>어릴때보고 지금다시봐도 재밌어요ㅋㅋ</td>\n",
              "      <td>1</td>\n",
              "    </tr>\n",
              "    <tr>\n",
              "      <th>1</th>\n",
              "      <td>8132799</td>\n",
              "      <td>디자인을 배우는 학생으로, 외국디자이너와 그들이 일군 전통을 통해 발전해가는 문화산...</td>\n",
              "      <td>1</td>\n",
              "    </tr>\n",
              "    <tr>\n",
              "      <th>2</th>\n",
              "      <td>4655635</td>\n",
              "      <td>폴리스스토리 시리즈는 1부터 뉴까지 버릴께 하나도 없음.. 최고.</td>\n",
              "      <td>1</td>\n",
              "    </tr>\n",
              "    <tr>\n",
              "      <th>3</th>\n",
              "      <td>9251303</td>\n",
              "      <td>와.. 연기가 진짜 개쩔구나.. 지루할거라고 생각했는데 몰입해서 봤다.. 그래 이런...</td>\n",
              "      <td>1</td>\n",
              "    </tr>\n",
              "    <tr>\n",
              "      <th>4</th>\n",
              "      <td>10067386</td>\n",
              "      <td>안개 자욱한 밤하늘에 떠 있는 초승달 같은 영화.</td>\n",
              "      <td>1</td>\n",
              "    </tr>\n",
              "    <tr>\n",
              "      <th>5</th>\n",
              "      <td>2190435</td>\n",
              "      <td>사랑을 해본사람이라면 처음부터 끝까지 웃을수 있는영화</td>\n",
              "      <td>1</td>\n",
              "    </tr>\n",
              "    <tr>\n",
              "      <th>6</th>\n",
              "      <td>9279041</td>\n",
              "      <td>완전 감동입니다 다시봐도 감동</td>\n",
              "      <td>1</td>\n",
              "    </tr>\n",
              "    <tr>\n",
              "      <th>7</th>\n",
              "      <td>7865729</td>\n",
              "      <td>개들의 전쟁2 나오나요? 나오면 1빠로 보고 싶음</td>\n",
              "      <td>1</td>\n",
              "    </tr>\n",
              "    <tr>\n",
              "      <th>8</th>\n",
              "      <td>7477618</td>\n",
              "      <td>굿</td>\n",
              "      <td>1</td>\n",
              "    </tr>\n",
              "    <tr>\n",
              "      <th>9</th>\n",
              "      <td>9250537</td>\n",
              "      <td>바보가 아니라 병 쉰 인듯</td>\n",
              "      <td>1</td>\n",
              "    </tr>\n",
              "  </tbody>\n",
              "</table>\n",
              "</div>\n",
              "      <button class=\"colab-df-convert\" onclick=\"convertToInteractive('df-8d0add5d-7533-47d0-8714-fbf1633dd36e')\"\n",
              "              title=\"Convert this dataframe to an interactive table.\"\n",
              "              style=\"display:none;\">\n",
              "        \n",
              "  <svg xmlns=\"http://www.w3.org/2000/svg\" height=\"24px\"viewBox=\"0 0 24 24\"\n",
              "       width=\"24px\">\n",
              "    <path d=\"M0 0h24v24H0V0z\" fill=\"none\"/>\n",
              "    <path d=\"M18.56 5.44l.94 2.06.94-2.06 2.06-.94-2.06-.94-.94-2.06-.94 2.06-2.06.94zm-11 1L8.5 8.5l.94-2.06 2.06-.94-2.06-.94L8.5 2.5l-.94 2.06-2.06.94zm10 10l.94 2.06.94-2.06 2.06-.94-2.06-.94-.94-2.06-.94 2.06-2.06.94z\"/><path d=\"M17.41 7.96l-1.37-1.37c-.4-.4-.92-.59-1.43-.59-.52 0-1.04.2-1.43.59L10.3 9.45l-7.72 7.72c-.78.78-.78 2.05 0 2.83L4 21.41c.39.39.9.59 1.41.59.51 0 1.02-.2 1.41-.59l7.78-7.78 2.81-2.81c.8-.78.8-2.07 0-2.86zM5.41 20L4 18.59l7.72-7.72 1.47 1.35L5.41 20z\"/>\n",
              "  </svg>\n",
              "      </button>\n",
              "      \n",
              "  <style>\n",
              "    .colab-df-container {\n",
              "      display:flex;\n",
              "      flex-wrap:wrap;\n",
              "      gap: 12px;\n",
              "    }\n",
              "\n",
              "    .colab-df-convert {\n",
              "      background-color: #E8F0FE;\n",
              "      border: none;\n",
              "      border-radius: 50%;\n",
              "      cursor: pointer;\n",
              "      display: none;\n",
              "      fill: #1967D2;\n",
              "      height: 32px;\n",
              "      padding: 0 0 0 0;\n",
              "      width: 32px;\n",
              "    }\n",
              "\n",
              "    .colab-df-convert:hover {\n",
              "      background-color: #E2EBFA;\n",
              "      box-shadow: 0px 1px 2px rgba(60, 64, 67, 0.3), 0px 1px 3px 1px rgba(60, 64, 67, 0.15);\n",
              "      fill: #174EA6;\n",
              "    }\n",
              "\n",
              "    [theme=dark] .colab-df-convert {\n",
              "      background-color: #3B4455;\n",
              "      fill: #D2E3FC;\n",
              "    }\n",
              "\n",
              "    [theme=dark] .colab-df-convert:hover {\n",
              "      background-color: #434B5C;\n",
              "      box-shadow: 0px 1px 3px 1px rgba(0, 0, 0, 0.15);\n",
              "      filter: drop-shadow(0px 1px 2px rgba(0, 0, 0, 0.3));\n",
              "      fill: #FFFFFF;\n",
              "    }\n",
              "  </style>\n",
              "\n",
              "      <script>\n",
              "        const buttonEl =\n",
              "          document.querySelector('#df-8d0add5d-7533-47d0-8714-fbf1633dd36e button.colab-df-convert');\n",
              "        buttonEl.style.display =\n",
              "          google.colab.kernel.accessAllowed ? 'block' : 'none';\n",
              "\n",
              "        async function convertToInteractive(key) {\n",
              "          const element = document.querySelector('#df-8d0add5d-7533-47d0-8714-fbf1633dd36e');\n",
              "          const dataTable =\n",
              "            await google.colab.kernel.invokeFunction('convertToInteractive',\n",
              "                                                     [key], {});\n",
              "          if (!dataTable) return;\n",
              "\n",
              "          const docLinkHtml = 'Like what you see? Visit the ' +\n",
              "            '<a target=\"_blank\" href=https://colab.research.google.com/notebooks/data_table.ipynb>data table notebook</a>'\n",
              "            + ' to learn more about interactive tables.';\n",
              "          element.innerHTML = '';\n",
              "          dataTable['output_type'] = 'display_data';\n",
              "          await google.colab.output.renderOutput(dataTable, element);\n",
              "          const docLink = document.createElement('div');\n",
              "          docLink.innerHTML = docLinkHtml;\n",
              "          element.appendChild(docLink);\n",
              "        }\n",
              "      </script>\n",
              "    </div>\n",
              "  </div>\n",
              "  "
            ]
          },
          "metadata": {},
          "execution_count": 43
        }
      ]
    },
    {
      "cell_type": "code",
      "source": [
        "print(f'전체 샘플의 수 :{len(data)}')"
      ],
      "metadata": {
        "colab": {
          "base_uri": "https://localhost:8080/"
        },
        "id": "4ONXmbCl_-HF",
        "outputId": "0320006f-2aaf-4396-8504-a614036b815f"
      },
      "execution_count": 44,
      "outputs": [
        {
          "output_type": "stream",
          "name": "stdout",
          "text": [
            "전체 샘플의 수 :200000\n"
          ]
        }
      ]
    },
    {
      "cell_type": "code",
      "source": [
        "sample_data = data[:100] # 임의로 100개만 저장"
      ],
      "metadata": {
        "id": "7OMW9nYR_-K6"
      },
      "execution_count": 45,
      "outputs": []
    },
    {
      "cell_type": "code",
      "source": [
        "sample_data['document'] = sample_data['document'].str.replace(\"[^ㄱ-ㅎㅏ-ㅣ가-힣 ]\",\"\")\n",
        "# 한글과 공백을 제외하고 모두 제거\n",
        "sample_data[:10]"
      ],
      "metadata": {
        "colab": {
          "base_uri": "https://localhost:8080/",
          "height": 0
        },
        "id": "Bv1YBql4_-PW",
        "outputId": "ae2a316a-b25d-465a-a42b-5051acbb425d"
      },
      "execution_count": 46,
      "outputs": [
        {
          "output_type": "stream",
          "name": "stderr",
          "text": [
            "/usr/local/lib/python3.7/dist-packages/ipykernel_launcher.py:1: FutureWarning: The default value of regex will change from True to False in a future version.\n",
            "  \"\"\"Entry point for launching an IPython kernel.\n",
            "/usr/local/lib/python3.7/dist-packages/ipykernel_launcher.py:1: SettingWithCopyWarning: \n",
            "A value is trying to be set on a copy of a slice from a DataFrame.\n",
            "Try using .loc[row_indexer,col_indexer] = value instead\n",
            "\n",
            "See the caveats in the documentation: https://pandas.pydata.org/pandas-docs/stable/user_guide/indexing.html#returning-a-view-versus-a-copy\n",
            "  \"\"\"Entry point for launching an IPython kernel.\n"
          ]
        },
        {
          "output_type": "execute_result",
          "data": {
            "text/plain": [
              "         id                                           document  label\n",
              "0   8112052                                어릴때보고 지금다시봐도 재밌어요ㅋㅋ      1\n",
              "1   8132799  디자인을 배우는 학생으로 외국디자이너와 그들이 일군 전통을 통해 발전해가는 문화산업...      1\n",
              "2   4655635                   폴리스스토리 시리즈는 부터 뉴까지 버릴께 하나도 없음 최고      1\n",
              "3   9251303   와 연기가 진짜 개쩔구나 지루할거라고 생각했는데 몰입해서 봤다 그래 이런게 진짜 영화지      1\n",
              "4  10067386                         안개 자욱한 밤하늘에 떠 있는 초승달 같은 영화      1\n",
              "5   2190435                      사랑을 해본사람이라면 처음부터 끝까지 웃을수 있는영화      1\n",
              "6   9279041                                   완전 감동입니다 다시봐도 감동      1\n",
              "7   7865729                           개들의 전쟁 나오나요 나오면 빠로 보고 싶음      1\n",
              "8   7477618                                                  굿      1\n",
              "9   9250537                                     바보가 아니라 병 쉰 인듯      1"
            ],
            "text/html": [
              "\n",
              "  <div id=\"df-a7c86052-9eb7-4a90-a422-eefc519d433c\">\n",
              "    <div class=\"colab-df-container\">\n",
              "      <div>\n",
              "<style scoped>\n",
              "    .dataframe tbody tr th:only-of-type {\n",
              "        vertical-align: middle;\n",
              "    }\n",
              "\n",
              "    .dataframe tbody tr th {\n",
              "        vertical-align: top;\n",
              "    }\n",
              "\n",
              "    .dataframe thead th {\n",
              "        text-align: right;\n",
              "    }\n",
              "</style>\n",
              "<table border=\"1\" class=\"dataframe\">\n",
              "  <thead>\n",
              "    <tr style=\"text-align: right;\">\n",
              "      <th></th>\n",
              "      <th>id</th>\n",
              "      <th>document</th>\n",
              "      <th>label</th>\n",
              "    </tr>\n",
              "  </thead>\n",
              "  <tbody>\n",
              "    <tr>\n",
              "      <th>0</th>\n",
              "      <td>8112052</td>\n",
              "      <td>어릴때보고 지금다시봐도 재밌어요ㅋㅋ</td>\n",
              "      <td>1</td>\n",
              "    </tr>\n",
              "    <tr>\n",
              "      <th>1</th>\n",
              "      <td>8132799</td>\n",
              "      <td>디자인을 배우는 학생으로 외국디자이너와 그들이 일군 전통을 통해 발전해가는 문화산업...</td>\n",
              "      <td>1</td>\n",
              "    </tr>\n",
              "    <tr>\n",
              "      <th>2</th>\n",
              "      <td>4655635</td>\n",
              "      <td>폴리스스토리 시리즈는 부터 뉴까지 버릴께 하나도 없음 최고</td>\n",
              "      <td>1</td>\n",
              "    </tr>\n",
              "    <tr>\n",
              "      <th>3</th>\n",
              "      <td>9251303</td>\n",
              "      <td>와 연기가 진짜 개쩔구나 지루할거라고 생각했는데 몰입해서 봤다 그래 이런게 진짜 영화지</td>\n",
              "      <td>1</td>\n",
              "    </tr>\n",
              "    <tr>\n",
              "      <th>4</th>\n",
              "      <td>10067386</td>\n",
              "      <td>안개 자욱한 밤하늘에 떠 있는 초승달 같은 영화</td>\n",
              "      <td>1</td>\n",
              "    </tr>\n",
              "    <tr>\n",
              "      <th>5</th>\n",
              "      <td>2190435</td>\n",
              "      <td>사랑을 해본사람이라면 처음부터 끝까지 웃을수 있는영화</td>\n",
              "      <td>1</td>\n",
              "    </tr>\n",
              "    <tr>\n",
              "      <th>6</th>\n",
              "      <td>9279041</td>\n",
              "      <td>완전 감동입니다 다시봐도 감동</td>\n",
              "      <td>1</td>\n",
              "    </tr>\n",
              "    <tr>\n",
              "      <th>7</th>\n",
              "      <td>7865729</td>\n",
              "      <td>개들의 전쟁 나오나요 나오면 빠로 보고 싶음</td>\n",
              "      <td>1</td>\n",
              "    </tr>\n",
              "    <tr>\n",
              "      <th>8</th>\n",
              "      <td>7477618</td>\n",
              "      <td>굿</td>\n",
              "      <td>1</td>\n",
              "    </tr>\n",
              "    <tr>\n",
              "      <th>9</th>\n",
              "      <td>9250537</td>\n",
              "      <td>바보가 아니라 병 쉰 인듯</td>\n",
              "      <td>1</td>\n",
              "    </tr>\n",
              "  </tbody>\n",
              "</table>\n",
              "</div>\n",
              "      <button class=\"colab-df-convert\" onclick=\"convertToInteractive('df-a7c86052-9eb7-4a90-a422-eefc519d433c')\"\n",
              "              title=\"Convert this dataframe to an interactive table.\"\n",
              "              style=\"display:none;\">\n",
              "        \n",
              "  <svg xmlns=\"http://www.w3.org/2000/svg\" height=\"24px\"viewBox=\"0 0 24 24\"\n",
              "       width=\"24px\">\n",
              "    <path d=\"M0 0h24v24H0V0z\" fill=\"none\"/>\n",
              "    <path d=\"M18.56 5.44l.94 2.06.94-2.06 2.06-.94-2.06-.94-.94-2.06-.94 2.06-2.06.94zm-11 1L8.5 8.5l.94-2.06 2.06-.94-2.06-.94L8.5 2.5l-.94 2.06-2.06.94zm10 10l.94 2.06.94-2.06 2.06-.94-2.06-.94-.94-2.06-.94 2.06-2.06.94z\"/><path d=\"M17.41 7.96l-1.37-1.37c-.4-.4-.92-.59-1.43-.59-.52 0-1.04.2-1.43.59L10.3 9.45l-7.72 7.72c-.78.78-.78 2.05 0 2.83L4 21.41c.39.39.9.59 1.41.59.51 0 1.02-.2 1.41-.59l7.78-7.78 2.81-2.81c.8-.78.8-2.07 0-2.86zM5.41 20L4 18.59l7.72-7.72 1.47 1.35L5.41 20z\"/>\n",
              "  </svg>\n",
              "      </button>\n",
              "      \n",
              "  <style>\n",
              "    .colab-df-container {\n",
              "      display:flex;\n",
              "      flex-wrap:wrap;\n",
              "      gap: 12px;\n",
              "    }\n",
              "\n",
              "    .colab-df-convert {\n",
              "      background-color: #E8F0FE;\n",
              "      border: none;\n",
              "      border-radius: 50%;\n",
              "      cursor: pointer;\n",
              "      display: none;\n",
              "      fill: #1967D2;\n",
              "      height: 32px;\n",
              "      padding: 0 0 0 0;\n",
              "      width: 32px;\n",
              "    }\n",
              "\n",
              "    .colab-df-convert:hover {\n",
              "      background-color: #E2EBFA;\n",
              "      box-shadow: 0px 1px 2px rgba(60, 64, 67, 0.3), 0px 1px 3px 1px rgba(60, 64, 67, 0.15);\n",
              "      fill: #174EA6;\n",
              "    }\n",
              "\n",
              "    [theme=dark] .colab-df-convert {\n",
              "      background-color: #3B4455;\n",
              "      fill: #D2E3FC;\n",
              "    }\n",
              "\n",
              "    [theme=dark] .colab-df-convert:hover {\n",
              "      background-color: #434B5C;\n",
              "      box-shadow: 0px 1px 3px 1px rgba(0, 0, 0, 0.15);\n",
              "      filter: drop-shadow(0px 1px 2px rgba(0, 0, 0, 0.3));\n",
              "      fill: #FFFFFF;\n",
              "    }\n",
              "  </style>\n",
              "\n",
              "      <script>\n",
              "        const buttonEl =\n",
              "          document.querySelector('#df-a7c86052-9eb7-4a90-a422-eefc519d433c button.colab-df-convert');\n",
              "        buttonEl.style.display =\n",
              "          google.colab.kernel.accessAllowed ? 'block' : 'none';\n",
              "\n",
              "        async function convertToInteractive(key) {\n",
              "          const element = document.querySelector('#df-a7c86052-9eb7-4a90-a422-eefc519d433c');\n",
              "          const dataTable =\n",
              "            await google.colab.kernel.invokeFunction('convertToInteractive',\n",
              "                                                     [key], {});\n",
              "          if (!dataTable) return;\n",
              "\n",
              "          const docLinkHtml = 'Like what you see? Visit the ' +\n",
              "            '<a target=\"_blank\" href=https://colab.research.google.com/notebooks/data_table.ipynb>data table notebook</a>'\n",
              "            + ' to learn more about interactive tables.';\n",
              "          element.innerHTML = '';\n",
              "          dataTable['output_type'] = 'display_data';\n",
              "          await google.colab.output.renderOutput(dataTable, element);\n",
              "          const docLink = document.createElement('div');\n",
              "          docLink.innerHTML = docLinkHtml;\n",
              "          element.appendChild(docLink);\n",
              "        }\n",
              "      </script>\n",
              "    </div>\n",
              "  </div>\n",
              "  "
            ]
          },
          "metadata": {},
          "execution_count": 46
        }
      ]
    },
    {
      "cell_type": "code",
      "source": [
        "# 불용어 정의\n",
        "stopwords=['의','가','이','은','들','는','좀','잘','걍','과','도','를','으로','자','에','와','한','하다']"
      ],
      "metadata": {
        "id": "JhBgu4Om_-TU"
      },
      "execution_count": 47,
      "outputs": []
    },
    {
      "cell_type": "code",
      "source": [
        "sentence = sample_data['document']\n",
        "tokenizer = Tokenizer()\n",
        "tokenizer.fit_on_texts(sentence)\n",
        "temp = [word for word in sentence if not word in stopwords] # 불용어 제거\n",
        "encoded = tokenizer.texts_to_sequences(temp)\n",
        "print(encoded)"
      ],
      "metadata": {
        "colab": {
          "base_uri": "https://localhost:8080/"
        },
        "id": "X9Iuj3BzD1O3",
        "outputId": "a7dcd609-3150-4019-c795-1ba60f809f5a"
      },
      "execution_count": 48,
      "outputs": [
        {
          "output_type": "stream",
          "name": "stdout",
          "text": [
            "[[41, 42, 43], [44, 45, 46, 47, 48, 49, 50, 51, 52, 53, 54, 55, 56, 14, 57, 20, 58, 59, 60, 13, 61, 62, 13, 63, 64, 65, 66, 5, 67, 68, 69], [70, 71, 72, 73, 74, 75, 76, 6], [77, 21, 3, 78, 79, 80, 81, 82, 83, 84, 3, 85], [86, 87, 88, 89, 90, 91, 13, 1], [92, 93, 94, 20, 95, 96], [22, 97, 98, 99], [100, 101, 102, 103, 104, 23, 105], [24], [106, 107, 108, 109, 110], [25, 111, 13, 26, 112, 7, 113, 114, 115, 116, 14, 117, 118, 27], [119], [120, 121], [122, 123, 124, 125, 126, 127, 128, 5, 28, 129], [130, 131, 132], [29, 15, 133, 134, 135, 3, 136, 3, 137, 138, 139, 140, 141], [142, 143, 144, 145, 146, 147], [148, 6], [149, 30, 31, 150, 151, 152], [153, 4, 154, 155, 156, 157, 158, 159, 160, 161], [162, 7, 163, 164, 165], [166, 167, 168, 169, 170, 171, 172, 173, 174, 175, 176, 177, 178, 179, 180, 181, 182, 183, 184, 185, 186, 187, 188, 189, 8, 190, 191, 192, 193, 194], [195, 196, 197], [198, 16, 199], [200, 24, 201], [202, 203, 204, 205, 206, 207, 208, 32, 209, 210, 211, 212, 213, 214, 215, 216, 2, 217, 218, 219, 220, 221], [222, 223, 224, 33, 225, 226, 227, 9, 8, 228], [229, 230, 231, 232, 233, 234, 235, 236, 10, 237, 238, 239, 240, 241], [17, 242, 243, 244, 245, 246, 247], [248, 31, 249, 250, 251, 252, 253, 254, 255, 1], [256, 257, 258, 259, 260, 261], [262, 16, 263, 264], [265, 266], [267, 268, 269, 270], [271, 272, 273, 274], [275, 276, 10, 277, 11, 278], [279, 280, 281, 282, 21, 283], [284, 285, 286, 287, 1], [288, 15, 289, 290, 34, 291, 292], [293, 294, 295, 296, 297, 1, 298, 299], [300, 301, 302, 303, 304, 305], [10, 306, 307, 308, 18, 309], [310, 311, 312, 18, 313, 314, 9, 35, 315, 316], [317, 318, 319, 320], [2, 36, 7, 321, 322, 6], [9, 323, 37, 324, 325, 326, 327, 328, 329, 330, 331, 332, 333, 334, 335, 37, 336, 337, 338, 339, 340, 341, 342, 343, 344, 11, 345, 346], [347, 348, 349, 350, 351, 352, 353, 354, 355, 356, 357, 358, 359, 360, 361, 362, 363], [364, 5, 28, 365, 366, 367, 368, 369, 370, 371, 372], [373, 374, 375, 38, 376, 377], [378], [2, 379, 380, 8, 381, 382, 383, 384, 385], [386, 387, 388, 389], [390, 391, 392, 393], [394, 395, 396, 397, 398], [399, 400, 34, 401, 402, 403, 404, 405, 406, 32, 407, 8, 39, 408, 409, 8, 39, 410, 411], [2, 412, 413, 414, 415], [11, 416, 15, 417, 418, 419], [420, 421, 422, 423], [9, 7, 1, 19, 424], [425], [426, 427, 1], [428, 429, 430, 431, 432, 433, 434, 435], [25, 436, 1], [437, 438, 439, 440, 441, 442, 443, 444, 445, 446], [447, 448, 449, 450, 451, 452, 453, 1], [454, 455, 456, 457, 458, 459, 460, 461, 462], [463], [464, 465, 466, 4, 3, 467, 468, 469, 470], [471, 472, 473], [474], [475], [476, 477, 478], [479, 480, 481, 482, 483, 7, 484, 485, 486, 12, 487, 488], [489, 490, 19, 6], [491, 492, 493, 494, 495, 496, 497, 10, 26, 498, 2], [18, 11, 499, 10, 500, 40, 501, 5, 502, 503, 27], [504], [2, 36, 505, 506, 507, 508, 509, 510, 511, 512, 513], [514, 515, 516, 4, 30, 517, 518, 519, 11, 520, 23, 521, 522, 22, 523], [524, 525, 526, 527, 528, 529, 530, 531, 532, 533, 534, 535, 536, 537], [9, 538, 539, 540, 541, 12, 542], [543, 544], [545, 546, 547, 548], [549, 4, 550, 551, 552, 553, 554, 555, 556, 557, 558], [559, 560, 561, 562, 563, 564, 565], [566, 567, 568], [569], [570, 571, 572], [573, 574, 575, 576, 577, 578, 579, 580, 581, 582, 583], [584, 38, 585, 586], [587, 588, 589, 590, 591], [1, 19, 592, 593, 33, 5, 594, 29, 595, 596, 2, 597, 598], [599, 600, 601, 4, 2, 602, 603, 604, 605], [606, 607, 608, 609, 610], [611, 612, 14, 613, 614, 615, 616], [3, 17, 6, 617, 618, 619], [620, 35, 621, 622, 623, 624, 625, 626], [627, 628, 17], [629], [630, 631, 632, 40, 4, 3, 12, 633, 634, 635, 636, 12, 637, 638, 639, 16, 640, 641, 642, 12, 643, 644, 645, 646, 647, 648, 649, 650, 651, 652, 653, 654, 655, 656, 657]]\n"
          ]
        }
      ]
    },
    {
      "cell_type": "code",
      "source": [
        "\n",
        "padded = pad_sequences(encoded)\n",
        "padded"
      ],
      "metadata": {
        "colab": {
          "base_uri": "https://localhost:8080/"
        },
        "id": "LyrBc0ZvDfSf",
        "outputId": "66536650-729c-4a56-a135-3c2f8453d644"
      },
      "execution_count": 49,
      "outputs": [
        {
          "output_type": "execute_result",
          "data": {
            "text/plain": [
              "array([[  0,   0,   0, ...,  41,  42,  43],\n",
              "       [  0,   0,   0, ...,  67,  68,  69],\n",
              "       [  0,   0,   0, ...,  75,  76,   6],\n",
              "       ...,\n",
              "       [  0,   0,   0, ..., 627, 628,  17],\n",
              "       [  0,   0,   0, ...,   0,   0, 629],\n",
              "       [630, 631, 632, ..., 655, 656, 657]], dtype=int32)"
            ]
          },
          "metadata": {},
          "execution_count": 49
        }
      ]
    },
    {
      "cell_type": "code",
      "source": [
        "padded = pad_sequences(encoded, padding='post')\n",
        "padded"
      ],
      "metadata": {
        "colab": {
          "base_uri": "https://localhost:8080/"
        },
        "id": "AJqxbQ3fDfXq",
        "outputId": "362941eb-1cbc-45bf-95b5-f18791f21a78"
      },
      "execution_count": 50,
      "outputs": [
        {
          "output_type": "execute_result",
          "data": {
            "text/plain": [
              "array([[ 41,  42,  43, ...,   0,   0,   0],\n",
              "       [ 44,  45,  46, ...,   0,   0,   0],\n",
              "       [ 70,  71,  72, ...,   0,   0,   0],\n",
              "       ...,\n",
              "       [627, 628,  17, ...,   0,   0,   0],\n",
              "       [629,   0,   0, ...,   0,   0,   0],\n",
              "       [630, 631, 632, ..., 655, 656, 657]], dtype=int32)"
            ]
          },
          "metadata": {},
          "execution_count": 50
        }
      ]
    },
    {
      "cell_type": "code",
      "source": [
        "max_len = max(len(l) for l in encoded)\n",
        "print('리뷰의 최대 길이 : %d' % max_len)\n",
        "print('리뷰의 최소 길이 : %d' % min(len(l) for l in encoded))\n",
        "print('리뷰의 평균 길이 : %f' % (sum(map(len, encoded))/len(encoded)))\n",
        "plt.hist([len(s) for s in encoded], bins=50)\n",
        "plt.xlabel('length of sample')\n",
        "plt.ylabel('number of sample')\n",
        "plt.show()"
      ],
      "metadata": {
        "colab": {
          "base_uri": "https://localhost:8080/",
          "height": 0
        },
        "id": "xF5M1TktCauZ",
        "outputId": "a1671a8d-326d-4fbb-a1ba-7288ef022f47"
      },
      "execution_count": 51,
      "outputs": [
        {
          "output_type": "stream",
          "name": "stdout",
          "text": [
            "리뷰의 최대 길이 : 35\n",
            "리뷰의 최소 길이 : 1\n",
            "리뷰의 평균 길이 : 7.510000\n"
          ]
        },
        {
          "output_type": "display_data",
          "data": {
            "text/plain": [
              "<Figure size 432x288 with 1 Axes>"
            ],
            "image/png": "[encoded data removed]"
          },
          "metadata": {
            "needs_background": "light"
          }
        }
      ]
    },
    {
      "cell_type": "markdown",
      "source": [
        "## 단어의 의미 파악 \n",
        "\n",
        "### 시소러스 활용 기법\n",
        "사전에 단어의 의미를 정의, 동의어 및 유의어가 한 그룹으로 분류되어 있는 사전 \n",
        "단어들의 의미를 상위, 하위 관계에 기초하여 표현 \n",
        "시소러스를 만들고 관리하기 위해 비용이 많이들고 단어의 미묘한 차이를 표현하기 어렵다는 단점이 존재한다. \n",
        "\n",
        "#### 시소러스의 대표적인 모델 WordNet (Directed Acyclic Graph,DAG 로 구성) 특징 별 수치를 모아 벡터로 표현\n",
        "\n",
        "* WordNet 특징 \n",
        "* 단어의 특징 벡터를 구성하기 위한 가정 ,의미가 비슷한 단어라면 쓰임새가 비슷할 것, 쓰임새가 비슷하므로 비슷한 문장 안에서 비슷한 역할로 사용될 것 따라서 함께 나타나는 단어들이 유사할 것\n",
        "\n",
        "\n",
        "\n"
      ],
      "metadata": {
        "id": "dkmwAuFqdTQe"
      }
    },
    {
      "cell_type": "markdown",
      "source": [
        "### TF-IDF(Term Frequency-Inverse Document Frequency)\n",
        "TF-IDF(Term Frequency-Inverse Document Frequency)는 단어의 빈도와 역 문서 빈도(문서의 빈도에 특정 식을 취함)를 사용하여 DTM 내의 각 단어들마다 중요한 정도를 가중치로 주는 방법입니다. 우선 DTM을 만든 후, TF-IDF 가중치를 부여\n",
        "\n",
        "TF-IDF는 주로 문서의 유사도를 구하는 작업, 검색 시스템에서 검색 결과의 중요도를 정하는 작업, 문서 내에서 특정 단어의 중요도를 구하는 작업 등에 쓰일 수 있다.  \n",
        "\n",
        "* TF:단어가문서에 출현한횟수, 값이클수록 문서에서 중요한단어일 확률높음\n",
        "* DF:해당단어가 출현한문서의수, 값이클수록 중요하다고하기보다는 일반적으로 많이 쓰이는 단어일 가능성이 높음(‘the’와 같은 것)\n",
        "\n",
        "$idf(d,t) = log(n / 1+ df(t))$\n",
        "\n",
        "\n",
        "TF-IDF는 모든 문서에서 자주 등장하는 단어는 중요도가 낮다고 판단하며, 특정 문서에서만 자주 등장하는 단어는 중요도가 높다고 판단한다. TF-IDF 값이 낮으면 중요도가 낮은 것이며, TF-IDF 값이 크면 중요도가 큰 것이다. 즉, the나 a와 같이 불용어의 경우에는 모든 문서에 자주 등장하기 마련이기 때문에 자연스럽게 불용어의 TF-IDF의 값은 다른 단어의 TF-IDF에 비해서 낮아지게 된다."
      ],
      "metadata": {
        "id": "z261xGkudTV8"
      }
    },
    {
      "cell_type": "code",
      "source": [
        "# WordNet 사용 \n",
        "\n",
        "import nltk\n",
        "nltk.download('wordnet')"
      ],
      "metadata": {
        "colab": {
          "base_uri": "https://localhost:8080/"
        },
        "id": "HTEH12pRdUTI",
        "outputId": "1f00b0cb-69a8-4433-f416-6e767e2c2a38"
      },
      "execution_count": 52,
      "outputs": [
        {
          "output_type": "stream",
          "name": "stdout",
          "text": [
            "[nltk_data] Downloading package wordnet to /root/nltk_data...\n",
            "[nltk_data]   Package wordnet is already up-to-date!\n"
          ]
        },
        {
          "output_type": "execute_result",
          "data": {
            "text/plain": [
              "True"
            ]
          },
          "metadata": {},
          "execution_count": 52
        }
      ]
    },
    {
      "cell_type": "code",
      "source": [
        "from nltk.corpus import wordnet"
      ],
      "metadata": {
        "id": "Yrv0bpCvdUYz"
      },
      "execution_count": 53,
      "outputs": []
    },
    {
      "cell_type": "markdown",
      "source": [
        "- \"car\"라는 단어가 가지고 있는 그룹 확인하기\n",
        "  - \"car\"라는 단어에는 다섯 가지 의미(정확하게는 5개의 서로 다른 동의어 그룹)가 정의되어 있다는 뜻임\n"
      ],
      "metadata": {
        "id": "9700pvKRdUkF"
      }
    },
    {
      "cell_type": "code",
      "source": [
        "wordnet.synsets('car')"
      ],
      "metadata": {
        "colab": {
          "base_uri": "https://localhost:8080/"
        },
        "id": "MLYXmSWYdUo4",
        "outputId": "49e311b4-f741-4553-e532-9f239f74484b"
      },
      "execution_count": 54,
      "outputs": [
        {
          "output_type": "execute_result",
          "data": {
            "text/plain": [
              "[Synset('car.n.01'),\n",
              " Synset('car.n.02'),\n",
              " Synset('car.n.03'),\n",
              " Synset('car.n.04'),\n",
              " Synset('cable_car.n.01')]"
            ]
          },
          "metadata": {},
          "execution_count": 54
        }
      ]
    },
    {
      "cell_type": "markdown",
      "source": [
        "- 동의어 그룹을 지정하여 그 정의를 확인하기\n",
        "  - \"car.n.01\" 의 의미는 \"네개의 바퀴를 가진 차량. 일반적으로 내연기관에 의해 움직인다\"임\n",
        "  - \"car.n.02\"의 의미는 \"철도 레일에 적합한 바퀴 달린 차량\"을 의미함"
      ],
      "metadata": {
        "id": "PSQSedBxdUtz"
      }
    },
    {
      "cell_type": "code",
      "source": [
        "car = wordnet.synset('car.n.01')    # 동의어 그룹 지정\n",
        "car.definition()"
      ],
      "metadata": {
        "colab": {
          "base_uri": "https://localhost:8080/",
          "height": 36
        },
        "id": "i3CbSuJfdUyY",
        "outputId": "ccacacfa-36c9-4ceb-9a1e-8d2f8d1cd85c"
      },
      "execution_count": 55,
      "outputs": [
        {
          "output_type": "execute_result",
          "data": {
            "text/plain": [
              "'a motor vehicle with four wheels; usually propelled by an internal combustion engine'"
            ],
            "application/vnd.google.colaboratory.intrinsic+json": {
              "type": "string"
            }
          },
          "metadata": {},
          "execution_count": 55
        }
      ]
    },
    {
      "cell_type": "code",
      "source": [
        "car2 = wordnet.synset('car.n.02')    # 동의어 그룹 지정\n",
        "car2.definition()"
      ],
      "metadata": {
        "colab": {
          "base_uri": "https://localhost:8080/",
          "height": 36
        },
        "id": "BmAwv8GedU22",
        "outputId": "7d58dd76-28bf-4615-a19f-f1c44fb0dd67"
      },
      "execution_count": 56,
      "outputs": [
        {
          "output_type": "execute_result",
          "data": {
            "text/plain": [
              "'a wheeled vehicle adapted to the rails of railroad'"
            ],
            "application/vnd.google.colaboratory.intrinsic+json": {
              "type": "string"
            }
          },
          "metadata": {},
          "execution_count": 56
        }
      ]
    },
    {
      "cell_type": "code",
      "source": [
        "# 동의어 그룹에 속한 단어들의 이름 가져오기 \n",
        "\n",
        "car.lemma_names()"
      ],
      "metadata": {
        "colab": {
          "base_uri": "https://localhost:8080/"
        },
        "id": "tst3jc1vdU8b",
        "outputId": "c2f4b8b4-6d6f-4f78-ac0f-a59e817b9ecc"
      },
      "execution_count": 57,
      "outputs": [
        {
          "output_type": "execute_result",
          "data": {
            "text/plain": [
              "['car', 'auto', 'automobile', 'machine', 'motorcar']"
            ]
          },
          "metadata": {},
          "execution_count": 57
        }
      ]
    },
    {
      "cell_type": "code",
      "source": [
        "car2.lemma_names()"
      ],
      "metadata": {
        "colab": {
          "base_uri": "https://localhost:8080/"
        },
        "id": "X0wC6oShdVBP",
        "outputId": "14ab13e8-933f-4b6a-806a-8493889c92fb"
      },
      "execution_count": 58,
      "outputs": [
        {
          "output_type": "execute_result",
          "data": {
            "text/plain": [
              "['car', 'railcar', 'railway_car', 'railroad_car']"
            ]
          },
          "metadata": {},
          "execution_count": 58
        }
      ]
    },
    {
      "cell_type": "markdown",
      "source": [
        "- WordNet과 단어 네트워크 확인\n",
        "  - \"car\"의 단어 네트워크를 사용하여 다른 단어와의 의미적인 상하관계 살펴보기\n",
        "  - \"entity > physical_entity > object > ... > motor_vehicle > car\"의 경로를 따라감을 알 수 있음\n",
        "  - WordNet을 구성하는 단어 네트워크는 위로 갈수록 추상적이고, 아래로 갈수록 구체적인 단어로 배치됨"
      ],
      "metadata": {
        "id": "WczmifBCdVGD"
      }
    },
    {
      "cell_type": "code",
      "source": [
        "car.hypernym_paths()[0]"
      ],
      "metadata": {
        "colab": {
          "base_uri": "https://localhost:8080/"
        },
        "id": "HJn_gcSedVKf",
        "outputId": "11bce317-f4c4-47b1-f433-edd41aa16d54"
      },
      "execution_count": 59,
      "outputs": [
        {
          "output_type": "execute_result",
          "data": {
            "text/plain": [
              "[Synset('entity.n.01'),\n",
              " Synset('physical_entity.n.01'),\n",
              " Synset('object.n.01'),\n",
              " Synset('whole.n.02'),\n",
              " Synset('artifact.n.01'),\n",
              " Synset('instrumentality.n.03'),\n",
              " Synset('container.n.01'),\n",
              " Synset('wheeled_vehicle.n.01'),\n",
              " Synset('self-propelled_vehicle.n.01'),\n",
              " Synset('motor_vehicle.n.01'),\n",
              " Synset('car.n.01')]"
            ]
          },
          "metadata": {},
          "execution_count": 59
        }
      ]
    },
    {
      "cell_type": "code",
      "source": [
        "car = wordnet.synset('car.n.01')\n",
        "novel = wordnet.synset('novel.n.01')\n",
        "dog = wordnet.synset('dog.n.01')\n",
        "motorcycle = wordnet.synset('motorcycle.n.01')"
      ],
      "metadata": {
        "id": "yUMHilwvdVPQ"
      },
      "execution_count": 60,
      "outputs": []
    },
    {
      "cell_type": "code",
      "source": [
        "# 유사도 계산 \n",
        "\n",
        "car.path_similarity(novel)"
      ],
      "metadata": {
        "colab": {
          "base_uri": "https://localhost:8080/"
        },
        "id": "OAdUj_KAdVT2",
        "outputId": "7c75f8a2-4d64-4bd2-f70b-0a426f6c859c"
      },
      "execution_count": 61,
      "outputs": [
        {
          "output_type": "execute_result",
          "data": {
            "text/plain": [
              "0.05555555555555555"
            ]
          },
          "metadata": {},
          "execution_count": 61
        }
      ]
    },
    {
      "cell_type": "code",
      "source": [
        "car.path_similarity(dog)"
      ],
      "metadata": {
        "colab": {
          "base_uri": "https://localhost:8080/"
        },
        "id": "34PUsmMNdVXv",
        "outputId": "314b746b-ab81-48bc-9996-2407f666836a"
      },
      "execution_count": 62,
      "outputs": [
        {
          "output_type": "execute_result",
          "data": {
            "text/plain": [
              "0.07692307692307693"
            ]
          },
          "metadata": {},
          "execution_count": 62
        }
      ]
    },
    {
      "cell_type": "code",
      "source": [
        "car.path_similarity(motorcycle)"
      ],
      "metadata": {
        "colab": {
          "base_uri": "https://localhost:8080/"
        },
        "id": "82l8lwmti434",
        "outputId": "01bab445-f68c-4c8e-d6ea-054f5d9e74f4"
      },
      "execution_count": 63,
      "outputs": [
        {
          "output_type": "execute_result",
          "data": {
            "text/plain": [
              "0.3333333333333333"
            ]
          },
          "metadata": {},
          "execution_count": 63
        }
      ]
    },
    {
      "cell_type": "code",
      "source": [
        "# 특징 추출 \n",
        "# TF-IDF \n",
        "\n",
        "doc1 = '''\n",
        "지능지수라는 말을 들어보셨을겁니다. 여러분의 지성을 일컫는 말이죠. 그런데 심리지수란건 뭘까요? 사람들이 특정한 방식으로 행동하는 이유에 대해 여러분은 얼마나 알고 계시나요? 또 타인이나 심지어 여러분의 행동을 예측하는 일은 얼마나 잘 하시나요? 또, 심리학에 대해 갖춘 지식 중에서 어느 정도나 잘못된 것일까요? 심리학에 관한 열 가지 신화를 통해 잘못된 것들을 알아보도록 하죠. 여러분은 한 번쯤 들어 보셨을 법한 것은 자신들의 심리학에 대해 고려할 때, 거의 항상 남자는 화성에서 왔고, 여자는 금성에서 온 것 같다고 합니다. 하지만 실제로 남자와 여자는 얼마나 다른 걸까요? 이를 알아보기 위해, 일단 남녀 사이에 확실하게 차이나는 것을 살펴보고 심리학적인 성별 간의 차이점을 동일한 척도 상에서 대비해 보도록 하겠습니다. 남자와 여자 간에 실제로 차이나는 능력 중 하나는 그들이 공을 얼마나 멀리 던질 수 있느냐 하는 것입니다. 여기 남자들의 데이타를 보시면, 정상 분포 곡선이라는걸 볼 수 있습니다. 남자들 소수는 정말 멀리 던지고, 남자들 소수는 멀리 던지지 못하지만, 남자들 대부분은 평균적인 거리를 던졌습니다. 여자들도 역시 비슷한 분포 상태를 보입니다만 사실 남녀 사이엔 커다란 차이가 있습니다. 사실, 평균 수준의 남자라면 모든 여성 중 대략 98%보다 더 멀리 던질 수 있거든요. 이와 동일하게 표준화된 척도 상에서 심리학에서 말하는 성별 간의 차이를 살펴봅시다. 심리학자라는 여러분에게 말하길 남자들의 공간지각 능력이 여자들보다 뛰어나다고 할겁니다. 예를 들어, 지도를 읽는 능력같은건데, 맞는 말입니다. 하지만 그 차이의 정도를 살펴봅시다. 아주 작죠 . 두 선이 너무 근접해서 거의 겹칠 정도입니다.\n",
        "'''\n",
        "\n",
        "doc2 = '''\n",
        "최상의 제시 유형은 학습자에 좌우되는 것이 아니라 학습해야 할 내용에 따라 좌우됩니다. 예를 들어 여러분이 운전하기를 배울 때 실제로 몸으로 체감하는 경험 없이 누군가가 어떻게 할 지 이야기하는 것을 듣는 것만으로 배울 수 있습니까? 연립 방정식을 풀어야 하는데 종이에 쓰지않고 머리 속에서 말하는 것으로 풀 수가 있을까요? 또는 만일 여러분이 체감 형식의 학습자 유형이라면, 건축학 시험을 해석적 춤을 이용하여 수정할 수 있을까요? 아니죠! 배워야 할 내용을 제시된 유형에 맞추어야 합니다, 당신에게 맞추는게 아니라요. 여러분들 상당수가 \"A\" 급의 우등생이라는 걸 아는데, 조만간 중등학력 인증시험(GCSE) 결과를 받게 되시겠네요. 그런데, 만일, 여러분들이 희망했던 성적을 받지 못하게 된다해도 여러분들의 학습 방식을 탓해서는 안되는 겁니다. 여러분이 비난할 수 있는 한 가지는 바로 유전자입니다. 이건 최근에 런던 대학교(UCL)에서 수행했던 연구 결과는 여러 학생들과 그들의 중등학력 인증시험 결과 사이의 차이 중 58%는 유전적인 요인으로 좁혀졌습니다. 매우 정밀한 수치처럼 들립니다. 그러면 어떻게 알 수 있을까요? 유전적 요인과 환경적 요인의 상대적 기여도를 알고 싶을 때 우리가 사용할 수 있는 방식은 바로 쌍둥이 연구입니다. 일란성 쌍생아의 경우 환경적 요인과 유전적 요인 모두를 100% 똑같이 공유하게 되지만 이란성 쌍생아의 경우는 100% 동일한 환경을 공유하지만 유전자의 경우 여타의 형제자매들 처럼 50%만 공유하게 됩니다. 따라서 일란성 쌍둥이와 이란성 쌍둥이 사이의 인증시험 결과가 얼마나 비슷한지 비교해 보고 여기에 약간의 수학적 계산을 더하게 되면 그 수행 능력의 차이 중 어느 정도가 환경적 요인의 탓이고 어느 정도가 유전자 탓인지를 알 수 있게 됩니다 .\n",
        "'''\n",
        "\n",
        "doc3 = '''\n",
        "그러나 이 이야기는 세 가지 이유로 인해 신화와 같습니다. 첫째, 가장 중요한 건 실험실 가운은 흰색이 아니라 회색이었다라는 점이죠. 둘째, 참여자들은 실험하기 전에와 참여자들이 걱정을 표현할 때마다 상기시키는 말을 들었는데, 전기 충격이 고통스럽기는 하지만, 치명적이지는 않으며 실제로 영구적인 손상을 남기는 일은 없을거라는 것이었습니다. 셋째, 참여자들은 단지 가운을 입은 사람이 시켜 전기 충격을 주지는 않았죠. 실험이 끝나고 그들의 인터뷰를 했을때 모든 참여자들은 강한 신념을 밝혔는데, '학습과 처벌' 연구가 과학적으로 가치있는 목적을 수행했기 때문에 비록 동료 참여자들에게 가해진 순간적인 불편함에 반해서 과학을 위해서 오래 남을 성과를 얻을것이라고 말이죠. 그러다 보니 제가 이야기를 한 지 벌써 12분이 되었습니다. 여러분들 중에는 아마 거기 앉아서 제 이야기를 들으시는 동안 저의 말투와 몸짓을 분석하면서 제가 말하는 어떤 것을 인지해야 할까 해결하려고 하셨을겁니다, 제가 진실을 이야기하는지, 또는 거짓말을 하고 있는것인지 말이죠. 만일 그러셨다면, 아마 지금쯤 완전히 실패하셨을겁니다. 왜냐하면 우리 모두가 사람이 말하는 패턴과 몸짓으로도 거짓말 여부를 알아내는 것 이 가능하다고 생각하지만, 오랜 세월 수 백회에 걸쳐 행해진 실제 심리검사의 결과를 보면 우리들 모두는, 심지어 경찰관이나 탐정들을 포함해서도 기본적으로 몸짓과 언어적 패턴으로 거짓말을 탐지하는 것은 운에 맡길 수 밖에는 없는 것입니다. 흥미롭게도 한 가지 예외가 있는데요: 실종된 친척을 찾아달라고 호소하 는 TV 홍보입니다.\n",
        "'''"
      ],
      "metadata": {
        "id": "0TYnQeeti49R"
      },
      "execution_count": 64,
      "outputs": []
    },
    {
      "cell_type": "code",
      "source": [
        "# 특정 문서가 주어졌을 때, 문서 내의 단어들의 출현 빈도를 세는 함수\n",
        "def get_term_frequency(document, word_dict=None):\n",
        "    if word_dict is None:\n",
        "        word_dict = {}\n",
        "    words = document.split()\n",
        "\n",
        "    for w in words:\n",
        "        word_dict[w] = 1 + (0 if word_dict.get(w) is None else word_dict[w])\n",
        "\n",
        "    return pd.Series(word_dict).sort_values(ascending=False)"
      ],
      "metadata": {
        "id": "rrQRojsei5DC"
      },
      "execution_count": 65,
      "outputs": []
    },
    {
      "cell_type": "code",
      "source": [
        "get_term_frequency(doc1)"
      ],
      "metadata": {
        "colab": {
          "base_uri": "https://localhost:8080/"
        },
        "id": "mxmPg8ZIi5Ie",
        "outputId": "568ee086-25a0-4e96-f45b-88a1e9c1f8fd"
      },
      "execution_count": 66,
      "outputs": [
        {
          "output_type": "execute_result",
          "data": {
            "text/plain": [
              "얼마나       4\n",
              "멀리        4\n",
              "심리학에      3\n",
              "수         3\n",
              "대해        3\n",
              "         ..\n",
              "온         1\n",
              "것         1\n",
              "같다고       1\n",
              "합니다.      1\n",
              "정도입니다.    1\n",
              "Length: 175, dtype: int64"
            ]
          },
          "metadata": {},
          "execution_count": 66
        }
      ]
    },
    {
      "cell_type": "code",
      "source": [
        "# 문서들이 주어졌을 때 각 단어가 몇 개의 문서에서 나타났는지 세는 함수\n",
        "def get_document_frequency(documents):\n",
        "    dicts = []\n",
        "    vocab = set([])\n",
        "    df = {}\n",
        "\n",
        "    for d in documents:\n",
        "        tf = get_term_frequency(d)\n",
        "        dicts += [tf]\n",
        "        vocab = vocab | set(tf.keys())\n",
        "    \n",
        "    for v in list(vocab):\n",
        "        df[v] = 0\n",
        "        for dict_d in dicts:\n",
        "            if dict_d.get(v) is not None:\n",
        "                df[v] += 1\n",
        "\n",
        "    return pd.Series(df).sort_values(ascending=False)"
      ],
      "metadata": {
        "id": "_dnRProDi5Nt"
      },
      "execution_count": 67,
      "outputs": []
    },
    {
      "cell_type": "code",
      "source": [
        "get_document_frequency([doc1, doc2])"
      ],
      "metadata": {
        "colab": {
          "base_uri": "https://localhost:8080/"
        },
        "id": "FfAFIJ9Xi5S6",
        "outputId": "5b79fb1d-3d70-4d68-e9f3-99d7a78114d4"
      },
      "execution_count": 68,
      "outputs": [
        {
          "output_type": "execute_result",
          "data": {
            "text/plain": [
              "것을      2\n",
              "동일한     2\n",
              "한       2\n",
              "그       2\n",
              "어느      2\n",
              "       ..\n",
              "여러분은    1\n",
              "방정식을    1\n",
              "고려할     1\n",
              "수행했던    1\n",
              "남자는     1\n",
              "Length: 343, dtype: int64"
            ]
          },
          "metadata": {},
          "execution_count": 68
        }
      ]
    },
    {
      "cell_type": "code",
      "source": [
        "def get_tfidf(docs):\n",
        "    vocab = {}\n",
        "    tfs = []\n",
        "    for d in docs:\n",
        "        vocab = get_term_frequency(d, vocab)\n",
        "        tfs += [get_term_frequency(d)]\n",
        "    df = get_document_frequency(docs)\n",
        "\n",
        "    from operator import itemgetter\n",
        "    import numpy as np\n",
        "\n",
        "    stats = []\n",
        "    for word, freq in vocab.items():\n",
        "        tfidfs = []\n",
        "        for idx in range(len(docs)):\n",
        "            if tfs[idx].get(word) is not None:\n",
        "                tfidfs += [tfs[idx][word] * np.log(len(docs) / df[word])]\n",
        "            else:\n",
        "                tfidfs += [0]\n",
        "\n",
        "        stats.append((word, freq, *tfidfs, max(tfidfs)))\n",
        "\n",
        "    return pd.DataFrame(stats, columns=('word',\n",
        "                                        'frequency',\n",
        "                                        'doc1',\n",
        "                                        'doc2',\n",
        "                                        'doc3',\n",
        "                                        'max')).sort_values('max', ascending=False)"
      ],
      "metadata": {
        "id": "HnxBAFKAi5Xa"
      },
      "execution_count": 69,
      "outputs": []
    },
    {
      "cell_type": "code",
      "source": [
        "get_tfidf([doc1, doc2, doc3])"
      ],
      "metadata": {
        "colab": {
          "base_uri": "https://localhost:8080/",
          "height": 423
        },
        "id": "SjGAqM2Wi5cY",
        "outputId": "46b6bbe2-0214-4591-af36-ee7101ea138a"
      },
      "execution_count": 70,
      "outputs": [
        {
          "output_type": "execute_result",
          "data": {
            "text/plain": [
              "     word  frequency      doc1      doc2      doc3       max\n",
              "3      멀리          4  4.394449  0.000000  0.000000  4.394449\n",
              "13    환경적          3  0.000000  3.295837  0.000000  3.295837\n",
              "15   심리학에          3  3.295837  0.000000  0.000000  3.295837\n",
              "19    남자들          3  3.295837  0.000000  0.000000  3.295837\n",
              "9   참여자들은          3  0.000000  0.000000  3.295837  3.295837\n",
              "..    ...        ...       ...       ...       ...       ...\n",
              "12     것을          3  0.000000  0.000000  0.000000  0.000000\n",
              "6       한          4  0.000000  0.000000  0.000000  0.000000\n",
              "5     말하는          4  0.000000  0.000000  0.000000  0.000000\n",
              "4     실제로          4  0.000000  0.000000  0.000000  0.000000\n",
              "0       수         11  0.000000  0.000000  0.000000  0.000000\n",
              "\n",
              "[492 rows x 6 columns]"
            ],
            "text/html": [
              "\n",
              "  <div id=\"df-5dfe0b94-c623-410b-8fb2-c04e50336799\">\n",
              "    <div class=\"colab-df-container\">\n",
              "      <div>\n",
              "<style scoped>\n",
              "    .dataframe tbody tr th:only-of-type {\n",
              "        vertical-align: middle;\n",
              "    }\n",
              "\n",
              "    .dataframe tbody tr th {\n",
              "        vertical-align: top;\n",
              "    }\n",
              "\n",
              "    .dataframe thead th {\n",
              "        text-align: right;\n",
              "    }\n",
              "</style>\n",
              "<table border=\"1\" class=\"dataframe\">\n",
              "  <thead>\n",
              "    <tr style=\"text-align: right;\">\n",
              "      <th></th>\n",
              "      <th>word</th>\n",
              "      <th>frequency</th>\n",
              "      <th>doc1</th>\n",
              "      <th>doc2</th>\n",
              "      <th>doc3</th>\n",
              "      <th>max</th>\n",
              "    </tr>\n",
              "  </thead>\n",
              "  <tbody>\n",
              "    <tr>\n",
              "      <th>3</th>\n",
              "      <td>멀리</td>\n",
              "      <td>4</td>\n",
              "      <td>4.394449</td>\n",
              "      <td>0.000000</td>\n",
              "      <td>0.000000</td>\n",
              "      <td>4.394449</td>\n",
              "    </tr>\n",
              "    <tr>\n",
              "      <th>13</th>\n",
              "      <td>환경적</td>\n",
              "      <td>3</td>\n",
              "      <td>0.000000</td>\n",
              "      <td>3.295837</td>\n",
              "      <td>0.000000</td>\n",
              "      <td>3.295837</td>\n",
              "    </tr>\n",
              "    <tr>\n",
              "      <th>15</th>\n",
              "      <td>심리학에</td>\n",
              "      <td>3</td>\n",
              "      <td>3.295837</td>\n",
              "      <td>0.000000</td>\n",
              "      <td>0.000000</td>\n",
              "      <td>3.295837</td>\n",
              "    </tr>\n",
              "    <tr>\n",
              "      <th>19</th>\n",
              "      <td>남자들</td>\n",
              "      <td>3</td>\n",
              "      <td>3.295837</td>\n",
              "      <td>0.000000</td>\n",
              "      <td>0.000000</td>\n",
              "      <td>3.295837</td>\n",
              "    </tr>\n",
              "    <tr>\n",
              "      <th>9</th>\n",
              "      <td>참여자들은</td>\n",
              "      <td>3</td>\n",
              "      <td>0.000000</td>\n",
              "      <td>0.000000</td>\n",
              "      <td>3.295837</td>\n",
              "      <td>3.295837</td>\n",
              "    </tr>\n",
              "    <tr>\n",
              "      <th>...</th>\n",
              "      <td>...</td>\n",
              "      <td>...</td>\n",
              "      <td>...</td>\n",
              "      <td>...</td>\n",
              "      <td>...</td>\n",
              "      <td>...</td>\n",
              "    </tr>\n",
              "    <tr>\n",
              "      <th>12</th>\n",
              "      <td>것을</td>\n",
              "      <td>3</td>\n",
              "      <td>0.000000</td>\n",
              "      <td>0.000000</td>\n",
              "      <td>0.000000</td>\n",
              "      <td>0.000000</td>\n",
              "    </tr>\n",
              "    <tr>\n",
              "      <th>6</th>\n",
              "      <td>한</td>\n",
              "      <td>4</td>\n",
              "      <td>0.000000</td>\n",
              "      <td>0.000000</td>\n",
              "      <td>0.000000</td>\n",
              "      <td>0.000000</td>\n",
              "    </tr>\n",
              "    <tr>\n",
              "      <th>5</th>\n",
              "      <td>말하는</td>\n",
              "      <td>4</td>\n",
              "      <td>0.000000</td>\n",
              "      <td>0.000000</td>\n",
              "      <td>0.000000</td>\n",
              "      <td>0.000000</td>\n",
              "    </tr>\n",
              "    <tr>\n",
              "      <th>4</th>\n",
              "      <td>실제로</td>\n",
              "      <td>4</td>\n",
              "      <td>0.000000</td>\n",
              "      <td>0.000000</td>\n",
              "      <td>0.000000</td>\n",
              "      <td>0.000000</td>\n",
              "    </tr>\n",
              "    <tr>\n",
              "      <th>0</th>\n",
              "      <td>수</td>\n",
              "      <td>11</td>\n",
              "      <td>0.000000</td>\n",
              "      <td>0.000000</td>\n",
              "      <td>0.000000</td>\n",
              "      <td>0.000000</td>\n",
              "    </tr>\n",
              "  </tbody>\n",
              "</table>\n",
              "<p>492 rows × 6 columns</p>\n",
              "</div>\n",
              "      <button class=\"colab-df-convert\" onclick=\"convertToInteractive('df-5dfe0b94-c623-410b-8fb2-c04e50336799')\"\n",
              "              title=\"Convert this dataframe to an interactive table.\"\n",
              "              style=\"display:none;\">\n",
              "        \n",
              "  <svg xmlns=\"http://www.w3.org/2000/svg\" height=\"24px\"viewBox=\"0 0 24 24\"\n",
              "       width=\"24px\">\n",
              "    <path d=\"M0 0h24v24H0V0z\" fill=\"none\"/>\n",
              "    <path d=\"M18.56 5.44l.94 2.06.94-2.06 2.06-.94-2.06-.94-.94-2.06-.94 2.06-2.06.94zm-11 1L8.5 8.5l.94-2.06 2.06-.94-2.06-.94L8.5 2.5l-.94 2.06-2.06.94zm10 10l.94 2.06.94-2.06 2.06-.94-2.06-.94-.94-2.06-.94 2.06-2.06.94z\"/><path d=\"M17.41 7.96l-1.37-1.37c-.4-.4-.92-.59-1.43-.59-.52 0-1.04.2-1.43.59L10.3 9.45l-7.72 7.72c-.78.78-.78 2.05 0 2.83L4 21.41c.39.39.9.59 1.41.59.51 0 1.02-.2 1.41-.59l7.78-7.78 2.81-2.81c.8-.78.8-2.07 0-2.86zM5.41 20L4 18.59l7.72-7.72 1.47 1.35L5.41 20z\"/>\n",
              "  </svg>\n",
              "      </button>\n",
              "      \n",
              "  <style>\n",
              "    .colab-df-container {\n",
              "      display:flex;\n",
              "      flex-wrap:wrap;\n",
              "      gap: 12px;\n",
              "    }\n",
              "\n",
              "    .colab-df-convert {\n",
              "      background-color: #E8F0FE;\n",
              "      border: none;\n",
              "      border-radius: 50%;\n",
              "      cursor: pointer;\n",
              "      display: none;\n",
              "      fill: #1967D2;\n",
              "      height: 32px;\n",
              "      padding: 0 0 0 0;\n",
              "      width: 32px;\n",
              "    }\n",
              "\n",
              "    .colab-df-convert:hover {\n",
              "      background-color: #E2EBFA;\n",
              "      box-shadow: 0px 1px 2px rgba(60, 64, 67, 0.3), 0px 1px 3px 1px rgba(60, 64, 67, 0.15);\n",
              "      fill: #174EA6;\n",
              "    }\n",
              "\n",
              "    [theme=dark] .colab-df-convert {\n",
              "      background-color: #3B4455;\n",
              "      fill: #D2E3FC;\n",
              "    }\n",
              "\n",
              "    [theme=dark] .colab-df-convert:hover {\n",
              "      background-color: #434B5C;\n",
              "      box-shadow: 0px 1px 3px 1px rgba(0, 0, 0, 0.15);\n",
              "      filter: drop-shadow(0px 1px 2px rgba(0, 0, 0, 0.3));\n",
              "      fill: #FFFFFF;\n",
              "    }\n",
              "  </style>\n",
              "\n",
              "      <script>\n",
              "        const buttonEl =\n",
              "          document.querySelector('#df-5dfe0b94-c623-410b-8fb2-c04e50336799 button.colab-df-convert');\n",
              "        buttonEl.style.display =\n",
              "          google.colab.kernel.accessAllowed ? 'block' : 'none';\n",
              "\n",
              "        async function convertToInteractive(key) {\n",
              "          const element = document.querySelector('#df-5dfe0b94-c623-410b-8fb2-c04e50336799');\n",
              "          const dataTable =\n",
              "            await google.colab.kernel.invokeFunction('convertToInteractive',\n",
              "                                                     [key], {});\n",
              "          if (!dataTable) return;\n",
              "\n",
              "          const docLinkHtml = 'Like what you see? Visit the ' +\n",
              "            '<a target=\"_blank\" href=https://colab.research.google.com/notebooks/data_table.ipynb>data table notebook</a>'\n",
              "            + ' to learn more about interactive tables.';\n",
              "          element.innerHTML = '';\n",
              "          dataTable['output_type'] = 'display_data';\n",
              "          await google.colab.output.renderOutput(dataTable, element);\n",
              "          const docLink = document.createElement('div');\n",
              "          docLink.innerHTML = docLinkHtml;\n",
              "          element.appendChild(docLink);\n",
              "        }\n",
              "      </script>\n",
              "    </div>\n",
              "  </div>\n",
              "  "
            ]
          },
          "metadata": {},
          "execution_count": 70
        }
      ]
    },
    {
      "cell_type": "code",
      "source": [
        "# TF 행렬 만들기\n",
        "def get_tf(docs):\n",
        "    vocab = {}\n",
        "    tfs = []\n",
        "    for d in docs:\n",
        "        vocab = get_term_frequency(d, vocab)\n",
        "        tfs += [get_term_frequency(d)]\n",
        "\n",
        "    from operator import itemgetter\n",
        "    import numpy as np\n",
        "\n",
        "    stats = []\n",
        "    for word, freq in vocab.items():\n",
        "        tf_v = []\n",
        "        for idx in range(len(docs)):\n",
        "            if tfs[idx].get(word) is not None:\n",
        "                tf_v += [tfs[idx][word]]\n",
        "            else:\n",
        "                tf_v += [0]\n",
        "        stats.append((word, freq, *tf_v))\n",
        "    \n",
        "    return pd.DataFrame(stats, columns=('word',\n",
        "                                        'frequency',\n",
        "                                        'doc1',\n",
        "                                        'doc2',\n",
        "                                        'doc3')).sort_values('frequency', ascending=False)\n"
      ],
      "metadata": {
        "id": "ei7bTCk5i5hD"
      },
      "execution_count": 71,
      "outputs": []
    },
    {
      "cell_type": "code",
      "source": [
        "get_tf([doc1, doc2, doc3])"
      ],
      "metadata": {
        "colab": {
          "base_uri": "https://localhost:8080/",
          "height": 423
        },
        "id": "8GMczDoUm6TJ",
        "outputId": "de308175-86de-4e57-c315-829b99d04ffe"
      },
      "execution_count": 72,
      "outputs": [
        {
          "output_type": "execute_result",
          "data": {
            "text/plain": [
              "       word  frequency  doc1  doc2  doc3\n",
              "0         수         11     3     6     2\n",
              "1       얼마나          5     4     1     0\n",
              "2         중          4     2     2     0\n",
              "3        멀리          4     4     0     0\n",
              "4       실제로          4     2     1     1\n",
              "..      ...        ...   ...   ...   ...\n",
              "217      운에          1     0     0     1\n",
              "216     우리들          1     0     0     1\n",
              "215      맡길          1     0     0     1\n",
              "214      없는          1     0     0     1\n",
              "491  홍보입니다.          1     0     0     1\n",
              "\n",
              "[492 rows x 5 columns]"
            ],
            "text/html": [
              "\n",
              "  <div id=\"df-c55bc335-b9df-42a4-b975-b63e1e8f3125\">\n",
              "    <div class=\"colab-df-container\">\n",
              "      <div>\n",
              "<style scoped>\n",
              "    .dataframe tbody tr th:only-of-type {\n",
              "        vertical-align: middle;\n",
              "    }\n",
              "\n",
              "    .dataframe tbody tr th {\n",
              "        vertical-align: top;\n",
              "    }\n",
              "\n",
              "    .dataframe thead th {\n",
              "        text-align: right;\n",
              "    }\n",
              "</style>\n",
              "<table border=\"1\" class=\"dataframe\">\n",
              "  <thead>\n",
              "    <tr style=\"text-align: right;\">\n",
              "      <th></th>\n",
              "      <th>word</th>\n",
              "      <th>frequency</th>\n",
              "      <th>doc1</th>\n",
              "      <th>doc2</th>\n",
              "      <th>doc3</th>\n",
              "    </tr>\n",
              "  </thead>\n",
              "  <tbody>\n",
              "    <tr>\n",
              "      <th>0</th>\n",
              "      <td>수</td>\n",
              "      <td>11</td>\n",
              "      <td>3</td>\n",
              "      <td>6</td>\n",
              "      <td>2</td>\n",
              "    </tr>\n",
              "    <tr>\n",
              "      <th>1</th>\n",
              "      <td>얼마나</td>\n",
              "      <td>5</td>\n",
              "      <td>4</td>\n",
              "      <td>1</td>\n",
              "      <td>0</td>\n",
              "    </tr>\n",
              "    <tr>\n",
              "      <th>2</th>\n",
              "      <td>중</td>\n",
              "      <td>4</td>\n",
              "      <td>2</td>\n",
              "      <td>2</td>\n",
              "      <td>0</td>\n",
              "    </tr>\n",
              "    <tr>\n",
              "      <th>3</th>\n",
              "      <td>멀리</td>\n",
              "      <td>4</td>\n",
              "      <td>4</td>\n",
              "      <td>0</td>\n",
              "      <td>0</td>\n",
              "    </tr>\n",
              "    <tr>\n",
              "      <th>4</th>\n",
              "      <td>실제로</td>\n",
              "      <td>4</td>\n",
              "      <td>2</td>\n",
              "      <td>1</td>\n",
              "      <td>1</td>\n",
              "    </tr>\n",
              "    <tr>\n",
              "      <th>...</th>\n",
              "      <td>...</td>\n",
              "      <td>...</td>\n",
              "      <td>...</td>\n",
              "      <td>...</td>\n",
              "      <td>...</td>\n",
              "    </tr>\n",
              "    <tr>\n",
              "      <th>217</th>\n",
              "      <td>운에</td>\n",
              "      <td>1</td>\n",
              "      <td>0</td>\n",
              "      <td>0</td>\n",
              "      <td>1</td>\n",
              "    </tr>\n",
              "    <tr>\n",
              "      <th>216</th>\n",
              "      <td>우리들</td>\n",
              "      <td>1</td>\n",
              "      <td>0</td>\n",
              "      <td>0</td>\n",
              "      <td>1</td>\n",
              "    </tr>\n",
              "    <tr>\n",
              "      <th>215</th>\n",
              "      <td>맡길</td>\n",
              "      <td>1</td>\n",
              "      <td>0</td>\n",
              "      <td>0</td>\n",
              "      <td>1</td>\n",
              "    </tr>\n",
              "    <tr>\n",
              "      <th>214</th>\n",
              "      <td>없는</td>\n",
              "      <td>1</td>\n",
              "      <td>0</td>\n",
              "      <td>0</td>\n",
              "      <td>1</td>\n",
              "    </tr>\n",
              "    <tr>\n",
              "      <th>491</th>\n",
              "      <td>홍보입니다.</td>\n",
              "      <td>1</td>\n",
              "      <td>0</td>\n",
              "      <td>0</td>\n",
              "      <td>1</td>\n",
              "    </tr>\n",
              "  </tbody>\n",
              "</table>\n",
              "<p>492 rows × 5 columns</p>\n",
              "</div>\n",
              "      <button class=\"colab-df-convert\" onclick=\"convertToInteractive('df-c55bc335-b9df-42a4-b975-b63e1e8f3125')\"\n",
              "              title=\"Convert this dataframe to an interactive table.\"\n",
              "              style=\"display:none;\">\n",
              "        \n",
              "  <svg xmlns=\"http://www.w3.org/2000/svg\" height=\"24px\"viewBox=\"0 0 24 24\"\n",
              "       width=\"24px\">\n",
              "    <path d=\"M0 0h24v24H0V0z\" fill=\"none\"/>\n",
              "    <path d=\"M18.56 5.44l.94 2.06.94-2.06 2.06-.94-2.06-.94-.94-2.06-.94 2.06-2.06.94zm-11 1L8.5 8.5l.94-2.06 2.06-.94-2.06-.94L8.5 2.5l-.94 2.06-2.06.94zm10 10l.94 2.06.94-2.06 2.06-.94-2.06-.94-.94-2.06-.94 2.06-2.06.94z\"/><path d=\"M17.41 7.96l-1.37-1.37c-.4-.4-.92-.59-1.43-.59-.52 0-1.04.2-1.43.59L10.3 9.45l-7.72 7.72c-.78.78-.78 2.05 0 2.83L4 21.41c.39.39.9.59 1.41.59.51 0 1.02-.2 1.41-.59l7.78-7.78 2.81-2.81c.8-.78.8-2.07 0-2.86zM5.41 20L4 18.59l7.72-7.72 1.47 1.35L5.41 20z\"/>\n",
              "  </svg>\n",
              "      </button>\n",
              "      \n",
              "  <style>\n",
              "    .colab-df-container {\n",
              "      display:flex;\n",
              "      flex-wrap:wrap;\n",
              "      gap: 12px;\n",
              "    }\n",
              "\n",
              "    .colab-df-convert {\n",
              "      background-color: #E8F0FE;\n",
              "      border: none;\n",
              "      border-radius: 50%;\n",
              "      cursor: pointer;\n",
              "      display: none;\n",
              "      fill: #1967D2;\n",
              "      height: 32px;\n",
              "      padding: 0 0 0 0;\n",
              "      width: 32px;\n",
              "    }\n",
              "\n",
              "    .colab-df-convert:hover {\n",
              "      background-color: #E2EBFA;\n",
              "      box-shadow: 0px 1px 2px rgba(60, 64, 67, 0.3), 0px 1px 3px 1px rgba(60, 64, 67, 0.15);\n",
              "      fill: #174EA6;\n",
              "    }\n",
              "\n",
              "    [theme=dark] .colab-df-convert {\n",
              "      background-color: #3B4455;\n",
              "      fill: #D2E3FC;\n",
              "    }\n",
              "\n",
              "    [theme=dark] .colab-df-convert:hover {\n",
              "      background-color: #434B5C;\n",
              "      box-shadow: 0px 1px 3px 1px rgba(0, 0, 0, 0.15);\n",
              "      filter: drop-shadow(0px 1px 2px rgba(0, 0, 0, 0.3));\n",
              "      fill: #FFFFFF;\n",
              "    }\n",
              "  </style>\n",
              "\n",
              "      <script>\n",
              "        const buttonEl =\n",
              "          document.querySelector('#df-c55bc335-b9df-42a4-b975-b63e1e8f3125 button.colab-df-convert');\n",
              "        buttonEl.style.display =\n",
              "          google.colab.kernel.accessAllowed ? 'block' : 'none';\n",
              "\n",
              "        async function convertToInteractive(key) {\n",
              "          const element = document.querySelector('#df-c55bc335-b9df-42a4-b975-b63e1e8f3125');\n",
              "          const dataTable =\n",
              "            await google.colab.kernel.invokeFunction('convertToInteractive',\n",
              "                                                     [key], {});\n",
              "          if (!dataTable) return;\n",
              "\n",
              "          const docLinkHtml = 'Like what you see? Visit the ' +\n",
              "            '<a target=\"_blank\" href=https://colab.research.google.com/notebooks/data_table.ipynb>data table notebook</a>'\n",
              "            + ' to learn more about interactive tables.';\n",
              "          element.innerHTML = '';\n",
              "          dataTable['output_type'] = 'display_data';\n",
              "          await google.colab.output.renderOutput(dataTable, element);\n",
              "          const docLink = document.createElement('div');\n",
              "          docLink.innerHTML = docLinkHtml;\n",
              "          element.appendChild(docLink);\n",
              "        }\n",
              "      </script>\n",
              "    </div>\n",
              "  </div>\n",
              "  "
            ]
          },
          "metadata": {},
          "execution_count": 72
        }
      ]
    },
    {
      "cell_type": "markdown",
      "source": [
        "\n",
        "- get_tf의 결과\n",
        "  - 각 단어들에 대한 TF에서 doc1, doc2, doc3의 단어별 출현횟수가 특징벡터로 사용됨\n",
        "  - 예를 들어 \"여러분\"이라는 단어는 [5, 6, 1]이라는 특징벡터를 가짐\n",
        "  - 단순히 문서에서의 출현 횟수만으로 특징 벡터를 구성하다보니 많은 정보가 유실됨\n",
        "\n",
        "---\n"
      ],
      "metadata": {
        "id": "wx59W4TTm6Yi"
      }
    },
    {
      "cell_type": "markdown",
      "source": [
        "* sklearn 사용해서 TF-IDF"
      ],
      "metadata": {
        "id": "klJVPiZGm6d_"
      }
    },
    {
      "cell_type": "code",
      "source": [
        "# 출현횟수를 기반으로 하는 CountVectorizer를 이용하여 특징 추출하기\n",
        "from sklearn.feature_extraction.text import CountVectorizer"
      ],
      "metadata": {
        "id": "b7K0N9xom6jI"
      },
      "execution_count": 73,
      "outputs": []
    },
    {
      "cell_type": "code",
      "source": [
        "# 텍스트 데이터 준비\n",
        "text_data = ['요즘 패션업계의 화두는 ‘애슬레저’다. 애슬레저는 애슬레틱(athletic)과 레저(leisure)의 합성어로, 일상복과의 경계를 허문 스포츠웨어를 뜻한다.' ,\n",
        "             '소비자에게 인기 높은 브랜드를 집중적으로 취급하는 백화점에서의 성장 속도는 더 빠르다.']\n",
        "count_vectorizer = CountVectorizer()"
      ],
      "metadata": {
        "id": "0RDGmd6fm6oX"
      },
      "execution_count": 80,
      "outputs": []
    },
    {
      "cell_type": "code",
      "source": [
        "# 단어 사전 만들기\n",
        "count_vectorizer.fit(text_data)\n",
        "print(count_vectorizer.vocabulary_)"
      ],
      "metadata": {
        "colab": {
          "base_uri": "https://localhost:8080/"
        },
        "id": "M2CtUjHDm6tM",
        "outputId": "50966f0f-d6dd-46ca-eec4-d6c7c523b307"
      },
      "execution_count": 81,
      "outputs": [
        {
          "output_type": "stream",
          "name": "stdout",
          "text": [
            "{'요즘': 16, '패션업계의': 21, '화두는': 24, '애슬레저': 13, '애슬레저는': 14, '애슬레틱': 15, 'athletic': 0, '레저': 5, 'leisure': 1, '합성어로': 22, '일상복과의': 18, '경계를': 2, '허문': 23, '스포츠웨어를': 12, '뜻한다': 4, '소비자에게': 10, '인기': 17, '높은': 3, '브랜드를': 7, '집중적으로': 19, '취급하는': 20, '백화점에서의': 6, '성장': 9, '속도는': 11, '빠르다': 8}\n"
          ]
        }
      ]
    },
    {
      "cell_type": "code",
      "source": [
        "# 텍스트를 벡터로 만들기\n",
        "sentence = [text_data[0]]    \n",
        "print(count_vectorizer.transform(sentence).toarray())"
      ],
      "metadata": {
        "colab": {
          "base_uri": "https://localhost:8080/"
        },
        "id": "k-QrJlFdm6yG",
        "outputId": "62e117d8-739d-4910-8623-867393d654e1"
      },
      "execution_count": 82,
      "outputs": [
        {
          "output_type": "stream",
          "name": "stdout",
          "text": [
            "[[1 1 1 0 1 1 0 0 0 0 0 0 1 1 1 1 1 0 1 0 0 1 1 1 1]]\n"
          ]
        }
      ]
    },
    {
      "cell_type": "code",
      "source": [
        "# TfidfVectorizer를 이용하여 특징 추출하기(TF-IDF)\n",
        "from sklearn.feature_extraction.text import TfidfVectorizer"
      ],
      "metadata": {
        "id": "sf5AbF1mm67l"
      },
      "execution_count": 83,
      "outputs": []
    },
    {
      "cell_type": "code",
      "source": [
        "# 텍스트 데이터 준비\n",
        "text_data = ['요즘 패션업계의 화두는 ‘애슬레저’다. 애슬레저는 애슬레틱(athletic)과 레저(leisure)의 합성어로, 일상복과의 경계를 허문 스포츠웨어를 뜻한다.' ,\n",
        "             '소비자에게 인기 높은 브랜드를 집중적으로 취급하는 백화점에서의 성장 속도는 더 빠르다.']\n",
        "tfidf_vectorizer = TfidfVectorizer()"
      ],
      "metadata": {
        "id": "u1s7UwPQm7AI"
      },
      "execution_count": 84,
      "outputs": []
    },
    {
      "cell_type": "code",
      "source": [
        "# 단어 사전 만들기\n",
        "tfidf_vectorizer.fit(text_data)\n",
        "print(tfidf_vectorizer.vocabulary_)"
      ],
      "metadata": {
        "colab": {
          "base_uri": "https://localhost:8080/"
        },
        "id": "Wxu8jVjjm7EU",
        "outputId": "a06d87fc-ad71-4462-e7ce-aba66582934a"
      },
      "execution_count": 85,
      "outputs": [
        {
          "output_type": "stream",
          "name": "stdout",
          "text": [
            "{'요즘': 16, '패션업계의': 21, '화두는': 24, '애슬레저': 13, '애슬레저는': 14, '애슬레틱': 15, 'athletic': 0, '레저': 5, 'leisure': 1, '합성어로': 22, '일상복과의': 18, '경계를': 2, '허문': 23, '스포츠웨어를': 12, '뜻한다': 4, '소비자에게': 10, '인기': 17, '높은': 3, '브랜드를': 7, '집중적으로': 19, '취급하는': 20, '백화점에서의': 6, '성장': 9, '속도는': 11, '빠르다': 8}\n"
          ]
        }
      ]
    },
    {
      "cell_type": "code",
      "source": [
        "# 텍스트를 벡터로 만들기\n",
        "sentence = [text_data[1]]   \n",
        "print(tfidf_vectorizer.transform(sentence).toarray())"
      ],
      "metadata": {
        "colab": {
          "base_uri": "https://localhost:8080/"
        },
        "id": "elZPQYhMi5kv",
        "outputId": "a2e70d00-b68f-41a1-9d58-19ff00713621"
      },
      "execution_count": 86,
      "outputs": [
        {
          "output_type": "stream",
          "name": "stdout",
          "text": [
            "[[0.         0.         0.         0.31622777 0.         0.\n",
            "  0.31622777 0.31622777 0.31622777 0.31622777 0.31622777 0.31622777\n",
            "  0.         0.         0.         0.         0.         0.31622777\n",
            "  0.         0.31622777 0.31622777 0.         0.         0.\n",
            "  0.        ]]\n"
          ]
        }
      ]
    }
  ]
}