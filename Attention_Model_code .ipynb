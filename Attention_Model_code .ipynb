{
 "cells": [
  {
   "cell_type": "markdown",
   "id": "95a022a7",
   "metadata": {},
   "source": [
    "## Attention Model"
   ]
  },
  {
   "cell_type": "markdown",
   "id": "de119a64",
   "metadata": {},
   "source": [
    "### 양방향 LSTM과 어텐션 매커니즘으로 IMDB 리뷰 감성 분류"
   ]
  },
  {
   "cell_type": "code",
   "execution_count": 1,
   "id": "3cc9bf62",
   "metadata": {},
   "outputs": [],
   "source": [
    "import numpy as np\n",
    "import pandas as pd\n",
    "import seaborn as sns\n",
    "import matplotlib.pyplot as plt\n",
    "import warnings\n",
    "warnings.filterwarnings(action='ignore')"
   ]
  },
  {
   "cell_type": "code",
   "execution_count": 2,
   "id": "659c8ff0",
   "metadata": {},
   "outputs": [],
   "source": [
    "from tensorflow.keras.datasets import imdb\n",
    "from tensorflow.keras.utils import to_categorical\n",
    "from tensorflow.keras.preprocessing.sequence import pad_sequences "
   ]
  },
  {
   "cell_type": "code",
   "execution_count": 3,
   "id": "919b3171",
   "metadata": {},
   "outputs": [
    {
     "name": "stdout",
     "output_type": "stream",
     "text": [
      "Downloading data from https://storage.googleapis.com/tensorflow/tf-keras-datasets/imdb.npz\n",
      "17465344/17464789 [==============================] - 3s 0us/step\n",
      "17473536/17464789 [==============================] - 3s 0us/step\n"
     ]
    }
   ],
   "source": [
    "# 최대 단어 개수를 만개로 제한하고 훈련 데이터와 테스트 데이터 받아옴 \n",
    "\n",
    "vocab_size = 10000\n",
    "(X_train, y_train) , (X_test , y_test) = imdb.load_data(num_words = vocab_size)"
   ]
  },
  {
   "cell_type": "markdown",
   "id": "09ddea99",
   "metadata": {},
   "source": [
    "- 훈련 데이터와 이에 대한 레이블이 각각 X_train, y_train에 테스트 데이터와 이에 대한 레이블이 각각 X_test, y_test에 저장됨.\n",
    "- IMDB 리뷰 데이터는 이미 정수 인코딩이 된 상태므로 남은 전처리는 패딩뿐임\n",
    "- 리뷰의 최대 길이와 평균 길이 확인"
   ]
  },
  {
   "cell_type": "code",
   "execution_count": 6,
   "id": "86278ee1",
   "metadata": {},
   "outputs": [
    {
     "data": {
      "text/plain": [
       "array([list([1, 14, 22, 16, 43, 530, 973, 1622, 1385, 65, 458, 4468, 66, 3941, 4, 173, 36, 256, 5, 25, 100, 43, 838, 112, 50, 670, 2, 9, 35, 480, 284, 5, 150, 4, 172, 112, 167, 2, 336, 385, 39, 4, 172, 4536, 1111, 17, 546, 38, 13, 447, 4, 192, 50, 16, 6, 147, 2025, 19, 14, 22, 4, 1920, 4613, 469, 4, 22, 71, 87, 12, 16, 43, 530, 38, 76, 15, 13, 1247, 4, 22, 17, 515, 17, 12, 16, 626, 18, 2, 5, 62, 386, 12, 8, 316, 8, 106, 5, 4, 2223, 5244, 16, 480, 66, 3785, 33, 4, 130, 12, 16, 38, 619, 5, 25, 124, 51, 36, 135, 48, 25, 1415, 33, 6, 22, 12, 215, 28, 77, 52, 5, 14, 407, 16, 82, 2, 8, 4, 107, 117, 5952, 15, 256, 4, 2, 7, 3766, 5, 723, 36, 71, 43, 530, 476, 26, 400, 317, 46, 7, 4, 2, 1029, 13, 104, 88, 4, 381, 15, 297, 98, 32, 2071, 56, 26, 141, 6, 194, 7486, 18, 4, 226, 22, 21, 134, 476, 26, 480, 5, 144, 30, 5535, 18, 51, 36, 28, 224, 92, 25, 104, 4, 226, 65, 16, 38, 1334, 88, 12, 16, 283, 5, 16, 4472, 113, 103, 32, 15, 16, 5345, 19, 178, 32])],\n",
       "      dtype=object)"
      ]
     },
     "execution_count": 6,
     "metadata": {},
     "output_type": "execute_result"
    }
   ],
   "source": [
    "X_train[:1]"
   ]
  },
  {
   "cell_type": "code",
   "execution_count": 7,
   "id": "09e09ed5",
   "metadata": {},
   "outputs": [
    {
     "name": "stdout",
     "output_type": "stream",
     "text": [
      "리뷰의 최대 길이 : 2494\n",
      "리뷰의 평균 길이 : 238.71364\n"
     ]
    }
   ],
   "source": [
    "print('리뷰의 최대 길이 : {}'.format(max(len(l) for l in X_train)))\n",
    "print('리뷰의 평균 길이 : {}'.format(sum(map(len, X_train))/len(X_train)))"
   ]
  },
  {
   "cell_type": "markdown",
   "id": "95125466",
   "metadata": {},
   "source": [
    "* 평균 길이보다는 조금 크게 데이터 패딩 "
   ]
  },
  {
   "cell_type": "code",
   "execution_count": 10,
   "id": "8d72af34",
   "metadata": {},
   "outputs": [],
   "source": [
    "# 병렬 연산을 위해서 여러 문장의 길이를 임의로 동일하게 맞춰주는 작업진행 \n",
    "max_len =500\n",
    "X_train = pad_sequences(X_train, maxlen = max_len)\n",
    "X_test = pad_sequences(X_test , maxlen= max_len)"
   ]
  },
  {
   "cell_type": "code",
   "execution_count": 13,
   "id": "262730d9",
   "metadata": {},
   "outputs": [
    {
     "name": "stdout",
     "output_type": "stream",
     "text": [
      "리뷰의 최대 길이 : 500\n",
      "리뷰의 평균 길이 : 500.0\n"
     ]
    }
   ],
   "source": [
    "print('리뷰의 최대 길이 : {}'.format(max(len(l) for l in X_train)))\n",
    "print('리뷰의 평균 길이 : {}'.format(sum(map(len, X_train))/len(X_train)))"
   ]
  },
  {
   "cell_type": "markdown",
   "id": "629126ec",
   "metadata": {},
   "source": [
    "### 바다나우 어텐션(Bahdanau Attention)\n",
    "\n",
    "- 어텐션 스코어 함수: 주어진 query와 모든 key에 대해서 유사도를 측정하는 함수\n",
    "- 닷 프로덕트 어텐션에서는 query와 key의 유사도를 구하는 방법이 내적(dot product)\n",
    "  - 닷 프로덕트 어텐션의 어텐션 스코어 함수\n",
    "\n",
    "\n",
    "- 바다나우 어텐션의 어텐션 스코어 함수\n",
    "\n",
    "\n",
    "- 텍스트 분류에서 어텐션 메커니즘을 사용하는 이유\n",
    "  - RNN의 마지막 은닉 상태는 예측을 위해 사용\n",
    "  - 그런데 이 RNN의 마지막 은닉 상태는 몇 가지 유용한 정보들을 손실한 상태임\n",
    "  - 그래서 RNN이 time step을 지나며 손실했던 정보들을 다시 참고하고자 함\n",
    "  - 이는 다시 말해 RNN의 모든 은닉 상태들을 다시 한 번 참고하겠다는 것\n",
    "  - 이를 위해서 어텐션메커니즘을 사용함"
   ]
  },
  {
   "cell_type": "code",
   "execution_count": 14,
   "id": "3a6e25e0",
   "metadata": {},
   "outputs": [],
   "source": [
    "import tensorflow as tf"
   ]
  },
  {
   "cell_type": "code",
   "execution_count": 15,
   "id": "cfd6a539",
   "metadata": {},
   "outputs": [],
   "source": [
    "class BahdanauAttention(tf.keras.Model):\n",
    "  def __init__(self, units):\n",
    "    super(BahdanauAttention, self).__init__()\n",
    "    self.W1 = Dense(units)\n",
    "    self.W2 = Dense(units)\n",
    "    self.V = Dense(1)\n",
    "\n",
    "\n",
    "  def call(self, values, query): # 단, key와 value는 같음\n",
    "    # query shape == (batch_size, hidden size)\n",
    "    # hidden_with_time_axis shape == (batch_size, 1, hidden size)\n",
    "    # score 계산을 위해 뒤에서 할 덧셈을 위해서 차원을 변경해줍니다.\n",
    "    \n",
    "    hidden_with_time_axis = tf.expand_dims(query, 1)\n",
    "\n",
    "    # score shape == (batch_size, max_length, 1)\n",
    "    # we get 1 at the last axis because we are applying score to self.V\n",
    "    # the shape of the tensor before applying self.V is (batch_size, max_length, units)\n",
    "    score = self.V(tf.nn.tanh(\n",
    "        self.W1(values) + self.W2(hidden_with_time_axis)))\n",
    "\n",
    "    # attention_weights shape == (batch_size, max_length, 1)\n",
    "    attention_weights = tf.nn.softmax(score, axis=1)\n",
    "\n",
    "    # context_vector shape after sum == (batch_size, hidden_size)\n",
    "    context_vector = attention_weights * values\n",
    "    context_vector = tf.reduce_sum(context_vector, axis=1)\n",
    "\n",
    "    return context_vector, attention_weights"
   ]
  },
  {
   "cell_type": "markdown",
   "id": "9a150167",
   "metadata": {},
   "source": [
    "### 양방향 LSTM + 어텐션 메커니즘(BiLSTM with Attention Mechanism)"
   ]
  },
  {
   "cell_type": "code",
   "execution_count": 16,
   "id": "5ce5e381",
   "metadata": {},
   "outputs": [],
   "source": [
    "from tensorflow.keras.layers import Dense, Embedding, Bidirectional, LSTM, Concatenate, Dropout\n",
    "from tensorflow.keras import Input, Model\n",
    "from tensorflow.keras import optimizers\n",
    "import os"
   ]
  },
  {
   "cell_type": "markdown",
   "id": "3da49c4b",
   "metadata": {},
   "source": [
    "### 모델 설계\n",
    "\n",
    "- 10,000개의 단어들을 128차원의 벡터로 임베딩하도록 설계\n",
    "- 양방향 LSTM 설계\n",
    "  - 여기서는 양방향 LSTM을 두 층을 사용\n",
    "  - 첫번째 층\n",
    "    - 두번째 층을 위에 쌓을 예정이므로 return_sequences를 True로 설정\n",
    "  - 두번째 층\n",
    "    - 상태를 리턴받아야 하므로 return_state를 True로 설정"
   ]
  },
  {
   "cell_type": "code",
   "execution_count": 17,
   "id": "6d5c5a7f",
   "metadata": {},
   "outputs": [],
   "source": [
    "sequence_input = Input(shape=(max_len,), dtype='int32')\n",
    "embedded_sequences = Embedding(vocab_size, 128, input_length=max_len, mask_zero = True)(sequence_input)"
   ]
  },
  {
   "cell_type": "code",
   "execution_count": 18,
   "id": "31c5a8f0",
   "metadata": {},
   "outputs": [],
   "source": [
    "lstm = Bidirectional(LSTM(64, dropout=0.5, return_sequences = True))(embedded_sequences)"
   ]
  },
  {
   "cell_type": "code",
   "execution_count": 19,
   "id": "9da8ba5b",
   "metadata": {},
   "outputs": [],
   "source": [
    "lstm, forward_h, forward_c, backward_h, backward_c = Bidirectional \\\n",
    "  (LSTM(64, dropout=0.5, return_sequences=True, return_state=True))(lstm)"
   ]
  },
  {
   "cell_type": "code",
   "execution_count": 20,
   "id": "b3460a63",
   "metadata": {},
   "outputs": [
    {
     "name": "stdout",
     "output_type": "stream",
     "text": [
      "(None, 500, 128) (None, 64) (None, 64) (None, 64) (None, 64)\n"
     ]
    }
   ],
   "source": [
    "print(lstm.shape, forward_h.shape, forward_c.shape, backward_h.shape, backward_c.shape)"
   ]
  },
  {
   "cell_type": "markdown",
   "id": "086c0a53",
   "metadata": {},
   "source": [
    "- 순방향 LSTM의 은닉 상태와 셀상태를 forward_h, forward_c에 저장\n",
    "- 역방향 LSTM의 은닉 상태와 셀 상태를 backward_h, backward_c에 저장\n",
    "<br><br>\n",
    "- 각 은닉 상태나 셀 상태의 경우에는 128차원을 가지는데, lstm의 경우에는 (500 × 128)의 크기를 가짐. foward 방향과 backward 방향이 연결된 hidden state벡터가 모든 시점에 대해서 존재함을 의미함\n",
    "\n",
    "- 양방향 LSTM을 사용할 경우에는 순방향 LSTM과 역방향 LSTM 각각 은닉 상태와 셀 상태를 가지므로, 양방향 LSTM의 은닉 상태와 셀 상태를 사용하려면 두 방향의 LSTM의 상태들을 연결(concatenate)함"
   ]
  },
  {
   "cell_type": "code",
   "execution_count": 21,
   "id": "c1873fec",
   "metadata": {},
   "outputs": [],
   "source": [
    "state_h = Concatenate()([forward_h, backward_h]) # 은닉 상태\n",
    "state_c = Concatenate()([forward_c, backward_c]) # 셀 상태"
   ]
  },
  {
   "cell_type": "markdown",
   "id": "2b0e4bb8",
   "metadata": {},
   "source": [
    "- 은닉 상태를 입력으로 하여 컨텍스트 벡터(context vector) 획득"
   ]
  },
  {
   "cell_type": "code",
   "execution_count": 22,
   "id": "3653d552",
   "metadata": {},
   "outputs": [],
   "source": [
    "attention = BahdanauAttention(64) # 가중치 크기 정의\n",
    "context_vector, attention_weights = attention(lstm, state_h)"
   ]
  },
  {
   "cell_type": "markdown",
   "id": "33dcc13c",
   "metadata": {},
   "source": [
    "- 컨텍스트 벡터를 밀집층(dense layer)에 통과시키고 이진 분류이므로 최종 출력층에 1개의 뉴런을 배치하고 활성화 함수로 시그모이드 함수를 사용"
   ]
  },
  {
   "cell_type": "code",
   "execution_count": 23,
   "id": "0c1d93a2",
   "metadata": {},
   "outputs": [],
   "source": [
    "dense1 = Dense(20, activation=\"relu\")(context_vector)\n",
    "dropout = Dropout(0.5)(dense1)\n",
    "output = Dense(1, activation=\"sigmoid\")(dropout)\n",
    "model = Model(inputs=sequence_input, outputs=output)"
   ]
  },
  {
   "cell_type": "markdown",
   "id": "ca41d55b",
   "metadata": {},
   "source": [
    "- 옵티마이저로 아담 옵티마이저 사용하고, 모델을 컴파일\n",
    "- 시그모이드 함수를 사용하므로 손실 함수로 binary_crossentropy를 사용"
   ]
  },
  {
   "cell_type": "code",
   "execution_count": 24,
   "id": "7ca1712c",
   "metadata": {},
   "outputs": [],
   "source": [
    "model.compile(loss='binary_crossentropy', optimizer='adam', metrics=['accuracy'])"
   ]
  },
  {
   "cell_type": "markdown",
   "id": "c506d534",
   "metadata": {},
   "source": [
    "### 모델 학습"
   ]
  },
  {
   "cell_type": "markdown",
   "id": "165e5267",
   "metadata": {},
   "source": [
    "- 검증 데이터로 테스트 데이터를 사용하여 에포크가 끝날 때마다 테스트 데이터에 대한 정확도를 출력"
   ]
  },
  {
   "cell_type": "code",
   "execution_count": null,
   "id": "dc8bf0b2",
   "metadata": {},
   "outputs": [
    {
     "name": "stdout",
     "output_type": "stream",
     "text": [
      "Epoch 1/3\n",
      " 1/98 [..............................] - ETA: 37:10:02 - loss: 0.6931 - accuracy: 0.5391"
     ]
    }
   ],
   "source": [
    "history = model.fit(X_train, y_train, epochs = 3, batch_size = 256, validation_data=(X_test, y_test), verbose=1)"
   ]
  },
  {
   "cell_type": "code",
   "execution_count": null,
   "id": "082b9c8f",
   "metadata": {},
   "outputs": [],
   "source": [
    "print(\"\\n 테스트 정확도: %.4f\" % (model.evaluate(X_test, y_test)[1]))"
   ]
  }
 ],
 "metadata": {
  "kernelspec": {
   "display_name": "Python 3",
   "language": "python",
   "name": "python3"
  },
  "language_info": {
   "codemirror_mode": {
    "name": "ipython",
    "version": 3
   },
   "file_extension": ".py",
   "mimetype": "text/x-python",
   "name": "python",
   "nbconvert_exporter": "python",
   "pygments_lexer": "ipython3",
   "version": "3.8.13"
  }
 },
 "nbformat": 4,
 "nbformat_minor": 5
}
