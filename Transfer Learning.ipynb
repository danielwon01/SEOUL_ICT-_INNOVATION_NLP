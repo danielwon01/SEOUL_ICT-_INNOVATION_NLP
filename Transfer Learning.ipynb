{
 "cells": [
  {
   "attachments": {},
   "cell_type": "markdown",
   "id": "d28d3305",
   "metadata": {},
   "source": [
    "## Transfer Learning(전이학습)\n",
    "\n",
    "transfer learning is a machine learning method where we reuse a **pre-trained model** as the starting point for a model on a new task. To put it simply—a model trained on one task is repurposed on a second, related task as an optimization that allows rapid progress when modeling the second task.\n",
    "\n",
    "큰 데이터셋을 통해 미리 훈련한 네트워크를 문제에 재학습 (fine-tuning)\n",
    "* 인터넷에 공개되어 있는 많은 back-bone 네트워크 (resnet, bert)\n",
    "\n",
    "\n",
    "\n"
   ]
  },
  {
   "cell_type": "markdown",
   "id": "8afe5669",
   "metadata": {},
   "source": [
    "\n",
    "* Set seed weights and train as normal\n",
    "* fix loaded weights and train unloaded parts\n",
    "* train with different learning rate on each part( pre-train model은 느린 학습률을 가져가고 random initialize된 부분은 학습률 높게) "
   ]
  },
  {
   "cell_type": "markdown",
   "id": "551b85ae",
   "metadata": {},
   "source": [
    "Self-superviesd Learning \n",
    "\n",
    "unlabeled 데이터셋을 "
   ]
  },
  {
   "cell_type": "code",
   "execution_count": null,
   "id": "fdef9a57",
   "metadata": {},
   "outputs": [],
   "source": []
  }
 ],
 "metadata": {
  "kernelspec": {
   "display_name": "Python 3",
   "language": "python",
   "name": "python3"
  },
  "language_info": {
   "codemirror_mode": {
    "name": "ipython",
    "version": 3
   },
   "file_extension": ".py",
   "mimetype": "text/x-python",
   "name": "python",
   "nbconvert_exporter": "python",
   "pygments_lexer": "ipython3",
   "version": "3.8.13"
  }
 },
 "nbformat": 4,
 "nbformat_minor": 5
}
