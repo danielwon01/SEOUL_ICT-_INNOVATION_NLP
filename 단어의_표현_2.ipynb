{
  "nbformat": 4,
  "nbformat_minor": 0,
  "metadata": {
    "colab": {
      "name": "단어의표현_2.ipynb",
      "provenance": [],
      "collapsed_sections": [],
      "toc_visible": true
    },
    "kernelspec": {
      "name": "python3",
      "display_name": "Python 3"
    },
    "language_info": {
      "name": "python"
    }
  },
  "cells": [
    {
      "cell_type": "markdown",
      "source": [
        "# 통계 기반 기법, Statistical Language Model, SLM\n",
        "\n",
        "통계를 기반으로 어떤 데이터가 많이 사용되는지 데이터가 어떻게 분포되어 있는지 데이터의 분포에 따라 어떤 연관성과 의미를 갖는 등의 정보를 추출하여 자연어를 처리하는 기법 통계를 사용하므로 통계 결과를 계산하기 위한 충분한 크기를 가진 대규모의 텍스트 데이터가 요구된다. "
      ],
      "metadata": {
        "id": "o6a4cRRsNlgw"
      }
    },
    {
      "cell_type": "markdown",
      "source": [
        "## 분포가설 \n",
        "단어의 의미는 주변 단에 의해 형성, 단어가 사용된 맥락이 의미를 형성한다. \n",
        "\n",
        "#### 분포가설을 기초로 문장에서 어떤 단어가 몇번이나 나오는지 count \n",
        "* 동시발생 행렬 - 주어진 단어의 맥락으로써 동시에 발생하는 단어의 출현빈도 \n",
        "* 동시발생 행렬을 이용하여 단어를 벡터로 표현하면 벡터 사이의 유사도를 계산하여 해당 단어 간의 유사도, 괸련성을 확인 가능하다. \n",
        "* 유사도 계산 - 내적, 유클리드 거리, 코사인 유사도(많이사용) \n",
        "\n",
        "#### 카운트 기반 접근의 한계 희소 문제(Sparsity problem)\n",
        "언어 모델은 실생활에서 사용되는 언어의 확률 분포를 근사 모델링 한다.기계에게 많은 코퍼스를 훈련시켜서 언어 모델을 통해 현실에서의 확률 분포를 근사하는 것이 언어 모델의 목표이다. 예를 들어 위와 같이 를 구하는 경우에서 기계가 훈련한 코퍼스에 a favorable outcome is라는 단어 시퀀스가 없었다면 이 단어 시퀀스에 대한 확률은 0이 됩니다. a favorable outcome 라는 단어 시퀀스가 없었다면 분모가 0이 되어 확률은 정의되지 않습니다. 그렇다면 코퍼스에 단어 시퀀스가 없다고 해서 이 확률을 0 또는 정의되지 않는 확률이라고 하는 것이 정확한 모델링 방법일까 아니다. 현실에선 favorable outcome  is 라는 단어 시퀀스가 존재하고 또 문법에도 적합하므로 정답일 가능성 또한 높다. 이와 같이 충분한 데이터를 관측하지 못하여 언어를 정확히 모델링하지 못하는 문제를 희소 문제(sparsity problem)라고 한다.\n",
        "\n",
        "참조 : 딥 러닝을 이용한 자연어 처리 입문 "
      ],
      "metadata": {
        "id": "fIOZTLZQNmgX"
      }
    },
    {
      "cell_type": "code",
      "source": [
        "import numpy as np\n",
        "import pandas as pd\n",
        "import seaborn as sns\n",
        "import matplotlib.pyplot as plt\n",
        "import warnings\n",
        "warnings.filterwarnings(action='ignore')"
      ],
      "metadata": {
        "id": "6wDeZHUTNm58"
      },
      "execution_count": null,
      "outputs": []
    },
    {
      "cell_type": "code",
      "source": [
        "text = '요즘 패션업계의 화두는 ‘애슬레저’다. 애슬레저는 애슬레틱(athletic)과 레저(leisure)의 합성어로, 일상복과의 경계를 허문 스포츠웨어를 뜻한다.'\n",
        "print(text)"
      ],
      "metadata": {
        "id": "piLLVpd0Nm-r"
      },
      "execution_count": null,
      "outputs": []
    },
    {
      "cell_type": "code",
      "source": [
        "w = text.split(' ')\n",
        "print(w)"
      ],
      "metadata": {
        "id": "nFFz20j9NnC8"
      },
      "execution_count": null,
      "outputs": []
    },
    {
      "cell_type": "code",
      "source": [
        "w_id = {}\n",
        "id_to_word = {}\n",
        "\n",
        "for word in w :\n",
        "  if word not in w_id :\n",
        "    new_id = len(w_id) \n",
        "    w_id[word] = new_id\n",
        "    id_to_word[new_id] = word"
      ],
      "metadata": {
        "id": "c79RzlxPNnG5"
      },
      "execution_count": null,
      "outputs": []
    },
    {
      "cell_type": "code",
      "source": [
        "id_to_word"
      ],
      "metadata": {
        "id": "sHYtWomENnK2"
      },
      "execution_count": null,
      "outputs": []
    },
    {
      "cell_type": "code",
      "source": [
        "w_id "
      ],
      "metadata": {
        "id": "bcrSmbCqN5lI"
      },
      "execution_count": null,
      "outputs": []
    },
    {
      "cell_type": "code",
      "source": [
        "# 단어로 id 검색 \n",
        "print(id_to_word[1])\n",
        "print(w_id['레저(leisure)의'])"
      ],
      "metadata": {
        "id": "7OKMPLEHN5sM"
      },
      "execution_count": null,
      "outputs": []
    },
    {
      "cell_type": "code",
      "source": [
        "# \"단어 목록\"을 \"단어 ID 목록\"으로 변경\n",
        "\n",
        "corpus = [w_id[w] for w in w]\n",
        "corpus = np.array(corpus)\n",
        "corpus"
      ],
      "metadata": {
        "id": "pLhCzLCKN5y3"
      },
      "execution_count": null,
      "outputs": []
    },
    {
      "cell_type": "code",
      "source": [
        "import sys\n",
        "\n",
        "# 지금까지의 과정을 함수로 구현하여 호출하기 편하게 만들자\n",
        "def preprocess(text):\n",
        "  text = text.lower()\n",
        "  text = text.replace('.', ' .')\n",
        "  words = text.split(' ')\n",
        "\n",
        "  word_to_id = {}\n",
        "  id_to_word = {}\n",
        "\n",
        "  for word in words:\n",
        "    if word not in word_to_id:\n",
        "      new_id = len(word_to_id)\n",
        "      word_to_id[word] = new_id\n",
        "      id_to_word[new_id] = word\n",
        "\n",
        "  corpus = np.array([word_to_id[w] for w in words])\n",
        "  return corpus, word_to_id, id_to_word"
      ],
      "metadata": {
        "id": "LIb35PkpN6cA"
      },
      "execution_count": null,
      "outputs": []
    },
    {
      "cell_type": "code",
      "source": [
        "text = \"You say goodbye and hello.\"\n",
        "corpus, word_to_id, id_to_word =preprocess(text)\n",
        "\n",
        "print(corpus)\n",
        "print(id_to_word)"
      ],
      "metadata": {
        "id": "y1Q6C0bnN6h7"
      },
      "execution_count": null,
      "outputs": []
    },
    {
      "cell_type": "markdown",
      "source": [
        "### 분포가설과 동시발생 행렬 "
      ],
      "metadata": {
        "id": "EJQIwnKIN6ns"
      }
    },
    {
      "cell_type": "code",
      "source": [
        "C = np.array([\n",
        "              [0, 1, 0, 0, 0, 0, 0],\n",
        "              [1, 0, 1, 0, 1, 1, 0],\n",
        "              [0, 1, 0, 1, 0, 0, 0],\n",
        "              [0, 0, 1, 0, 1, 0, 0],\n",
        "              [0, 1, 0, 1, 0, 0, 0],\n",
        "              [0, 1, 0, 0, 0, 0, 1],\n",
        "              [0, 0, 0, 0, 0, 1, 0],\n",
        "], dtype=np.int32)"
      ],
      "metadata": {
        "id": "l4R1Ge9ENnj1"
      },
      "execution_count": null,
      "outputs": []
    },
    {
      "cell_type": "code",
      "source": [
        "print(C[0])\n",
        "print(C[4])\n",
        "print(C[word_to_id['goodbye']])"
      ],
      "metadata": {
        "id": "w4DnURyXNnqe"
      },
      "execution_count": null,
      "outputs": []
    },
    {
      "cell_type": "code",
      "source": [
        "# 동시발생 행렬을 만들어주는 함수\n",
        "def create_co_matrix(corpus, vocab_size, window_size=1):\n",
        "  corpus_size = len(corpus)\n",
        "  co_matrix = np.zeros((vocab_size, vocab_size), dtype=np.int32)\n",
        "\n",
        "  for idx, word_id in enumerate(corpus):\n",
        "    for i in range(1, window_size + 1):\n",
        "      left_idx = idx - i\n",
        "      right_idx = idx + i\n",
        "\n",
        "      if left_idx >= 0:\n",
        "        left_word_id = corpus[left_idx]\n",
        "        co_matrix[word_id, left_word_id] += 1\n",
        "\n",
        "      if right_idx < corpus_size:\n",
        "        right_word_id = corpus[right_idx]\n",
        "        co_matrix[word_id, right_word_id] += 1\n",
        "\n",
        "  return co_matrix\n",
        "\n",
        "text = \"You say goodbye and hello.\"\n",
        "corpus, word_to_id, id_to_word =preprocess(text)\n",
        "vocab_size = len(corpus)\n",
        "C = create_co_matrix(corpus, vocab_size)\n",
        "print(C)"
      ],
      "metadata": {
        "id": "i0KF9YHcNnvy"
      },
      "execution_count": null,
      "outputs": []
    },
    {
      "cell_type": "markdown",
      "source": [
        "### 유사도 측정\n",
        "- 분모에 eps를 더하는 이유: 인수로 제로벡터가 들어오면 0으로 나누기 오류 발생 --> eps를 더해줌으로써 오류 회피 가능"
      ],
      "metadata": {
        "id": "vQ7UDkCVNn04"
      }
    },
    {
      "cell_type": "code",
      "source": [
        "# 코사인 유사도 \n",
        "def cos_similarity(x, y, eps=1e-8):\n",
        "  nx = x / (np.sqrt(np.sum(x**2)) + eps)    # x의 정규화\n",
        "  ny = y / (np.sqrt(np.sum(y**2)) + eps)    # y의 정규화\n",
        "  return np.dot(nx, ny)"
      ],
      "metadata": {
        "id": "lLeWMUcQNn5s"
      },
      "execution_count": null,
      "outputs": []
    },
    {
      "cell_type": "code",
      "source": [
        "import sys\n",
        "\n",
        "text = \"You say goodbye and I say hello.\"\n",
        "corpus, word_to_id, id_to_word =preprocess(text)\n",
        "vocab_size = len(corpus)\n",
        "C = create_co_matrix(corpus, vocab_size)\n",
        "\n",
        "c0 = C[word_to_id['you']]\n",
        "c1 = C[word_to_id['i']]\n",
        "print(cos_similarity(c0, c1))"
      ],
      "metadata": {
        "id": "fxBrrj-AOJz7"
      },
      "execution_count": null,
      "outputs": []
    },
    {
      "cell_type": "markdown",
      "source": [
        "#### 유사 단어의 랭킹 표시\n",
        "- 어떤 단어가 주어지면 그 검색어와 비슷한 단어를 유사도 순으로 출력해보기\n",
        "- most_similar(query, word_to_id, id_to_word, word_matrix, top=5)\n",
        "  - query: 검색어(단어)\n",
        "  - word_to_id: 단어에서 단어 ID로의 딕셔너리\n",
        "  - id_to_word: 단어 ID에서 단어로의 딕셔너리\n",
        "  - word_matrix: 단어 벡터들을 한데 모은 행렬. 각 행에는 대응하는 단어의 벡터가 저장되어 있다고 가정함\n",
        "  - top: 상위 몇 개까지 "
      ],
      "metadata": {
        "id": "CbblsEaaOJ7w"
      }
    },
    {
      "cell_type": "code",
      "source": [
        "def most_similar(query, word_to_id, id_to_word, word_matrix, top=5):\n",
        "  # 검색어의 단어벡터 꺼내기\n",
        "  if query not in word_to_id:\n",
        "    print('%s(을)을 찾을 수 없습니다.' % query)\n",
        "    return\n",
        "  \n",
        "  print('\\n[query] ' + query)\n",
        "  query_id = word_to_id[query]\n",
        "  query_vec = word_matrix[query_id]\n",
        "\n",
        "  # 검색어의 단어벡터와 다른 모든 단어벡터와의 코사인 유사도를 각각 계산한다\n",
        "  vocab_size = len(id_to_word)\n",
        "  similarity = np.zeros(vocab_size)\n",
        "\n",
        "  for i in range(vocab_size):\n",
        "    similarity[i] = cos_similarity(word_matrix[i], query_vec)\n",
        "\n",
        "  # 코사인 유사도를 기준으로 내림차순으로 출력\n",
        "  count = 0\n",
        "  for i in (-1 * similarity).argsort():     # argsort(): 넘파이 배열의 원소를 오름차순으로 정렬. 반환값은 배열의 인덱스\n",
        "    if id_to_word[i] == query:\n",
        "      continue\n",
        "    print(' %s: %s' % (id_to_word[i], similarity[i]))\n",
        "\n",
        "    count += 1\n",
        "    if count >= top:\n",
        "      return"
      ],
      "metadata": {
        "id": "H5sciig-OKC4"
      },
      "execution_count": null,
      "outputs": []
    },
    {
      "cell_type": "code",
      "source": [
        "text = \"You say goodbye and I say hello.\"\n",
        "corpus, word_to_id, id_to_word =preprocess(text)\n",
        "vocab_size = len(corpus)\n",
        "C = create_co_matrix(corpus, vocab_size)\n",
        "\n",
        "most_similar('you', word_to_id, id_to_word, C, top=5)"
      ],
      "metadata": {
        "id": "Q_ruDbH2OKIf"
      },
      "execution_count": null,
      "outputs": []
    },
    {
      "cell_type": "markdown",
      "source": [
        "### 점별 상호 정보량(Pointwise Mutual Information, PMI)\n",
        "\n",
        "𝑷𝑴𝑰𝒙,𝒚=𝒍𝒐𝒈2 𝑷(𝒙,𝒚) /𝑷(x) 𝑷(𝒚)\n",
        "\n",
        "- ppmi 함수: 동시발생 행렬을 PPMI 햏렬로 변환하는 함수\n",
        "    - C: 동시발생 행렬\n",
        "    - verbose: 진행상황 출력 여부를 결정하는 플래그\n",
        "    - eps: np.log2(0)가 음의 무한대가 되는 경우를 피하기 위한 값"
      ],
      "metadata": {
        "id": "1UlhLFGsOKNt"
      }
    },
    {
      "cell_type": "code",
      "source": [
        "def ppmi(C, verbose=False, eps=1e-8):\n",
        "  M = np.zeros_like(C, dtype=np.float32)\n",
        "  N = np.sum(C)\n",
        "  S = np.sum(C, axis=0)\n",
        "  total = C.shape[0] * C.shape[1]\n",
        "  cnt = 0\n",
        "\n",
        "  for i in range(C.shape[0]):\n",
        "    for j in range(C.shape[1]):\n",
        "      pmi = np.log2(C[i, j] * N / (S[j] * S[i]) + eps)\n",
        "      M[i, j] = max(0, pmi)\n",
        "\n",
        "      if verbose:\n",
        "        cnt += 1\n",
        "        if cnt % (total //100) == 0:\n",
        "          print('%.1f%% 완료' % (100 * cnt / total))\n",
        "      \n",
        "  return M"
      ],
      "metadata": {
        "id": "ZPSKkN8zOTPl"
      },
      "execution_count": null,
      "outputs": []
    },
    {
      "cell_type": "code",
      "source": [
        "text = \"Golden State dominated with a balanced attack and energy on both ends after Green called for the offense to do more to better the defense.\"\n",
        "corpus, word_to_id, id_to_word =preprocess(text)\n",
        "vocab_size = len(corpus)\n",
        "C = create_co_matrix(corpus, vocab_size)\n",
        "\n",
        "W = ppmi(C)\n",
        "\n",
        "np.set_printoptions(precision=3)    # 유효 자릿수를 세 자리로 표시\n",
        "print('동시발생 행렬')\n",
        "print(C)\n",
        "print('-'*50)\n",
        "print('PPMI')\n",
        "print(W)"
      ],
      "metadata": {
        "id": "n1Sd6DFlOTUz"
      },
      "execution_count": null,
      "outputs": []
    },
    {
      "cell_type": "markdown",
      "source": [
        "### 차원감소 \n",
        "벡터의 차원을 줄이는 기법으로  “중요한 정보”는 최대한 유지하면서 줄인다. \n",
        "단어 벡터는 주로 원핫 인코딩과 같은 희소벡터(=희소행렬)를 사용하므로 →희소벡터에서 중요한 축을 찾아내어 더 적은 차원으로 다시 표현하는 것이 핵심이다.\n",
        "\n",
        "* 특잇값 분해(Singular Value Decomposition, SVD)\n",
        "주어진 행렬(X)을 3개의 행렬(U,S,V)의 곱으로 분해 → 𝑿 = 𝑼𝑺𝑽𝑻\n",
        "• U, V: 직교행렬(열 벡터가 서로 직교함) → 어떤 공간의 축(기저)을 형성. U행렬은 단어 공간\n",
        "• S: 대각행렬(대각성분 외에는 모두 0)→대각성분은 특잇값(=해당 축의 중요도) → 중요도가 낮은 원소(특잇값이 작은 원소)를 깎아내어 차원 축소에 반영\n",
        "\n",
        "\n",
        " \n"
      ],
      "metadata": {
        "id": "VnSZYHvqOTZ3"
      }
    },
    {
      "cell_type": "code",
      "source": [
        "text = \"You say goodbye and I say hello.\"\n",
        "corpus, word_to_id, id_to_word =preprocess(text)\n",
        "vocab_size = len(corpus)\n",
        "C = create_co_matrix(corpus, vocab_size)\n",
        "\n",
        "W = ppmi(C)\n",
        "\n",
        "# SVD\n",
        "U, S, V = np.linalg.svd(W)      # 넘파이에서 기본적으로 SVD 함수를 제공함\n",
        "\n",
        "print(C[0])   # 동시발생 행렬\n",
        "print('-'*50)\n",
        "print(W[0])   # PPMI 행렬\n",
        "print('-'*50)\n",
        "print(U[0])   # SVD\n",
        "print('-'*50)\n",
        "print(U[0, :2])"
      ],
      "metadata": {
        "id": "YiJbWscpOTea"
      },
      "execution_count": null,
      "outputs": []
    },
    {
      "cell_type": "code",
      "source": [
        "for word, word_id in word_to_id.items():\n",
        "  plt.annotate(word, (U[word_id, 0], U[word_id, 1]))\n",
        "\n",
        "plt.scatter(U[:, 0], U[:, 1], alpha=0.5)\n",
        "plt.show()"
      ],
      "metadata": {
        "id": "LMjXR2W7OKSu"
      },
      "execution_count": null,
      "outputs": []
    },
    {
      "cell_type": "markdown",
      "source": [
        "\n",
        "\n",
        "## 추론 기반 기법 \n",
        "신경망을 이용한 추론을 기반으로 단어의 분산 표현을 얻는 기법, 통계 기반 기법과 마찬가지로 분포 가설을 기초로 한다. 추론 기반 기법은 학습 데이터의 일부를 사용하여 순차적으로 학습한다.(미니배치 학습)\n",
        "주변 단어들을 맥락으로 사용하여 문장 중간에 들어갈 단어를 추측하는 추론 문제를 반복 수행하여 단어의 출현 패턴을 학습한다.\n",
        "\n",
        "* CBOW: 신경망의 입력을 주변 단어들로 구성하고 출력을 타깃 단어로 설정하여 학습된\n",
        "가중치 데이터를 임베딩 벡터로 활용\n",
        "* skip-gram: 하나의 타깃 단어를 이용하여 주변 단어들을 예측하는 모델(CBOW와 반대)\n",
        " \n",
        "\n"
      ],
      "metadata": {
        "id": "r4-1GHTaNn-O"
      }
    },
    {
      "cell_type": "markdown",
      "source": [
        "#### CBOW\n",
        "- CBOW 모델의 추론 과정\n",
        "  - CBOW 모델은 활성화 함수를 사용하지 않는 간단한 구성의 신경망 모델"
      ],
      "metadata": {
        "id": "PqAZH8ugNoC9"
      }
    },
    {
      "cell_type": "markdown",
      "source": [
        "![image.png](data:image/png;base64,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)"
      ],
      "metadata": {
        "id": "wR_KU8nCP4lN"
      }
    },
    {
      "cell_type": "code",
      "source": [
        "import numpy as np\n",
        "from common.layers import MatMul"
      ],
      "metadata": {
        "id": "aLCS5YZbMIaf"
      },
      "execution_count": null,
      "outputs": []
    },
    {
      "cell_type": "code",
      "source": [
        "# 샘플 맥락 데이터\n",
        "c0 = np.array([[1, 0, 0, 0, 0, 0, 0]])\n",
        "c1 = np.array([[0, 0, 1, 0, 0, 0, 0]])\n",
        "\n",
        "# 가중치 초기화\n",
        "W_in = np.random.randn(7, 3)\n",
        "W_out = np.random.randn(3, 7)\n",
        "\n",
        "# 계층 생성\n",
        "in_layer0 = MatMul(W_in)\n",
        "in_layer1 = MatMul(W_in)\n",
        "out_layer = MatMul(W_out)\n",
        "\n",
        "# 순전파\n",
        "h0 = in_layer0.forward(c0)\n",
        "h1 = in_layer1.forward(c1)\n",
        "h = 0.5 * (h0 + h1)\n",
        "s = out_layer.forward(h)\n",
        "\n",
        "# 결과는 각 단어의 점수\n",
        "print(s)"
      ],
      "metadata": {
        "id": "BgCUXW-NMPQT",
        "colab": {
          "base_uri": "https://localhost:8080/"
        },
        "outputId": "37caea30-cfb9-4f9d-8900-6edce6314b32"
      },
      "execution_count": null,
      "outputs": [
        {
          "output_type": "stream",
          "name": "stdout",
          "text": [
            "[[-1.671  0.134  1.397 -0.965 -1.558 -1.344  2.13 ]]\n"
          ]
        }
      ]
    },
    {
      "cell_type": "markdown",
      "source": [
        "- CBOW 모델의 학습\n",
        "  - 앞에서 계산한 각 단어의 점수에 Softmax 함수를 적용하여 확률 계산\n",
        "  - 계산된 확률은 맥락(전후 단어)이 주어졌을때 그 중앙에 어떤 단어가 출현할 것인지에 대한 확률값\n",
        "  - 신경망 모델의 다중 클래스 분류 신경망을 생각하면 쉽게 이해가 될 것임\n",
        "  - CBOW 모델에 Softmax 계층과 Cross Entropy Error 계층을 추가함으로써 CBOW 모델의 손실을 계산할 수 있음"
      ],
      "metadata": {
        "id": "H8yIC9KpQgDb"
      }
    },
    {
      "cell_type": "markdown",
      "source": [
        "- 학습 데이터 준비"
      ],
      "metadata": {
        "id": "ovfbUkRhVKd2"
      }
    },
    {
      "cell_type": "code",
      "source": [
        "# 전처리\n",
        "from common.util import preprocess\n",
        "\n",
        "text = 'You say goodbye and I say hello.'\n",
        "corpus, word_to_id, id_to_word = preprocess(text)\n",
        "print(corpus)\n",
        "print('-'*50)\n",
        "print(id_to_word)"
      ],
      "metadata": {
        "id": "n1Da1dYFSqG9",
        "colab": {
          "base_uri": "https://localhost:8080/"
        },
        "outputId": "41e63d83-d2fd-4d0c-aa08-151125078e7d"
      },
      "execution_count": null,
      "outputs": [
        {
          "output_type": "stream",
          "name": "stdout",
          "text": [
            "[0 1 2 3 4 1 5 6]\n",
            "--------------------------------------------------\n",
            "{0: 'you', 1: 'say', 2: 'goodbye', 3: 'and', 4: 'i', 5: 'hello', 6: '.'}\n"
          ]
        }
      ]
    },
    {
      "cell_type": "code",
      "source": [
        "# 맥락과 타겟 만들기\n",
        "contexts, target = create_contexts_target(corpus, window_size=1)\n",
        "print(contexts)\n",
        "print('-'*50)\n",
        "print(target)"
      ],
      "metadata": {
        "id": "_wRQi5YcTRry",
        "colab": {
          "base_uri": "https://localhost:8080/"
        },
        "outputId": "f5481e4e-0e67-436e-8432-6a836db926b7"
      },
      "execution_count": null,
      "outputs": [
        {
          "output_type": "stream",
          "name": "stdout",
          "text": [
            "[[0 2]\n",
            " [1 3]\n",
            " [2 4]\n",
            " [3 1]\n",
            " [4 5]\n",
            " [1 6]]\n",
            "--------------------------------------------------\n",
            "[1 2 3 4 1 5]\n"
          ]
        }
      ]
    },
    {
      "cell_type": "code",
      "source": [
        "# 원핫 인코딩 표현\n",
        "vocab_size = len(word_to_id)\n",
        "target = convert_one_hot(target, vocab_size)\n",
        "contexts = convert_one_hot(contexts, vocab_size)"
      ],
      "metadata": {
        "id": "fkqSSQ7xTRo_"
      },
      "execution_count": null,
      "outputs": []
    },
    {
      "cell_type": "code",
      "source": [
        "contexts"
      ],
      "metadata": {
        "id": "84b8ghjaIn4Z",
        "colab": {
          "base_uri": "https://localhost:8080/"
        },
        "outputId": "e847f19b-5ced-4157-a866-ceded917740e"
      },
      "execution_count": null,
      "outputs": [
        {
          "output_type": "execute_result",
          "data": {
            "text/plain": [
              "array([[[1, 0, 0, 0, 0, 0, 0],\n",
              "        [0, 0, 1, 0, 0, 0, 0]],\n",
              "\n",
              "       [[0, 1, 0, 0, 0, 0, 0],\n",
              "        [0, 0, 0, 1, 0, 0, 0]],\n",
              "\n",
              "       [[0, 0, 1, 0, 0, 0, 0],\n",
              "        [0, 0, 0, 0, 1, 0, 0]],\n",
              "\n",
              "       [[0, 0, 0, 1, 0, 0, 0],\n",
              "        [0, 1, 0, 0, 0, 0, 0]],\n",
              "\n",
              "       [[0, 0, 0, 0, 1, 0, 0],\n",
              "        [0, 0, 0, 0, 0, 1, 0]],\n",
              "\n",
              "       [[0, 1, 0, 0, 0, 0, 0],\n",
              "        [0, 0, 0, 0, 0, 0, 1]]], dtype=int32)"
            ]
          },
          "metadata": {},
          "execution_count": 119
        }
      ]
    },
    {
      "cell_type": "markdown",
      "source": [
        "- CBOW 모델 구현"
      ],
      "metadata": {
        "id": "JW5hDPCRVXcM"
      }
    },
    {
      "cell_type": "code",
      "source": [
        "import numpy as np\n",
        "from common.layers import MatMul, SoftmaxWithLoss"
      ],
      "metadata": {
        "id": "yGjmqlRwXQhg"
      },
      "execution_count": null,
      "outputs": []
    },
    {
      "cell_type": "code",
      "source": [
        "class SimpleCBOW:\n",
        "    def __init__(self, vocab_size, hidden_size):\n",
        "        V, H = vocab_size, hidden_size\n",
        "\n",
        "        # 가중치 초기화\n",
        "        W_in = 0.01 * np.random.randn(V, H).astype('f')\n",
        "        W_out = 0.01 * np.random.randn(H, V).astype('f')\n",
        "\n",
        "        # 계층 생성\n",
        "        self.in_layer0 = MatMul(W_in)\n",
        "        self.in_layer1 = MatMul(W_in)\n",
        "        self.out_layer = MatMul(W_out)\n",
        "        self.loss_layer = SoftmaxWithLoss()\n",
        "\n",
        "        # 모든 가중치와 기울기를 리스트에 모은다.\n",
        "        layers = [self.in_layer0, self.in_layer1, self.out_layer]\n",
        "        self.params, self.grads = [], []\n",
        "        for layer in layers:\n",
        "            self.params += layer.params\n",
        "            self.grads += layer.grads\n",
        "\n",
        "        # 인스턴스 변수에 단어의 분산 표현을 저장한다.\n",
        "        self.word_vecs = W_in\n",
        "\n",
        "    def forward(self, contexts, target):\n",
        "        h0 = self.in_layer0.forward(contexts[:, 0])\n",
        "        h1 = self.in_layer1.forward(contexts[:, 1])\n",
        "        h = (h0 + h1) * 0.5\n",
        "        score = self.out_layer.forward(h)\n",
        "        loss = self.loss_layer.forward(score, target)\n",
        "        return loss\n",
        "\n",
        "    def backward(self, dout=1):\n",
        "        ds = self.loss_layer.backward(dout)\n",
        "        da = self.out_layer.backward(ds)\n",
        "        da *= 0.5\n",
        "        self.in_layer1.backward(da)\n",
        "        self.in_layer0.backward(da)\n",
        "        return None"
      ],
      "metadata": {
        "id": "vfR9q7pRWVYN"
      },
      "execution_count": null,
      "outputs": []
    },
    {
      "cell_type": "code",
      "source": [
        "from common.trainer import Trainer\n",
        "from common.optimizer import Adam\n",
        "from common.util import preprocess, create_contexts_target, convert_one_hot\n",
        "\n",
        "window_size = 1\n",
        "hidden_size = 5\n",
        "batch_size = 3\n",
        "max_epoch = 1000\n",
        "\n",
        "text = 'You say goodbye and I say hello.'\n",
        "corpus, word_to_id, id_to_word = preprocess(text)\n",
        "\n",
        "vocab_size = len(word_to_id)\n",
        "contexts, target = create_contexts_target(corpus, window_size)\n",
        "target = convert_one_hot(target, vocab_size)\n",
        "contexts = convert_one_hot(contexts, vocab_size)\n",
        "\n",
        "model = SimpleCBOW(vocab_size, hidden_size)\n",
        "optimizer = Adam()\n",
        "trainer = Trainer(model, optimizer)\n",
        "\n",
        "trainer.fit(contexts, target, max_epoch, batch_size)\n",
        "trainer.plot()"
      ],
      "metadata": {
        "id": "YkjsWU-GWaZl",
        "colab": {
          "base_uri": "https://localhost:8080/",
          "height": 1000
        },
        "outputId": "ec7ed0d4-3ccf-4861-c84d-0e1312fc8687"
      },
      "execution_count": null,
      "outputs": [
        {
          "output_type": "stream",
          "name": "stdout",
          "text": [
            "| 에폭 1 |  반복 1 / 2 | 시간 0[s] | 손실 1.95\n",
            "| 에폭 2 |  반복 1 / 2 | 시간 0[s] | 손실 1.95\n",
            "| 에폭 3 |  반복 1 / 2 | 시간 0[s] | 손실 1.95\n",
            "| 에폭 4 |  반복 1 / 2 | 시간 0[s] | 손실 1.95\n",
            "| 에폭 5 |  반복 1 / 2 | 시간 0[s] | 손실 1.95\n",
            "| 에폭 6 |  반복 1 / 2 | 시간 0[s] | 손실 1.95\n",
            "| 에폭 7 |  반복 1 / 2 | 시간 0[s] | 손실 1.95\n",
            "| 에폭 8 |  반복 1 / 2 | 시간 0[s] | 손실 1.95\n",
            "| 에폭 9 |  반복 1 / 2 | 시간 0[s] | 손실 1.95\n",
            "| 에폭 10 |  반복 1 / 2 | 시간 0[s] | 손실 1.94\n",
            "| 에폭 11 |  반복 1 / 2 | 시간 0[s] | 손실 1.94\n",
            "| 에폭 12 |  반복 1 / 2 | 시간 0[s] | 손실 1.94\n",
            "| 에폭 13 |  반복 1 / 2 | 시간 0[s] | 손실 1.94\n",
            "| 에폭 14 |  반복 1 / 2 | 시간 0[s] | 손실 1.94\n",
            "| 에폭 15 |  반복 1 / 2 | 시간 0[s] | 손실 1.94\n",
            "| 에폭 16 |  반복 1 / 2 | 시간 0[s] | 손실 1.94\n",
            "| 에폭 17 |  반복 1 / 2 | 시간 0[s] | 손실 1.94\n",
            "| 에폭 18 |  반복 1 / 2 | 시간 0[s] | 손실 1.94\n",
            "| 에폭 19 |  반복 1 / 2 | 시간 0[s] | 손실 1.94\n",
            "| 에폭 20 |  반복 1 / 2 | 시간 0[s] | 손실 1.94\n",
            "| 에폭 21 |  반복 1 / 2 | 시간 0[s] | 손실 1.94\n",
            "| 에폭 22 |  반복 1 / 2 | 시간 0[s] | 손실 1.94\n",
            "| 에폭 23 |  반복 1 / 2 | 시간 0[s] | 손실 1.94\n",
            "| 에폭 24 |  반복 1 / 2 | 시간 0[s] | 손실 1.94\n",
            "| 에폭 25 |  반복 1 / 2 | 시간 0[s] | 손실 1.94\n",
            "| 에폭 26 |  반복 1 / 2 | 시간 0[s] | 손실 1.94\n",
            "| 에폭 27 |  반복 1 / 2 | 시간 0[s] | 손실 1.94\n",
            "| 에폭 28 |  반복 1 / 2 | 시간 0[s] | 손실 1.94\n",
            "| 에폭 29 |  반복 1 / 2 | 시간 0[s] | 손실 1.94\n",
            "| 에폭 30 |  반복 1 / 2 | 시간 0[s] | 손실 1.94\n",
            "| 에폭 31 |  반복 1 / 2 | 시간 0[s] | 손실 1.93\n",
            "| 에폭 32 |  반복 1 / 2 | 시간 0[s] | 손실 1.93\n",
            "| 에폭 33 |  반복 1 / 2 | 시간 0[s] | 손실 1.93\n",
            "| 에폭 34 |  반복 1 / 2 | 시간 0[s] | 손실 1.93\n",
            "| 에폭 35 |  반복 1 / 2 | 시간 0[s] | 손실 1.93\n",
            "| 에폭 36 |  반복 1 / 2 | 시간 0[s] | 손실 1.93\n",
            "| 에폭 37 |  반복 1 / 2 | 시간 0[s] | 손실 1.93\n",
            "| 에폭 38 |  반복 1 / 2 | 시간 0[s] | 손실 1.93\n",
            "| 에폭 39 |  반복 1 / 2 | 시간 0[s] | 손실 1.93\n",
            "| 에폭 40 |  반복 1 / 2 | 시간 0[s] | 손실 1.92\n",
            "| 에폭 41 |  반복 1 / 2 | 시간 0[s] | 손실 1.92\n",
            "| 에폭 42 |  반복 1 / 2 | 시간 0[s] | 손실 1.92\n",
            "| 에폭 43 |  반복 1 / 2 | 시간 0[s] | 손실 1.92\n",
            "| 에폭 44 |  반복 1 / 2 | 시간 0[s] | 손실 1.92\n",
            "| 에폭 45 |  반복 1 / 2 | 시간 0[s] | 손실 1.91\n",
            "| 에폭 46 |  반복 1 / 2 | 시간 0[s] | 손실 1.91\n",
            "| 에폭 47 |  반복 1 / 2 | 시간 0[s] | 손실 1.92\n",
            "| 에폭 48 |  반복 1 / 2 | 시간 0[s] | 손실 1.91\n",
            "| 에폭 49 |  반복 1 / 2 | 시간 0[s] | 손실 1.91\n",
            "| 에폭 50 |  반복 1 / 2 | 시간 0[s] | 손실 1.91\n",
            "| 에폭 51 |  반복 1 / 2 | 시간 0[s] | 손실 1.90\n",
            "| 에폭 52 |  반복 1 / 2 | 시간 0[s] | 손실 1.91\n",
            "| 에폭 53 |  반복 1 / 2 | 시간 0[s] | 손실 1.90\n",
            "| 에폭 54 |  반복 1 / 2 | 시간 0[s] | 손실 1.90\n",
            "| 에폭 55 |  반복 1 / 2 | 시간 0[s] | 손실 1.89\n",
            "| 에폭 56 |  반복 1 / 2 | 시간 0[s] | 손실 1.90\n",
            "| 에폭 57 |  반복 1 / 2 | 시간 0[s] | 손실 1.88\n",
            "| 에폭 58 |  반복 1 / 2 | 시간 0[s] | 손실 1.90\n",
            "| 에폭 59 |  반복 1 / 2 | 시간 0[s] | 손실 1.89\n",
            "| 에폭 60 |  반복 1 / 2 | 시간 0[s] | 손실 1.89\n",
            "| 에폭 61 |  반복 1 / 2 | 시간 0[s] | 손실 1.88\n",
            "| 에폭 62 |  반복 1 / 2 | 시간 0[s] | 손실 1.87\n",
            "| 에폭 63 |  반복 1 / 2 | 시간 0[s] | 손실 1.89\n",
            "| 에폭 64 |  반복 1 / 2 | 시간 0[s] | 손실 1.88\n",
            "| 에폭 65 |  반복 1 / 2 | 시간 0[s] | 손실 1.87\n",
            "| 에폭 66 |  반복 1 / 2 | 시간 0[s] | 손실 1.86\n",
            "| 에폭 67 |  반복 1 / 2 | 시간 0[s] | 손실 1.86\n",
            "| 에폭 68 |  반복 1 / 2 | 시간 0[s] | 손실 1.87\n",
            "| 에폭 69 |  반복 1 / 2 | 시간 0[s] | 손실 1.87\n",
            "| 에폭 70 |  반복 1 / 2 | 시간 0[s] | 손실 1.85\n",
            "| 에폭 71 |  반복 1 / 2 | 시간 0[s] | 손실 1.86\n",
            "| 에폭 72 |  반복 1 / 2 | 시간 0[s] | 손실 1.86\n",
            "| 에폭 73 |  반복 1 / 2 | 시간 0[s] | 손실 1.84\n",
            "| 에폭 74 |  반복 1 / 2 | 시간 0[s] | 손실 1.85\n",
            "| 에폭 75 |  반복 1 / 2 | 시간 0[s] | 손실 1.84\n",
            "| 에폭 76 |  반복 1 / 2 | 시간 0[s] | 손실 1.83\n",
            "| 에폭 77 |  반복 1 / 2 | 시간 0[s] | 손실 1.83\n",
            "| 에폭 78 |  반복 1 / 2 | 시간 0[s] | 손실 1.85\n",
            "| 에폭 79 |  반복 1 / 2 | 시간 0[s] | 손실 1.81\n",
            "| 에폭 80 |  반복 1 / 2 | 시간 0[s] | 손실 1.83\n",
            "| 에폭 81 |  반복 1 / 2 | 시간 0[s] | 손실 1.83\n",
            "| 에폭 82 |  반복 1 / 2 | 시간 0[s] | 손실 1.83\n",
            "| 에폭 83 |  반복 1 / 2 | 시간 0[s] | 손실 1.79\n",
            "| 에폭 84 |  반복 1 / 2 | 시간 0[s] | 손실 1.81\n",
            "| 에폭 85 |  반복 1 / 2 | 시간 0[s] | 손실 1.81\n",
            "| 에폭 86 |  반복 1 / 2 | 시간 0[s] | 손실 1.79\n",
            "| 에폭 87 |  반복 1 / 2 | 시간 0[s] | 손실 1.82\n",
            "| 에폭 88 |  반복 1 / 2 | 시간 0[s] | 손실 1.80\n",
            "| 에폭 89 |  반복 1 / 2 | 시간 0[s] | 손실 1.79\n",
            "| 에폭 90 |  반복 1 / 2 | 시간 0[s] | 손실 1.78\n",
            "| 에폭 91 |  반복 1 / 2 | 시간 0[s] | 손실 1.79\n",
            "| 에폭 92 |  반복 1 / 2 | 시간 0[s] | 손실 1.75\n",
            "| 에폭 93 |  반복 1 / 2 | 시간 0[s] | 손실 1.81\n",
            "| 에폭 94 |  반복 1 / 2 | 시간 0[s] | 손실 1.77\n",
            "| 에폭 95 |  반복 1 / 2 | 시간 0[s] | 손실 1.79\n",
            "| 에폭 96 |  반복 1 / 2 | 시간 0[s] | 손실 1.76\n",
            "| 에폭 97 |  반복 1 / 2 | 시간 0[s] | 손실 1.74\n",
            "| 에폭 98 |  반복 1 / 2 | 시간 0[s] | 손실 1.77\n",
            "| 에폭 99 |  반복 1 / 2 | 시간 0[s] | 손실 1.75\n",
            "| 에폭 100 |  반복 1 / 2 | 시간 0[s] | 손실 1.73\n",
            "| 에폭 101 |  반복 1 / 2 | 시간 0[s] | 손실 1.73\n",
            "| 에폭 102 |  반복 1 / 2 | 시간 0[s] | 손실 1.77\n",
            "| 에폭 103 |  반복 1 / 2 | 시간 0[s] | 손실 1.70\n",
            "| 에폭 104 |  반복 1 / 2 | 시간 0[s] | 손실 1.78\n",
            "| 에폭 105 |  반복 1 / 2 | 시간 0[s] | 손실 1.70\n",
            "| 에폭 106 |  반복 1 / 2 | 시간 0[s] | 손실 1.73\n",
            "| 에폭 107 |  반복 1 / 2 | 시간 0[s] | 손실 1.70\n",
            "| 에폭 108 |  반복 1 / 2 | 시간 0[s] | 손실 1.74\n",
            "| 에폭 109 |  반복 1 / 2 | 시간 0[s] | 손실 1.68\n",
            "| 에폭 110 |  반복 1 / 2 | 시간 0[s] | 손실 1.74\n",
            "| 에폭 111 |  반복 1 / 2 | 시간 0[s] | 손실 1.67\n",
            "| 에폭 112 |  반복 1 / 2 | 시간 0[s] | 손실 1.73\n",
            "| 에폭 113 |  반복 1 / 2 | 시간 0[s] | 손실 1.67\n",
            "| 에폭 114 |  반복 1 / 2 | 시간 0[s] | 손실 1.73\n",
            "| 에폭 115 |  반복 1 / 2 | 시간 0[s] | 손실 1.63\n",
            "| 에폭 116 |  반복 1 / 2 | 시간 0[s] | 손실 1.71\n",
            "| 에폭 117 |  반복 1 / 2 | 시간 0[s] | 손실 1.64\n",
            "| 에폭 118 |  반복 1 / 2 | 시간 0[s] | 손실 1.70\n",
            "| 에폭 119 |  반복 1 / 2 | 시간 0[s] | 손실 1.66\n",
            "| 에폭 120 |  반복 1 / 2 | 시간 0[s] | 손실 1.62\n",
            "| 에폭 121 |  반복 1 / 2 | 시간 0[s] | 손실 1.66\n",
            "| 에폭 122 |  반복 1 / 2 | 시간 0[s] | 손실 1.70\n",
            "| 에폭 123 |  반복 1 / 2 | 시간 0[s] | 손실 1.60\n",
            "| 에폭 124 |  반복 1 / 2 | 시간 0[s] | 손실 1.66\n",
            "| 에폭 125 |  반복 1 / 2 | 시간 0[s] | 손실 1.68\n",
            "| 에폭 126 |  반복 1 / 2 | 시간 0[s] | 손실 1.62\n",
            "| 에폭 127 |  반복 1 / 2 | 시간 0[s] | 손실 1.59\n",
            "| 에폭 128 |  반복 1 / 2 | 시간 0[s] | 손실 1.60\n",
            "| 에폭 129 |  반복 1 / 2 | 시간 0[s] | 손실 1.66\n",
            "| 에폭 130 |  반복 1 / 2 | 시간 0[s] | 손실 1.63\n",
            "| 에폭 131 |  반복 1 / 2 | 시간 0[s] | 손실 1.55\n",
            "| 에폭 132 |  반복 1 / 2 | 시간 0[s] | 손실 1.66\n",
            "| 에폭 133 |  반복 1 / 2 | 시간 0[s] | 손실 1.58\n",
            "| 에폭 134 |  반복 1 / 2 | 시간 0[s] | 손실 1.61\n",
            "| 에폭 135 |  반복 1 / 2 | 시간 0[s] | 손실 1.52\n",
            "| 에폭 136 |  반복 1 / 2 | 시간 0[s] | 손실 1.60\n",
            "| 에폭 137 |  반복 1 / 2 | 시간 0[s] | 손실 1.60\n",
            "| 에폭 138 |  반복 1 / 2 | 시간 0[s] | 손실 1.55\n",
            "| 에폭 139 |  반복 1 / 2 | 시간 0[s] | 손실 1.59\n",
            "| 에폭 140 |  반복 1 / 2 | 시간 0[s] | 손실 1.56\n",
            "| 에폭 141 |  반복 1 / 2 | 시간 0[s] | 손실 1.53\n",
            "| 에폭 142 |  반복 1 / 2 | 시간 0[s] | 손실 1.55\n",
            "| 에폭 143 |  반복 1 / 2 | 시간 0[s] | 손실 1.59\n",
            "| 에폭 144 |  반복 1 / 2 | 시간 0[s] | 손실 1.52\n",
            "| 에폭 145 |  반복 1 / 2 | 시간 0[s] | 손실 1.58\n",
            "| 에폭 146 |  반복 1 / 2 | 시간 0[s] | 손실 1.46\n",
            "| 에폭 147 |  반복 1 / 2 | 시간 0[s] | 손실 1.51\n",
            "| 에폭 148 |  반복 1 / 2 | 시간 0[s] | 손실 1.54\n",
            "| 에폭 149 |  반복 1 / 2 | 시간 0[s] | 손실 1.54\n",
            "| 에폭 150 |  반복 1 / 2 | 시간 0[s] | 손실 1.53\n",
            "| 에폭 151 |  반복 1 / 2 | 시간 0[s] | 손실 1.51\n",
            "| 에폭 152 |  반복 1 / 2 | 시간 0[s] | 손실 1.47\n",
            "| 에폭 153 |  반복 1 / 2 | 시간 0[s] | 손실 1.52\n",
            "| 에폭 154 |  반복 1 / 2 | 시간 0[s] | 손실 1.44\n",
            "| 에폭 155 |  반복 1 / 2 | 시간 0[s] | 손실 1.49\n",
            "| 에폭 156 |  반복 1 / 2 | 시간 0[s] | 손실 1.53\n",
            "| 에폭 157 |  반복 1 / 2 | 시간 0[s] | 손실 1.37\n",
            "| 에폭 158 |  반복 1 / 2 | 시간 0[s] | 손실 1.60\n",
            "| 에폭 159 |  반복 1 / 2 | 시간 0[s] | 손실 1.38\n",
            "| 에폭 160 |  반복 1 / 2 | 시간 0[s] | 손실 1.46\n",
            "| 에폭 161 |  반복 1 / 2 | 시간 0[s] | 손실 1.51\n",
            "| 에폭 162 |  반복 1 / 2 | 시간 0[s] | 손실 1.48\n",
            "| 에폭 163 |  반복 1 / 2 | 시간 0[s] | 손실 1.45\n",
            "| 에폭 164 |  반복 1 / 2 | 시간 0[s] | 손실 1.36\n",
            "| 에폭 165 |  반복 1 / 2 | 시간 0[s] | 손실 1.49\n",
            "| 에폭 166 |  반복 1 / 2 | 시간 0[s] | 손실 1.32\n",
            "| 에폭 167 |  반복 1 / 2 | 시간 0[s] | 손실 1.57\n",
            "| 에폭 168 |  반복 1 / 2 | 시간 0[s] | 손실 1.33\n",
            "| 에폭 169 |  반복 1 / 2 | 시간 0[s] | 손실 1.48\n",
            "| 에폭 170 |  반복 1 / 2 | 시간 0[s] | 손실 1.34\n",
            "| 에폭 171 |  반복 1 / 2 | 시간 0[s] | 손실 1.41\n",
            "| 에폭 172 |  반복 1 / 2 | 시간 0[s] | 손실 1.49\n",
            "| 에폭 173 |  반복 1 / 2 | 시간 0[s] | 손실 1.30\n",
            "| 에폭 174 |  반복 1 / 2 | 시간 0[s] | 손실 1.46\n",
            "| 에폭 175 |  반복 1 / 2 | 시간 0[s] | 손실 1.28\n",
            "| 에폭 176 |  반복 1 / 2 | 시간 0[s] | 손실 1.51\n",
            "| 에폭 177 |  반복 1 / 2 | 시간 0[s] | 손실 1.22\n",
            "| 에폭 178 |  반복 1 / 2 | 시간 0[s] | 손실 1.46\n",
            "| 에폭 179 |  반복 1 / 2 | 시간 0[s] | 손실 1.33\n",
            "| 에폭 180 |  반복 1 / 2 | 시간 0[s] | 손실 1.43\n",
            "| 에폭 181 |  반복 1 / 2 | 시간 0[s] | 손실 1.33\n",
            "| 에폭 182 |  반복 1 / 2 | 시간 0[s] | 손실 1.35\n",
            "| 에폭 183 |  반복 1 / 2 | 시간 0[s] | 손실 1.32\n",
            "| 에폭 184 |  반복 1 / 2 | 시간 0[s] | 손실 1.31\n",
            "| 에폭 185 |  반복 1 / 2 | 시간 0[s] | 손실 1.30\n",
            "| 에폭 186 |  반복 1 / 2 | 시간 0[s] | 손실 1.40\n",
            "| 에폭 187 |  반복 1 / 2 | 시간 0[s] | 손실 1.43\n",
            "| 에폭 188 |  반복 1 / 2 | 시간 0[s] | 손실 1.19\n",
            "| 에폭 189 |  반복 1 / 2 | 시간 0[s] | 손실 1.35\n",
            "| 에폭 190 |  반복 1 / 2 | 시간 0[s] | 손실 1.30\n",
            "| 에폭 191 |  반복 1 / 2 | 시간 0[s] | 손실 1.35\n",
            "| 에폭 192 |  반복 1 / 2 | 시간 0[s] | 손실 1.27\n",
            "| 에폭 193 |  반복 1 / 2 | 시간 0[s] | 손실 1.29\n",
            "| 에폭 194 |  반복 1 / 2 | 시간 0[s] | 손실 1.42\n",
            "| 에폭 195 |  반복 1 / 2 | 시간 0[s] | 손실 1.18\n",
            "| 에폭 196 |  반복 1 / 2 | 시간 0[s] | 손실 1.33\n",
            "| 에폭 197 |  반복 1 / 2 | 시간 0[s] | 손실 1.20\n",
            "| 에폭 198 |  반복 1 / 2 | 시간 0[s] | 손실 1.34\n",
            "| 에폭 199 |  반복 1 / 2 | 시간 0[s] | 손실 1.27\n",
            "| 에폭 200 |  반복 1 / 2 | 시간 0[s] | 손실 1.22\n",
            "| 에폭 201 |  반복 1 / 2 | 시간 0[s] | 손실 1.26\n",
            "| 에폭 202 |  반복 1 / 2 | 시간 0[s] | 손실 1.28\n",
            "| 에폭 203 |  반복 1 / 2 | 시간 0[s] | 손실 1.32\n",
            "| 에폭 204 |  반복 1 / 2 | 시간 0[s] | 손실 1.21\n",
            "| 에폭 205 |  반복 1 / 2 | 시간 0[s] | 손실 1.33\n",
            "| 에폭 206 |  반복 1 / 2 | 시간 0[s] | 손실 1.13\n",
            "| 에폭 207 |  반복 1 / 2 | 시간 0[s] | 손실 1.29\n",
            "| 에폭 208 |  반복 1 / 2 | 시간 0[s] | 손실 1.21\n",
            "| 에폭 209 |  반복 1 / 2 | 시간 0[s] | 손실 1.23\n",
            "| 에폭 210 |  반복 1 / 2 | 시간 0[s] | 손실 1.22\n",
            "| 에폭 211 |  반복 1 / 2 | 시간 0[s] | 손실 1.22\n",
            "| 에폭 212 |  반복 1 / 2 | 시간 0[s] | 손실 1.22\n",
            "| 에폭 213 |  반복 1 / 2 | 시간 0[s] | 손실 1.21\n",
            "| 에폭 214 |  반복 1 / 2 | 시간 0[s] | 손실 1.18\n",
            "| 에폭 215 |  반복 1 / 2 | 시간 0[s] | 손실 1.18\n",
            "| 에폭 216 |  반복 1 / 2 | 시간 0[s] | 손실 1.23\n",
            "| 에폭 217 |  반복 1 / 2 | 시간 0[s] | 손실 1.31\n",
            "| 에폭 218 |  반복 1 / 2 | 시간 0[s] | 손실 1.19\n",
            "| 에폭 219 |  반복 1 / 2 | 시간 0[s] | 손실 1.02\n",
            "| 에폭 220 |  반복 1 / 2 | 시간 0[s] | 손실 1.30\n",
            "| 에폭 221 |  반복 1 / 2 | 시간 0[s] | 손실 1.12\n",
            "| 에폭 222 |  반복 1 / 2 | 시간 0[s] | 손실 1.24\n",
            "| 에폭 223 |  반복 1 / 2 | 시간 0[s] | 손실 1.11\n",
            "| 에폭 224 |  반복 1 / 2 | 시간 0[s] | 손실 1.17\n",
            "| 에폭 225 |  반복 1 / 2 | 시간 0[s] | 손실 1.19\n",
            "| 에폭 226 |  반복 1 / 2 | 시간 0[s] | 손실 1.10\n",
            "| 에폭 227 |  반복 1 / 2 | 시간 0[s] | 손실 1.22\n",
            "| 에폭 228 |  반복 1 / 2 | 시간 0[s] | 손실 1.19\n",
            "| 에폭 229 |  반복 1 / 2 | 시간 0[s] | 손실 0.99\n",
            "| 에폭 230 |  반복 1 / 2 | 시간 0[s] | 손실 1.20\n",
            "| 에폭 231 |  반복 1 / 2 | 시간 0[s] | 손실 1.13\n",
            "| 에폭 232 |  반복 1 / 2 | 시간 0[s] | 손실 1.17\n",
            "| 에폭 233 |  반복 1 / 2 | 시간 0[s] | 손실 1.15\n",
            "| 에폭 234 |  반복 1 / 2 | 시간 0[s] | 손실 1.23\n",
            "| 에폭 235 |  반복 1 / 2 | 시간 0[s] | 손실 0.94\n",
            "| 에폭 236 |  반복 1 / 2 | 시간 0[s] | 손실 1.20\n",
            "| 에폭 237 |  반복 1 / 2 | 시간 0[s] | 손실 1.00\n",
            "| 에폭 238 |  반복 1 / 2 | 시간 0[s] | 손실 1.23\n",
            "| 에폭 239 |  반복 1 / 2 | 시간 0[s] | 손실 1.05\n",
            "| 에폭 240 |  반복 1 / 2 | 시간 0[s] | 손실 1.27\n",
            "| 에폭 241 |  반복 1 / 2 | 시간 0[s] | 손실 1.00\n",
            "| 에폭 242 |  반복 1 / 2 | 시간 0[s] | 손실 1.10\n",
            "| 에폭 243 |  반복 1 / 2 | 시간 0[s] | 손실 1.08\n",
            "| 에폭 244 |  반복 1 / 2 | 시간 0[s] | 손실 1.11\n",
            "| 에폭 245 |  반복 1 / 2 | 시간 0[s] | 손실 1.01\n",
            "| 에폭 246 |  반복 1 / 2 | 시간 0[s] | 손실 1.21\n",
            "| 에폭 247 |  반복 1 / 2 | 시간 0[s] | 손실 1.02\n",
            "| 에폭 248 |  반복 1 / 2 | 시간 0[s] | 손실 1.07\n",
            "| 에폭 249 |  반복 1 / 2 | 시간 0[s] | 손실 1.07\n",
            "| 에폭 250 |  반복 1 / 2 | 시간 0[s] | 손실 1.07\n",
            "| 에폭 251 |  반복 1 / 2 | 시간 0[s] | 손실 0.96\n",
            "| 에폭 252 |  반복 1 / 2 | 시간 0[s] | 손실 1.12\n",
            "| 에폭 253 |  반복 1 / 2 | 시간 0[s] | 손실 1.17\n",
            "| 에폭 254 |  반복 1 / 2 | 시간 0[s] | 손실 1.07\n",
            "| 에폭 255 |  반복 1 / 2 | 시간 0[s] | 손실 1.03\n",
            "| 에폭 256 |  반복 1 / 2 | 시간 0[s] | 손실 1.05\n",
            "| 에폭 257 |  반복 1 / 2 | 시간 0[s] | 손실 1.06\n",
            "| 에폭 258 |  반복 1 / 2 | 시간 0[s] | 손실 1.09\n",
            "| 에폭 259 |  반복 1 / 2 | 시간 0[s] | 손실 0.92\n",
            "| 에폭 260 |  반복 1 / 2 | 시간 0[s] | 손실 1.03\n",
            "| 에폭 261 |  반복 1 / 2 | 시간 0[s] | 손실 1.03\n",
            "| 에폭 262 |  반복 1 / 2 | 시간 0[s] | 손실 0.92\n",
            "| 에폭 263 |  반복 1 / 2 | 시간 0[s] | 손실 1.07\n",
            "| 에폭 264 |  반복 1 / 2 | 시간 0[s] | 손실 1.09\n",
            "| 에폭 265 |  반복 1 / 2 | 시간 0[s] | 손실 1.14\n",
            "| 에폭 266 |  반복 1 / 2 | 시간 0[s] | 손실 0.83\n",
            "| 에폭 267 |  반복 1 / 2 | 시간 0[s] | 손실 1.08\n",
            "| 에폭 268 |  반복 1 / 2 | 시간 0[s] | 손실 0.96\n",
            "| 에폭 269 |  반복 1 / 2 | 시간 0[s] | 손실 1.01\n",
            "| 에폭 270 |  반복 1 / 2 | 시간 0[s] | 손실 1.05\n",
            "| 에폭 271 |  반복 1 / 2 | 시간 0[s] | 손실 1.07\n",
            "| 에폭 272 |  반복 1 / 2 | 시간 0[s] | 손실 0.86\n",
            "| 에폭 273 |  반복 1 / 2 | 시간 0[s] | 손실 0.95\n",
            "| 에폭 274 |  반복 1 / 2 | 시간 0[s] | 손실 0.99\n",
            "| 에폭 275 |  반복 1 / 2 | 시간 0[s] | 손실 1.04\n",
            "| 에폭 276 |  반복 1 / 2 | 시간 0[s] | 손실 1.17\n",
            "| 에폭 277 |  반복 1 / 2 | 시간 0[s] | 손실 0.91\n",
            "| 에폭 278 |  반복 1 / 2 | 시간 0[s] | 손실 0.82\n",
            "| 에폭 279 |  반복 1 / 2 | 시간 0[s] | 손실 0.97\n",
            "| 에폭 280 |  반복 1 / 2 | 시간 0[s] | 손실 1.04\n",
            "| 에폭 281 |  반복 1 / 2 | 시간 0[s] | 손실 1.09\n",
            "| 에폭 282 |  반복 1 / 2 | 시간 0[s] | 손실 0.94\n",
            "| 에폭 283 |  반복 1 / 2 | 시간 0[s] | 손실 0.91\n",
            "| 에폭 284 |  반복 1 / 2 | 시간 0[s] | 손실 0.97\n",
            "| 에폭 285 |  반복 1 / 2 | 시간 0[s] | 손실 1.07\n",
            "| 에폭 286 |  반복 1 / 2 | 시간 0[s] | 손실 0.84\n",
            "| 에폭 287 |  반복 1 / 2 | 시간 0[s] | 손실 0.88\n",
            "| 에폭 288 |  반복 1 / 2 | 시간 0[s] | 손실 1.07\n",
            "| 에폭 289 |  반복 1 / 2 | 시간 0[s] | 손실 0.95\n",
            "| 에폭 290 |  반복 1 / 2 | 시간 0[s] | 손실 0.83\n",
            "| 에폭 291 |  반복 1 / 2 | 시간 0[s] | 손실 1.01\n",
            "| 에폭 292 |  반복 1 / 2 | 시간 0[s] | 손실 0.86\n",
            "| 에폭 293 |  반복 1 / 2 | 시간 0[s] | 손실 1.01\n",
            "| 에폭 294 |  반복 1 / 2 | 시간 0[s] | 손실 0.95\n",
            "| 에폭 295 |  반복 1 / 2 | 시간 0[s] | 손실 0.81\n",
            "| 에폭 296 |  반복 1 / 2 | 시간 0[s] | 손실 1.05\n",
            "| 에폭 297 |  반복 1 / 2 | 시간 0[s] | 손실 0.91\n",
            "| 에폭 298 |  반복 1 / 2 | 시간 0[s] | 손실 0.89\n",
            "| 에폭 299 |  반복 1 / 2 | 시간 0[s] | 손실 1.01\n",
            "| 에폭 300 |  반복 1 / 2 | 시간 0[s] | 손실 0.94\n",
            "| 에폭 301 |  반복 1 / 2 | 시간 0[s] | 손실 0.74\n",
            "| 에폭 302 |  반복 1 / 2 | 시간 0[s] | 손실 0.95\n",
            "| 에폭 303 |  반복 1 / 2 | 시간 0[s] | 손실 0.98\n",
            "| 에폭 304 |  반복 1 / 2 | 시간 0[s] | 손실 0.88\n",
            "| 에폭 305 |  반복 1 / 2 | 시간 0[s] | 손실 0.99\n",
            "| 에폭 306 |  반복 1 / 2 | 시간 0[s] | 손실 0.97\n",
            "| 에폭 307 |  반복 1 / 2 | 시간 0[s] | 손실 0.80\n",
            "| 에폭 308 |  반복 1 / 2 | 시간 0[s] | 손실 1.00\n",
            "| 에폭 309 |  반복 1 / 2 | 시간 0[s] | 손실 0.84\n",
            "| 에폭 310 |  반복 1 / 2 | 시간 0[s] | 손실 0.82\n",
            "| 에폭 311 |  반복 1 / 2 | 시간 0[s] | 손실 0.94\n",
            "| 에폭 312 |  반복 1 / 2 | 시간 0[s] | 손실 0.93\n",
            "| 에폭 313 |  반복 1 / 2 | 시간 0[s] | 손실 0.91\n",
            "| 에폭 314 |  반복 1 / 2 | 시간 0[s] | 손실 0.78\n",
            "| 에폭 315 |  반복 1 / 2 | 시간 0[s] | 손실 0.85\n",
            "| 에폭 316 |  반복 1 / 2 | 시간 0[s] | 손실 0.93\n",
            "| 에폭 317 |  반복 1 / 2 | 시간 0[s] | 손실 0.90\n",
            "| 에폭 318 |  반복 1 / 2 | 시간 0[s] | 손실 0.90\n",
            "| 에폭 319 |  반복 1 / 2 | 시간 0[s] | 손실 0.79\n",
            "| 에폭 320 |  반복 1 / 2 | 시간 0[s] | 손실 0.87\n",
            "| 에폭 321 |  반복 1 / 2 | 시간 0[s] | 손실 0.84\n",
            "| 에폭 322 |  반복 1 / 2 | 시간 0[s] | 손실 0.89\n",
            "| 에폭 323 |  반복 1 / 2 | 시간 0[s] | 손실 0.95\n",
            "| 에폭 324 |  반복 1 / 2 | 시간 0[s] | 손실 0.78\n",
            "| 에폭 325 |  반복 1 / 2 | 시간 0[s] | 손실 0.73\n",
            "| 에폭 326 |  반복 1 / 2 | 시간 0[s] | 손실 0.96\n",
            "| 에폭 327 |  반복 1 / 2 | 시간 0[s] | 손실 0.92\n",
            "| 에폭 328 |  반복 1 / 2 | 시간 0[s] | 손실 0.74\n",
            "| 에폭 329 |  반복 1 / 2 | 시간 0[s] | 손실 0.84\n",
            "| 에폭 330 |  반복 1 / 2 | 시간 0[s] | 손실 0.88\n",
            "| 에폭 331 |  반복 1 / 2 | 시간 0[s] | 손실 0.88\n",
            "| 에폭 332 |  반복 1 / 2 | 시간 0[s] | 손실 0.72\n",
            "| 에폭 333 |  반복 1 / 2 | 시간 0[s] | 손실 0.91\n",
            "| 에폭 334 |  반복 1 / 2 | 시간 0[s] | 손실 0.71\n",
            "| 에폭 335 |  반복 1 / 2 | 시간 0[s] | 손실 0.88\n",
            "| 에폭 336 |  반복 1 / 2 | 시간 0[s] | 손실 0.86\n",
            "| 에폭 337 |  반복 1 / 2 | 시간 0[s] | 손실 0.82\n",
            "| 에폭 338 |  반복 1 / 2 | 시간 0[s] | 손실 0.88\n",
            "| 에폭 339 |  반복 1 / 2 | 시간 0[s] | 손실 0.77\n",
            "| 에폭 340 |  반복 1 / 2 | 시간 0[s] | 손실 0.94\n",
            "| 에폭 341 |  반복 1 / 2 | 시간 0[s] | 손실 0.69\n",
            "| 에폭 342 |  반복 1 / 2 | 시간 0[s] | 손실 0.81\n",
            "| 에폭 343 |  반복 1 / 2 | 시간 0[s] | 손실 0.86\n",
            "| 에폭 344 |  반복 1 / 2 | 시간 0[s] | 손실 0.68\n",
            "| 에폭 345 |  반복 1 / 2 | 시간 0[s] | 손실 1.01\n",
            "| 에폭 346 |  반복 1 / 2 | 시간 0[s] | 손실 0.68\n",
            "| 에폭 347 |  반복 1 / 2 | 시간 0[s] | 손실 0.93\n",
            "| 에폭 348 |  반복 1 / 2 | 시간 0[s] | 손실 0.72\n",
            "| 에폭 349 |  반복 1 / 2 | 시간 0[s] | 손실 0.67\n",
            "| 에폭 350 |  반복 1 / 2 | 시간 0[s] | 손실 0.87\n",
            "| 에폭 351 |  반복 1 / 2 | 시간 0[s] | 손실 0.79\n",
            "| 에폭 352 |  반복 1 / 2 | 시간 0[s] | 손실 0.87\n",
            "| 에폭 353 |  반복 1 / 2 | 시간 0[s] | 손실 0.68\n",
            "| 에폭 354 |  반복 1 / 2 | 시간 0[s] | 손실 0.94\n",
            "| 에폭 355 |  반복 1 / 2 | 시간 0[s] | 손실 0.58\n",
            "| 에폭 356 |  반복 1 / 2 | 시간 0[s] | 손실 0.78\n",
            "| 에폭 357 |  반복 1 / 2 | 시간 0[s] | 손실 0.78\n",
            "| 에폭 358 |  반복 1 / 2 | 시간 0[s] | 손실 0.90\n",
            "| 에폭 359 |  반복 1 / 2 | 시간 0[s] | 손실 0.73\n",
            "| 에폭 360 |  반복 1 / 2 | 시간 0[s] | 손실 0.70\n",
            "| 에폭 361 |  반복 1 / 2 | 시간 0[s] | 손실 0.97\n",
            "| 에폭 362 |  반복 1 / 2 | 시간 0[s] | 손실 0.71\n",
            "| 에폭 363 |  반복 1 / 2 | 시간 0[s] | 손실 0.69\n",
            "| 에폭 364 |  반복 1 / 2 | 시간 0[s] | 손실 0.70\n",
            "| 에폭 365 |  반복 1 / 2 | 시간 0[s] | 손실 0.83\n",
            "| 에폭 366 |  반복 1 / 2 | 시간 0[s] | 손실 0.69\n",
            "| 에폭 367 |  반복 1 / 2 | 시간 0[s] | 손실 0.87\n",
            "| 에폭 368 |  반복 1 / 2 | 시간 0[s] | 손실 0.77\n",
            "| 에폭 369 |  반복 1 / 2 | 시간 0[s] | 손실 0.70\n",
            "| 에폭 370 |  반복 1 / 2 | 시간 0[s] | 손실 0.88\n",
            "| 에폭 371 |  반복 1 / 2 | 시간 0[s] | 손실 0.75\n",
            "| 에폭 372 |  반복 1 / 2 | 시간 0[s] | 손실 0.56\n",
            "| 에폭 373 |  반복 1 / 2 | 시간 0[s] | 손실 0.81\n",
            "| 에폭 374 |  반복 1 / 2 | 시간 0[s] | 손실 0.74\n",
            "| 에폭 375 |  반복 1 / 2 | 시간 0[s] | 손실 0.80\n",
            "| 에폭 376 |  반복 1 / 2 | 시간 0[s] | 손실 0.66\n",
            "| 에폭 377 |  반복 1 / 2 | 시간 0[s] | 손실 0.80\n",
            "| 에폭 378 |  반복 1 / 2 | 시간 0[s] | 손실 0.74\n",
            "| 에폭 379 |  반복 1 / 2 | 시간 0[s] | 손실 0.76\n",
            "| 에폭 380 |  반복 1 / 2 | 시간 0[s] | 손실 0.69\n",
            "| 에폭 381 |  반복 1 / 2 | 시간 0[s] | 손실 0.83\n",
            "| 에폭 382 |  반복 1 / 2 | 시간 0[s] | 손실 0.61\n",
            "| 에폭 383 |  반복 1 / 2 | 시간 0[s] | 손실 0.71\n",
            "| 에폭 384 |  반복 1 / 2 | 시간 0[s] | 손실 0.81\n",
            "| 에폭 385 |  반복 1 / 2 | 시간 0[s] | 손실 0.64\n",
            "| 에폭 386 |  반복 1 / 2 | 시간 0[s] | 손실 0.68\n",
            "| 에폭 387 |  반복 1 / 2 | 시간 0[s] | 손실 0.84\n",
            "| 에폭 388 |  반복 1 / 2 | 시간 0[s] | 손실 0.72\n",
            "| 에폭 389 |  반복 1 / 2 | 시간 0[s] | 손실 0.77\n",
            "| 에폭 390 |  반복 1 / 2 | 시간 0[s] | 손실 0.68\n",
            "| 에폭 391 |  반복 1 / 2 | 시간 0[s] | 손실 0.70\n",
            "| 에폭 392 |  반복 1 / 2 | 시간 0[s] | 손실 0.63\n",
            "| 에폭 393 |  반복 1 / 2 | 시간 0[s] | 손실 0.67\n",
            "| 에폭 394 |  반복 1 / 2 | 시간 0[s] | 손실 0.79\n",
            "| 에폭 395 |  반복 1 / 2 | 시간 0[s] | 손실 0.75\n",
            "| 에폭 396 |  반복 1 / 2 | 시간 0[s] | 손실 0.57\n",
            "| 에폭 397 |  반복 1 / 2 | 시간 0[s] | 손실 0.74\n",
            "| 에폭 398 |  반복 1 / 2 | 시간 0[s] | 손실 0.78\n",
            "| 에폭 399 |  반복 1 / 2 | 시간 0[s] | 손실 0.66\n",
            "| 에폭 400 |  반복 1 / 2 | 시간 0[s] | 손실 0.73\n",
            "| 에폭 401 |  반복 1 / 2 | 시간 0[s] | 손실 0.58\n",
            "| 에폭 402 |  반복 1 / 2 | 시간 0[s] | 손실 0.85\n",
            "| 에폭 403 |  반복 1 / 2 | 시간 0[s] | 손실 0.65\n",
            "| 에폭 404 |  반복 1 / 2 | 시간 0[s] | 손실 0.56\n",
            "| 에폭 405 |  반복 1 / 2 | 시간 0[s] | 손실 0.76\n",
            "| 에폭 406 |  반복 1 / 2 | 시간 0[s] | 손실 0.65\n",
            "| 에폭 407 |  반복 1 / 2 | 시간 0[s] | 손실 0.68\n",
            "| 에폭 408 |  반복 1 / 2 | 시간 0[s] | 손실 0.68\n",
            "| 에폭 409 |  반복 1 / 2 | 시간 0[s] | 손실 0.72\n",
            "| 에폭 410 |  반복 1 / 2 | 시간 0[s] | 손실 0.60\n",
            "| 에폭 411 |  반복 1 / 2 | 시간 0[s] | 손실 0.79\n",
            "| 에폭 412 |  반복 1 / 2 | 시간 0[s] | 손실 0.64\n",
            "| 에폭 413 |  반복 1 / 2 | 시간 0[s] | 손실 0.74\n",
            "| 에폭 414 |  반복 1 / 2 | 시간 0[s] | 손실 0.60\n",
            "| 에폭 415 |  반복 1 / 2 | 시간 0[s] | 손실 0.59\n",
            "| 에폭 416 |  반복 1 / 2 | 시간 0[s] | 손실 0.82\n",
            "| 에폭 417 |  반복 1 / 2 | 시간 0[s] | 손실 0.58\n",
            "| 에폭 418 |  반복 1 / 2 | 시간 0[s] | 손실 0.74\n",
            "| 에폭 419 |  반복 1 / 2 | 시간 0[s] | 손실 0.58\n",
            "| 에폭 420 |  반복 1 / 2 | 시간 0[s] | 손실 0.66\n",
            "| 에폭 421 |  반복 1 / 2 | 시간 0[s] | 손실 0.74\n",
            "| 에폭 422 |  반복 1 / 2 | 시간 0[s] | 손실 0.57\n",
            "| 에폭 423 |  반복 1 / 2 | 시간 0[s] | 손실 0.70\n",
            "| 에폭 424 |  반복 1 / 2 | 시간 0[s] | 손실 0.74\n",
            "| 에폭 425 |  반복 1 / 2 | 시간 0[s] | 손실 0.54\n",
            "| 에폭 426 |  반복 1 / 2 | 시간 0[s] | 손실 0.68\n",
            "| 에폭 427 |  반복 1 / 2 | 시간 0[s] | 손실 0.65\n",
            "| 에폭 428 |  반복 1 / 2 | 시간 0[s] | 손실 0.64\n",
            "| 에폭 429 |  반복 1 / 2 | 시간 0[s] | 손실 0.65\n",
            "| 에폭 430 |  반복 1 / 2 | 시간 0[s] | 손실 0.65\n",
            "| 에폭 431 |  반복 1 / 2 | 시간 0[s] | 손실 0.64\n",
            "| 에폭 432 |  반복 1 / 2 | 시간 0[s] | 손실 0.59\n",
            "| 에폭 433 |  반복 1 / 2 | 시간 0[s] | 손실 0.64\n",
            "| 에폭 434 |  반복 1 / 2 | 시간 0[s] | 손실 0.61\n",
            "| 에폭 435 |  반복 1 / 2 | 시간 0[s] | 손실 0.66\n",
            "| 에폭 436 |  반복 1 / 2 | 시간 0[s] | 손실 0.69\n",
            "| 에폭 437 |  반복 1 / 2 | 시간 0[s] | 손실 0.63\n",
            "| 에폭 438 |  반복 1 / 2 | 시간 0[s] | 손실 0.52\n",
            "| 에폭 439 |  반복 1 / 2 | 시간 0[s] | 손실 0.74\n",
            "| 에폭 440 |  반복 1 / 2 | 시간 0[s] | 손실 0.60\n",
            "| 에폭 441 |  반복 1 / 2 | 시간 0[s] | 손실 0.65\n",
            "| 에폭 442 |  반복 1 / 2 | 시간 0[s] | 손실 0.54\n",
            "| 에폭 443 |  반복 1 / 2 | 시간 0[s] | 손실 0.65\n",
            "| 에폭 444 |  반복 1 / 2 | 시간 0[s] | 손실 0.60\n",
            "| 에폭 445 |  반복 1 / 2 | 시간 0[s] | 손실 0.70\n",
            "| 에폭 446 |  반복 1 / 2 | 시간 0[s] | 손실 0.62\n",
            "| 에폭 447 |  반복 1 / 2 | 시간 0[s] | 손실 0.53\n",
            "| 에폭 448 |  반복 1 / 2 | 시간 0[s] | 손실 0.64\n",
            "| 에폭 449 |  반복 1 / 2 | 시간 0[s] | 손실 0.59\n",
            "| 에폭 450 |  반복 1 / 2 | 시간 0[s] | 손실 0.61\n",
            "| 에폭 451 |  반복 1 / 2 | 시간 0[s] | 손실 0.69\n",
            "| 에폭 452 |  반복 1 / 2 | 시간 0[s] | 손실 0.51\n",
            "| 에폭 453 |  반복 1 / 2 | 시간 0[s] | 손실 0.61\n",
            "| 에폭 454 |  반복 1 / 2 | 시간 0[s] | 손실 0.73\n",
            "| 에폭 455 |  반복 1 / 2 | 시간 0[s] | 손실 0.48\n",
            "| 에폭 456 |  반복 1 / 2 | 시간 0[s] | 손실 0.72\n",
            "| 에폭 457 |  반복 1 / 2 | 시간 0[s] | 손실 0.50\n",
            "| 에폭 458 |  반복 1 / 2 | 시간 0[s] | 손실 0.58\n",
            "| 에폭 459 |  반복 1 / 2 | 시간 0[s] | 손실 0.60\n",
            "| 에폭 460 |  반복 1 / 2 | 시간 0[s] | 손실 0.60\n",
            "| 에폭 461 |  반복 1 / 2 | 시간 0[s] | 손실 0.70\n",
            "| 에폭 462 |  반복 1 / 2 | 시간 0[s] | 손실 0.60\n",
            "| 에폭 463 |  반복 1 / 2 | 시간 0[s] | 손실 0.52\n",
            "| 에폭 464 |  반복 1 / 2 | 시간 0[s] | 손실 0.56\n",
            "| 에폭 465 |  반복 1 / 2 | 시간 0[s] | 손실 0.69\n",
            "| 에폭 466 |  반복 1 / 2 | 시간 0[s] | 손실 0.49\n",
            "| 에폭 467 |  반복 1 / 2 | 시간 0[s] | 손실 0.70\n",
            "| 에폭 468 |  반복 1 / 2 | 시간 0[s] | 손실 0.57\n",
            "| 에폭 469 |  반복 1 / 2 | 시간 0[s] | 손실 0.59\n",
            "| 에폭 470 |  반복 1 / 2 | 시간 0[s] | 손실 0.59\n",
            "| 에폭 471 |  반복 1 / 2 | 시간 0[s] | 손실 0.50\n",
            "| 에폭 472 |  반복 1 / 2 | 시간 0[s] | 손실 0.67\n",
            "| 에폭 473 |  반복 1 / 2 | 시간 0[s] | 손실 0.57\n",
            "| 에폭 474 |  반복 1 / 2 | 시간 0[s] | 손실 0.59\n",
            "| 에폭 475 |  반복 1 / 2 | 시간 0[s] | 손실 0.50\n",
            "| 에폭 476 |  반복 1 / 2 | 시간 0[s] | 손실 0.58\n",
            "| 에폭 477 |  반복 1 / 2 | 시간 0[s] | 손실 0.48\n",
            "| 에폭 478 |  반복 1 / 2 | 시간 0[s] | 손실 0.74\n",
            "| 에폭 479 |  반복 1 / 2 | 시간 0[s] | 손실 0.57\n",
            "| 에폭 480 |  반복 1 / 2 | 시간 0[s] | 손실 0.40\n",
            "| 에폭 481 |  반복 1 / 2 | 시간 0[s] | 손실 0.65\n",
            "| 에폭 482 |  반복 1 / 2 | 시간 0[s] | 손실 0.57\n",
            "| 에폭 483 |  반복 1 / 2 | 시간 0[s] | 손실 0.58\n",
            "| 에폭 484 |  반복 1 / 2 | 시간 0[s] | 손실 0.56\n",
            "| 에폭 485 |  반복 1 / 2 | 시간 0[s] | 손실 0.66\n",
            "| 에폭 486 |  반복 1 / 2 | 시간 0[s] | 손실 0.39\n",
            "| 에폭 487 |  반복 1 / 2 | 시간 0[s] | 손실 0.73\n",
            "| 에폭 488 |  반복 1 / 2 | 시간 0[s] | 손실 0.48\n",
            "| 에폭 489 |  반복 1 / 2 | 시간 0[s] | 손실 0.56\n",
            "| 에폭 490 |  반복 1 / 2 | 시간 0[s] | 손실 0.55\n",
            "| 에폭 491 |  반복 1 / 2 | 시간 0[s] | 손실 0.56\n",
            "| 에폭 492 |  반복 1 / 2 | 시간 0[s] | 손실 0.56\n",
            "| 에폭 493 |  반복 1 / 2 | 시간 0[s] | 손실 0.55\n",
            "| 에폭 494 |  반복 1 / 2 | 시간 0[s] | 손실 0.63\n",
            "| 에폭 495 |  반복 1 / 2 | 시간 0[s] | 손실 0.55\n",
            "| 에폭 496 |  반복 1 / 2 | 시간 0[s] | 손실 0.55\n",
            "| 에폭 497 |  반복 1 / 2 | 시간 0[s] | 손실 0.55\n",
            "| 에폭 498 |  반복 1 / 2 | 시간 0[s] | 손실 0.46\n",
            "| 에폭 499 |  반복 1 / 2 | 시간 0[s] | 손실 0.64\n",
            "| 에폭 500 |  반복 1 / 2 | 시간 0[s] | 손실 0.63\n",
            "| 에폭 501 |  반복 1 / 2 | 시간 0[s] | 손실 0.37\n",
            "| 에폭 502 |  반복 1 / 2 | 시간 0[s] | 손실 0.55\n",
            "| 에폭 503 |  반복 1 / 2 | 시간 0[s] | 손실 0.54\n",
            "| 에폭 504 |  반복 1 / 2 | 시간 0[s] | 손실 0.55\n",
            "| 에폭 505 |  반복 1 / 2 | 시간 0[s] | 손실 0.54\n",
            "| 에폭 506 |  반복 1 / 2 | 시간 0[s] | 손실 0.54\n",
            "| 에폭 507 |  반복 1 / 2 | 시간 0[s] | 손실 0.71\n",
            "| 에폭 508 |  반복 1 / 2 | 시간 0[s] | 손실 0.36\n",
            "| 에폭 509 |  반복 1 / 2 | 시간 0[s] | 손실 0.53\n",
            "| 에폭 510 |  반복 1 / 2 | 시간 0[s] | 손실 0.62\n",
            "| 에폭 511 |  반복 1 / 2 | 시간 0[s] | 손실 0.53\n",
            "| 에폭 512 |  반복 1 / 2 | 시간 0[s] | 손실 0.45\n",
            "| 에폭 513 |  반복 1 / 2 | 시간 0[s] | 손실 0.53\n",
            "| 에폭 514 |  반복 1 / 2 | 시간 0[s] | 손실 0.61\n",
            "| 에폭 515 |  반복 1 / 2 | 시간 0[s] | 손실 0.53\n",
            "| 에폭 516 |  반복 1 / 2 | 시간 0[s] | 손실 0.45\n",
            "| 에폭 517 |  반복 1 / 2 | 시간 0[s] | 손실 0.61\n",
            "| 에폭 518 |  반복 1 / 2 | 시간 0[s] | 손실 0.44\n",
            "| 에폭 519 |  반복 1 / 2 | 시간 0[s] | 손실 0.52\n",
            "| 에폭 520 |  반복 1 / 2 | 시간 0[s] | 손실 0.53\n",
            "| 에폭 521 |  반복 1 / 2 | 시간 0[s] | 손실 0.60\n",
            "| 에폭 522 |  반복 1 / 2 | 시간 0[s] | 손실 0.52\n",
            "| 에폭 523 |  반복 1 / 2 | 시간 0[s] | 손실 0.53\n",
            "| 에폭 524 |  반복 1 / 2 | 시간 0[s] | 손실 0.51\n",
            "| 에폭 525 |  반복 1 / 2 | 시간 0[s] | 손실 0.52\n",
            "| 에폭 526 |  반복 1 / 2 | 시간 0[s] | 손실 0.44\n",
            "| 에폭 527 |  반복 1 / 2 | 시간 0[s] | 손실 0.43\n",
            "| 에폭 528 |  반복 1 / 2 | 시간 0[s] | 손실 0.60\n",
            "| 에폭 529 |  반복 1 / 2 | 시간 0[s] | 손실 0.60\n",
            "| 에폭 530 |  반복 1 / 2 | 시간 0[s] | 손실 0.41\n",
            "| 에폭 531 |  반복 1 / 2 | 시간 0[s] | 손실 0.69\n",
            "| 에폭 532 |  반복 1 / 2 | 시간 0[s] | 손실 0.34\n",
            "| 에폭 533 |  반복 1 / 2 | 시간 0[s] | 손실 0.58\n",
            "| 에폭 534 |  반복 1 / 2 | 시간 0[s] | 손실 0.51\n",
            "| 에폭 535 |  반복 1 / 2 | 시간 0[s] | 손실 0.52\n",
            "| 에폭 536 |  반복 1 / 2 | 시간 0[s] | 손실 0.41\n",
            "| 에폭 537 |  반복 1 / 2 | 시간 0[s] | 손실 0.50\n",
            "| 에폭 538 |  반복 1 / 2 | 시간 0[s] | 손실 0.50\n",
            "| 에폭 539 |  반복 1 / 2 | 시간 0[s] | 손실 0.49\n",
            "| 에폭 540 |  반복 1 / 2 | 시간 0[s] | 손실 0.61\n",
            "| 에폭 541 |  반복 1 / 2 | 시간 0[s] | 손실 0.41\n",
            "| 에폭 542 |  반복 1 / 2 | 시간 0[s] | 손실 0.48\n",
            "| 에폭 543 |  반복 1 / 2 | 시간 0[s] | 손실 0.51\n",
            "| 에폭 544 |  반복 1 / 2 | 시간 0[s] | 손실 0.48\n",
            "| 에폭 545 |  반복 1 / 2 | 시간 0[s] | 손실 0.59\n",
            "| 에폭 546 |  반복 1 / 2 | 시간 0[s] | 손실 0.42\n",
            "| 에폭 547 |  반복 1 / 2 | 시간 0[s] | 손실 0.66\n",
            "| 에폭 548 |  반복 1 / 2 | 시간 0[s] | 손실 0.31\n",
            "| 에폭 549 |  반복 1 / 2 | 시간 0[s] | 손실 0.51\n",
            "| 에폭 550 |  반복 1 / 2 | 시간 0[s] | 손실 0.49\n",
            "| 에폭 551 |  반복 1 / 2 | 시간 0[s] | 손실 0.49\n",
            "| 에폭 552 |  반복 1 / 2 | 시간 0[s] | 손실 0.56\n",
            "| 에폭 553 |  반복 1 / 2 | 시간 0[s] | 손실 0.51\n",
            "| 에폭 554 |  반복 1 / 2 | 시간 0[s] | 손실 0.46\n",
            "| 에폭 555 |  반복 1 / 2 | 시간 0[s] | 손실 0.51\n",
            "| 에폭 556 |  반복 1 / 2 | 시간 0[s] | 손실 0.37\n",
            "| 에폭 557 |  반복 1 / 2 | 시간 0[s] | 손실 0.60\n",
            "| 에폭 558 |  반복 1 / 2 | 시간 0[s] | 손실 0.46\n",
            "| 에폭 559 |  반복 1 / 2 | 시간 0[s] | 손실 0.32\n",
            "| 에폭 560 |  반복 1 / 2 | 시간 0[s] | 손실 0.58\n",
            "| 에폭 561 |  반복 1 / 2 | 시간 0[s] | 손실 0.55\n",
            "| 에폭 562 |  반복 1 / 2 | 시간 0[s] | 손실 0.50\n",
            "| 에폭 563 |  반복 1 / 2 | 시간 0[s] | 손실 0.45\n",
            "| 에폭 564 |  반복 1 / 2 | 시간 0[s] | 손실 0.48\n",
            "| 에폭 565 |  반복 1 / 2 | 시간 0[s] | 손실 0.41\n",
            "| 에폭 566 |  반복 1 / 2 | 시간 0[s] | 손실 0.54\n",
            "| 에폭 567 |  반복 1 / 2 | 시간 0[s] | 손실 0.41\n",
            "| 에폭 568 |  반복 1 / 2 | 시간 0[s] | 손실 0.47\n",
            "| 에폭 569 |  반복 1 / 2 | 시간 0[s] | 손실 0.47\n",
            "| 에폭 570 |  반복 1 / 2 | 시간 0[s] | 손실 0.57\n",
            "| 에폭 571 |  반복 1 / 2 | 시간 0[s] | 손실 0.44\n",
            "| 에폭 572 |  반복 1 / 2 | 시간 0[s] | 손실 0.49\n",
            "| 에폭 573 |  반복 1 / 2 | 시간 0[s] | 손실 0.35\n",
            "| 에폭 574 |  반복 1 / 2 | 시간 0[s] | 손실 0.47\n",
            "| 에폭 575 |  반복 1 / 2 | 시간 0[s] | 손실 0.50\n",
            "| 에폭 576 |  반복 1 / 2 | 시간 0[s] | 손실 0.47\n",
            "| 에폭 577 |  반복 1 / 2 | 시간 0[s] | 손실 0.47\n",
            "| 에폭 578 |  반복 1 / 2 | 시간 0[s] | 손실 0.43\n",
            "| 에폭 579 |  반복 1 / 2 | 시간 0[s] | 손실 0.56\n",
            "| 에폭 580 |  반복 1 / 2 | 시간 0[s] | 손실 0.46\n",
            "| 에폭 581 |  반복 1 / 2 | 시간 0[s] | 손실 0.46\n",
            "| 에폭 582 |  반복 1 / 2 | 시간 0[s] | 손실 0.36\n",
            "| 에폭 583 |  반복 1 / 2 | 시간 0[s] | 손실 0.46\n",
            "| 에폭 584 |  반복 1 / 2 | 시간 0[s] | 손실 0.46\n",
            "| 에폭 585 |  반복 1 / 2 | 시간 0[s] | 손실 0.49\n",
            "| 에폭 586 |  반복 1 / 2 | 시간 0[s] | 손실 0.55\n",
            "| 에폭 587 |  반복 1 / 2 | 시간 0[s] | 손실 0.36\n",
            "| 에폭 588 |  반복 1 / 2 | 시간 0[s] | 손실 0.55\n",
            "| 에폭 589 |  반복 1 / 2 | 시간 0[s] | 손실 0.43\n",
            "| 에폭 590 |  반복 1 / 2 | 시간 0[s] | 손실 0.39\n",
            "| 에폭 591 |  반복 1 / 2 | 시간 0[s] | 손실 0.55\n",
            "| 에폭 592 |  반복 1 / 2 | 시간 0[s] | 손실 0.26\n",
            "| 에폭 593 |  반복 1 / 2 | 시간 0[s] | 손실 0.64\n",
            "| 에폭 594 |  반복 1 / 2 | 시간 0[s] | 손실 0.45\n",
            "| 에폭 595 |  반복 1 / 2 | 시간 0[s] | 손실 0.45\n",
            "| 에폭 596 |  반복 1 / 2 | 시간 0[s] | 손실 0.41\n",
            "| 에폭 597 |  반복 1 / 2 | 시간 0[s] | 손실 0.44\n",
            "| 에폭 598 |  반복 1 / 2 | 시간 0[s] | 손실 0.49\n",
            "| 에폭 599 |  반복 1 / 2 | 시간 0[s] | 손실 0.45\n",
            "| 에폭 600 |  반복 1 / 2 | 시간 0[s] | 손실 0.40\n",
            "| 에폭 601 |  반복 1 / 2 | 시간 0[s] | 손실 0.39\n",
            "| 에폭 602 |  반복 1 / 2 | 시간 0[s] | 손실 0.51\n",
            "| 에폭 603 |  반복 1 / 2 | 시간 0[s] | 손실 0.47\n",
            "| 에폭 604 |  반복 1 / 2 | 시간 0[s] | 손실 0.35\n",
            "| 에폭 605 |  반복 1 / 2 | 시간 0[s] | 손실 0.50\n",
            "| 에폭 606 |  반복 1 / 2 | 시간 0[s] | 손실 0.43\n",
            "| 에폭 607 |  반복 1 / 2 | 시간 0[s] | 손실 0.39\n",
            "| 에폭 608 |  반복 1 / 2 | 시간 0[s] | 손실 0.39\n",
            "| 에폭 609 |  반복 1 / 2 | 시간 0[s] | 손실 0.54\n",
            "| 에폭 610 |  반복 1 / 2 | 시간 0[s] | 손실 0.48\n",
            "| 에폭 611 |  반복 1 / 2 | 시간 0[s] | 손실 0.39\n",
            "| 에폭 612 |  반복 1 / 2 | 시간 0[s] | 손실 0.48\n",
            "| 에폭 613 |  반복 1 / 2 | 시간 0[s] | 손실 0.34\n",
            "| 에폭 614 |  반복 1 / 2 | 시간 0[s] | 손실 0.38\n",
            "| 에폭 615 |  반복 1 / 2 | 시간 0[s] | 손실 0.54\n",
            "| 에폭 616 |  반복 1 / 2 | 시간 0[s] | 손실 0.53\n",
            "| 에폭 617 |  반복 1 / 2 | 시간 0[s] | 손실 0.43\n",
            "| 에폭 618 |  반복 1 / 2 | 시간 0[s] | 손실 0.43\n",
            "| 에폭 619 |  반복 1 / 2 | 시간 0[s] | 손실 0.23\n",
            "| 에폭 620 |  반복 1 / 2 | 시간 0[s] | 손실 0.53\n",
            "| 에폭 621 |  반복 1 / 2 | 시간 0[s] | 손실 0.46\n",
            "| 에폭 622 |  반복 1 / 2 | 시간 0[s] | 손실 0.39\n",
            "| 에폭 623 |  반복 1 / 2 | 시간 0[s] | 손실 0.43\n",
            "| 에폭 624 |  반복 1 / 2 | 시간 0[s] | 손실 0.37\n",
            "| 에폭 625 |  반복 1 / 2 | 시간 0[s] | 손실 0.42\n",
            "| 에폭 626 |  반복 1 / 2 | 시간 0[s] | 손실 0.38\n",
            "| 에폭 627 |  반복 1 / 2 | 시간 0[s] | 손실 0.42\n",
            "| 에폭 628 |  반복 1 / 2 | 시간 0[s] | 손실 0.57\n",
            "| 에폭 629 |  반복 1 / 2 | 시간 0[s] | 손실 0.37\n",
            "| 에폭 630 |  반복 1 / 2 | 시간 0[s] | 손실 0.37\n",
            "| 에폭 631 |  반복 1 / 2 | 시간 0[s] | 손실 0.41\n",
            "| 에폭 632 |  반복 1 / 2 | 시간 0[s] | 손실 0.52\n",
            "| 에폭 633 |  반복 1 / 2 | 시간 0[s] | 손실 0.32\n",
            "| 에폭 634 |  반복 1 / 2 | 시간 0[s] | 손실 0.47\n",
            "| 에폭 635 |  반복 1 / 2 | 시간 0[s] | 손실 0.38\n",
            "| 에폭 636 |  반복 1 / 2 | 시간 0[s] | 손실 0.41\n",
            "| 에폭 637 |  반복 1 / 2 | 시간 0[s] | 손실 0.42\n",
            "| 에폭 638 |  반복 1 / 2 | 시간 0[s] | 손실 0.36\n",
            "| 에폭 639 |  반복 1 / 2 | 시간 0[s] | 손실 0.46\n",
            "| 에폭 640 |  반복 1 / 2 | 시간 0[s] | 손실 0.41\n",
            "| 에폭 641 |  반복 1 / 2 | 시간 0[s] | 손실 0.41\n",
            "| 에폭 642 |  반복 1 / 2 | 시간 0[s] | 손실 0.36\n",
            "| 에폭 643 |  반복 1 / 2 | 시간 0[s] | 손실 0.46\n",
            "| 에폭 644 |  반복 1 / 2 | 시간 0[s] | 손실 0.51\n",
            "| 에폭 645 |  반복 1 / 2 | 시간 0[s] | 손실 0.32\n",
            "| 에폭 646 |  반복 1 / 2 | 시간 0[s] | 손실 0.30\n",
            "| 에폭 647 |  반복 1 / 2 | 시간 0[s] | 손실 0.51\n",
            "| 에폭 648 |  반복 1 / 2 | 시간 0[s] | 손실 0.51\n",
            "| 에폭 649 |  반복 1 / 2 | 시간 0[s] | 손실 0.31\n",
            "| 에폭 650 |  반복 1 / 2 | 시간 0[s] | 손실 0.45\n",
            "| 에폭 651 |  반복 1 / 2 | 시간 0[s] | 손실 0.35\n",
            "| 에폭 652 |  반복 1 / 2 | 시간 0[s] | 손실 0.46\n",
            "| 에폭 653 |  반복 1 / 2 | 시간 0[s] | 손실 0.40\n",
            "| 에폭 654 |  반복 1 / 2 | 시간 0[s] | 손실 0.36\n",
            "| 에폭 655 |  반복 1 / 2 | 시간 0[s] | 손실 0.36\n",
            "| 에폭 656 |  반복 1 / 2 | 시간 0[s] | 손실 0.45\n",
            "| 에폭 657 |  반복 1 / 2 | 시간 0[s] | 손실 0.45\n",
            "| 에폭 658 |  반복 1 / 2 | 시간 0[s] | 손실 0.39\n",
            "| 에폭 659 |  반복 1 / 2 | 시간 0[s] | 손실 0.37\n",
            "| 에폭 660 |  반복 1 / 2 | 시간 0[s] | 손실 0.43\n",
            "| 에폭 661 |  반복 1 / 2 | 시간 0[s] | 손실 0.37\n",
            "| 에폭 662 |  반복 1 / 2 | 시간 0[s] | 손실 0.33\n",
            "| 에폭 663 |  반복 1 / 2 | 시간 0[s] | 손실 0.56\n",
            "| 에폭 664 |  반복 1 / 2 | 시간 0[s] | 손실 0.30\n",
            "| 에폭 665 |  반복 1 / 2 | 시간 0[s] | 손실 0.44\n",
            "| 에폭 666 |  반복 1 / 2 | 시간 0[s] | 손실 0.30\n",
            "| 에폭 667 |  반복 1 / 2 | 시간 0[s] | 손실 0.49\n",
            "| 에폭 668 |  반복 1 / 2 | 시간 0[s] | 손실 0.35\n",
            "| 에폭 669 |  반복 1 / 2 | 시간 0[s] | 손실 0.39\n",
            "| 에폭 670 |  반복 1 / 2 | 시간 0[s] | 손실 0.43\n",
            "| 에폭 671 |  반복 1 / 2 | 시간 0[s] | 손실 0.35\n",
            "| 에폭 672 |  반복 1 / 2 | 시간 0[s] | 손실 0.54\n",
            "| 에폭 673 |  반복 1 / 2 | 시간 0[s] | 손실 0.19\n",
            "| 에폭 674 |  반복 1 / 2 | 시간 0[s] | 손실 0.48\n",
            "| 에폭 675 |  반복 1 / 2 | 시간 0[s] | 손실 0.45\n",
            "| 에폭 676 |  반복 1 / 2 | 시간 0[s] | 손실 0.34\n",
            "| 에폭 677 |  반복 1 / 2 | 시간 0[s] | 손실 0.39\n",
            "| 에폭 678 |  반복 1 / 2 | 시간 0[s] | 손실 0.34\n",
            "| 에폭 679 |  반복 1 / 2 | 시간 0[s] | 손실 0.39\n",
            "| 에폭 680 |  반복 1 / 2 | 시간 0[s] | 손실 0.43\n",
            "| 에폭 681 |  반복 1 / 2 | 시간 0[s] | 손실 0.35\n",
            "| 에폭 682 |  반복 1 / 2 | 시간 0[s] | 손실 0.43\n",
            "| 에폭 683 |  반복 1 / 2 | 시간 0[s] | 손실 0.34\n",
            "| 에폭 684 |  반복 1 / 2 | 시간 0[s] | 손실 0.32\n",
            "| 에폭 685 |  반복 1 / 2 | 시간 0[s] | 손실 0.49\n",
            "| 에폭 686 |  반복 1 / 2 | 시간 0[s] | 손실 0.28\n",
            "| 에폭 687 |  반복 1 / 2 | 시간 0[s] | 손실 0.59\n",
            "| 에폭 688 |  반복 1 / 2 | 시간 0[s] | 손실 0.28\n",
            "| 에폭 689 |  반복 1 / 2 | 시간 0[s] | 손실 0.39\n",
            "| 에폭 690 |  반복 1 / 2 | 시간 0[s] | 손실 0.24\n",
            "| 에폭 691 |  반복 1 / 2 | 시간 0[s] | 손실 0.43\n",
            "| 에폭 692 |  반복 1 / 2 | 시간 0[s] | 손실 0.55\n",
            "| 에폭 693 |  반복 1 / 2 | 시간 0[s] | 손실 0.38\n",
            "| 에폭 694 |  반복 1 / 2 | 시간 0[s] | 손실 0.17\n",
            "| 에폭 695 |  반복 1 / 2 | 시간 0[s] | 손실 0.59\n",
            "| 에폭 696 |  반복 1 / 2 | 시간 0[s] | 손실 0.38\n",
            "| 에폭 697 |  반복 1 / 2 | 시간 0[s] | 손실 0.38\n",
            "| 에폭 698 |  반복 1 / 2 | 시간 0[s] | 손실 0.37\n",
            "| 에폭 699 |  반복 1 / 2 | 시간 0[s] | 손실 0.21\n",
            "| 에폭 700 |  반복 1 / 2 | 시간 0[s] | 손실 0.48\n",
            "| 에폭 701 |  반복 1 / 2 | 시간 0[s] | 손실 0.38\n",
            "| 에폭 702 |  반복 1 / 2 | 시간 0[s] | 손실 0.27\n",
            "| 에폭 703 |  반복 1 / 2 | 시간 0[s] | 손실 0.53\n",
            "| 에폭 704 |  반복 1 / 2 | 시간 0[s] | 손실 0.27\n",
            "| 에폭 705 |  반복 1 / 2 | 시간 0[s] | 손실 0.52\n",
            "| 에폭 706 |  반복 1 / 2 | 시간 0[s] | 손실 0.27\n",
            "| 에폭 707 |  반복 1 / 2 | 시간 0[s] | 손실 0.34\n",
            "| 에폭 708 |  반복 1 / 2 | 시간 0[s] | 손실 0.30\n",
            "| 에폭 709 |  반복 1 / 2 | 시간 0[s] | 손실 0.55\n",
            "| 에폭 710 |  반복 1 / 2 | 시간 0[s] | 손실 0.26\n",
            "| 에폭 711 |  반복 1 / 2 | 시간 0[s] | 손실 0.30\n",
            "| 에폭 712 |  반복 1 / 2 | 시간 0[s] | 손실 0.44\n",
            "| 에폭 713 |  반복 1 / 2 | 시간 0[s] | 손실 0.41\n",
            "| 에폭 714 |  반복 1 / 2 | 시간 0[s] | 손실 0.26\n",
            "| 에폭 715 |  반복 1 / 2 | 시간 0[s] | 손실 0.44\n",
            "| 에폭 716 |  반복 1 / 2 | 시간 0[s] | 손실 0.41\n",
            "| 에폭 717 |  반복 1 / 2 | 시간 0[s] | 손실 0.33\n",
            "| 에폭 718 |  반복 1 / 2 | 시간 0[s] | 손실 0.47\n",
            "| 에폭 719 |  반복 1 / 2 | 시간 0[s] | 손실 0.26\n",
            "| 에폭 720 |  반복 1 / 2 | 시간 0[s] | 손실 0.37\n",
            "| 에폭 721 |  반복 1 / 2 | 시간 0[s] | 손실 0.40\n",
            "| 에폭 722 |  반복 1 / 2 | 시간 0[s] | 손실 0.33\n",
            "| 에폭 723 |  반복 1 / 2 | 시간 0[s] | 손실 0.29\n",
            "| 에폭 724 |  반복 1 / 2 | 시간 0[s] | 손실 0.44\n",
            "| 에폭 725 |  반복 1 / 2 | 시간 0[s] | 손실 0.39\n",
            "| 에폭 726 |  반복 1 / 2 | 시간 0[s] | 손실 0.36\n",
            "| 에폭 727 |  반복 1 / 2 | 시간 0[s] | 손실 0.33\n",
            "| 에폭 728 |  반복 1 / 2 | 시간 0[s] | 손실 0.28\n",
            "| 에폭 729 |  반복 1 / 2 | 시간 0[s] | 손실 0.47\n",
            "| 에폭 730 |  반복 1 / 2 | 시간 0[s] | 손실 0.32\n",
            "| 에폭 731 |  반복 1 / 2 | 시간 0[s] | 손실 0.40\n",
            "| 에폭 732 |  반복 1 / 2 | 시간 0[s] | 손실 0.32\n",
            "| 에폭 733 |  반복 1 / 2 | 시간 0[s] | 손실 0.36\n",
            "| 에폭 734 |  반복 1 / 2 | 시간 0[s] | 손실 0.36\n",
            "| 에폭 735 |  반복 1 / 2 | 시간 0[s] | 손실 0.47\n",
            "| 에폭 736 |  반복 1 / 2 | 시간 0[s] | 손실 0.36\n",
            "| 에폭 737 |  반복 1 / 2 | 시간 0[s] | 손실 0.28\n",
            "| 에폭 738 |  반복 1 / 2 | 시간 0[s] | 손실 0.36\n",
            "| 에폭 739 |  반복 1 / 2 | 시간 0[s] | 손실 0.33\n",
            "| 에폭 740 |  반복 1 / 2 | 시간 0[s] | 손실 0.35\n",
            "| 에폭 741 |  반복 1 / 2 | 시간 0[s] | 손실 0.28\n",
            "| 에폭 742 |  반복 1 / 2 | 시간 0[s] | 손실 0.43\n",
            "| 에폭 743 |  반복 1 / 2 | 시간 0[s] | 손실 0.25\n",
            "| 에폭 744 |  반복 1 / 2 | 시간 0[s] | 손실 0.46\n",
            "| 에폭 745 |  반복 1 / 2 | 시간 0[s] | 손실 0.45\n",
            "| 에폭 746 |  반복 1 / 2 | 시간 0[s] | 손실 0.35\n",
            "| 에폭 747 |  반복 1 / 2 | 시간 0[s] | 손실 0.28\n",
            "| 에폭 748 |  반복 1 / 2 | 시간 0[s] | 손실 0.46\n",
            "| 에폭 749 |  반복 1 / 2 | 시간 0[s] | 손실 0.33\n",
            "| 에폭 750 |  반복 1 / 2 | 시간 0[s] | 손실 0.24\n",
            "| 에폭 751 |  반복 1 / 2 | 시간 0[s] | 손실 0.25\n",
            "| 에폭 752 |  반복 1 / 2 | 시간 0[s] | 손실 0.49\n",
            "| 에폭 753 |  반복 1 / 2 | 시간 0[s] | 손실 0.35\n",
            "| 에폭 754 |  반복 1 / 2 | 시간 0[s] | 손실 0.34\n",
            "| 에폭 755 |  반복 1 / 2 | 시간 0[s] | 손실 0.25\n",
            "| 에폭 756 |  반복 1 / 2 | 시간 0[s] | 손실 0.43\n",
            "| 에폭 757 |  반복 1 / 2 | 시간 0[s] | 손실 0.38\n",
            "| 에폭 758 |  반복 1 / 2 | 시간 0[s] | 손실 0.33\n",
            "| 에폭 759 |  반복 1 / 2 | 시간 0[s] | 손실 0.35\n",
            "| 에폭 760 |  반복 1 / 2 | 시간 0[s] | 손실 0.48\n",
            "| 에폭 761 |  반복 1 / 2 | 시간 0[s] | 손실 0.11\n",
            "| 에폭 762 |  반복 1 / 2 | 시간 0[s] | 손실 0.48\n",
            "| 에폭 763 |  반복 1 / 2 | 시간 1[s] | 손실 0.35\n",
            "| 에폭 764 |  반복 1 / 2 | 시간 1[s] | 손실 0.45\n",
            "| 에폭 765 |  반복 1 / 2 | 시간 1[s] | 손실 0.24\n",
            "| 에폭 766 |  반복 1 / 2 | 시간 1[s] | 손실 0.45\n",
            "| 에폭 767 |  반복 1 / 2 | 시간 1[s] | 손실 0.21\n",
            "| 에폭 768 |  반복 1 / 2 | 시간 1[s] | 손실 0.24\n",
            "| 에폭 769 |  반복 1 / 2 | 시간 1[s] | 손실 0.37\n",
            "| 에폭 770 |  반복 1 / 2 | 시간 1[s] | 손실 0.34\n",
            "| 에폭 771 |  반복 1 / 2 | 시간 1[s] | 손실 0.45\n",
            "| 에폭 772 |  반복 1 / 2 | 시간 1[s] | 손실 0.31\n",
            "| 에폭 773 |  반복 1 / 2 | 시간 1[s] | 손실 0.34\n",
            "| 에폭 774 |  반복 1 / 2 | 시간 1[s] | 손실 0.35\n",
            "| 에폭 775 |  반복 1 / 2 | 시간 1[s] | 손실 0.37\n",
            "| 에폭 776 |  반복 1 / 2 | 시간 1[s] | 손실 0.42\n",
            "| 에폭 777 |  반복 1 / 2 | 시간 1[s] | 손실 0.26\n",
            "| 에폭 778 |  반복 1 / 2 | 시간 1[s] | 손실 0.23\n",
            "| 에폭 779 |  반복 1 / 2 | 시간 1[s] | 손실 0.53\n",
            "| 에폭 780 |  반복 1 / 2 | 시간 1[s] | 손실 0.26\n",
            "| 에폭 781 |  반복 1 / 2 | 시간 1[s] | 손실 0.20\n",
            "| 에폭 782 |  반복 1 / 2 | 시간 1[s] | 손실 0.47\n",
            "| 에폭 783 |  반복 1 / 2 | 시간 1[s] | 손실 0.21\n",
            "| 에폭 784 |  반복 1 / 2 | 시간 1[s] | 손실 0.47\n",
            "| 에폭 785 |  반복 1 / 2 | 시간 1[s] | 손실 0.43\n",
            "| 에폭 786 |  반복 1 / 2 | 시간 1[s] | 손실 0.34\n",
            "| 에폭 787 |  반복 1 / 2 | 시간 1[s] | 손실 0.14\n",
            "| 에폭 788 |  반복 1 / 2 | 시간 1[s] | 손실 0.45\n",
            "| 에폭 789 |  반복 1 / 2 | 시간 1[s] | 손실 0.31\n",
            "| 에폭 790 |  반복 1 / 2 | 시간 1[s] | 손실 0.33\n",
            "| 에폭 791 |  반복 1 / 2 | 시간 1[s] | 손실 0.44\n",
            "| 에폭 792 |  반복 1 / 2 | 시간 1[s] | 손실 0.23\n",
            "| 에폭 793 |  반복 1 / 2 | 시간 1[s] | 손실 0.25\n",
            "| 에폭 794 |  반복 1 / 2 | 시간 1[s] | 손실 0.42\n",
            "| 에폭 795 |  반복 1 / 2 | 시간 1[s] | 손실 0.24\n",
            "| 에폭 796 |  반복 1 / 2 | 시간 1[s] | 손실 0.45\n",
            "| 에폭 797 |  반복 1 / 2 | 시간 1[s] | 손실 0.22\n",
            "| 에폭 798 |  반복 1 / 2 | 시간 1[s] | 손실 0.42\n",
            "| 에폭 799 |  반복 1 / 2 | 시간 1[s] | 손실 0.35\n",
            "| 에폭 800 |  반복 1 / 2 | 시간 1[s] | 손실 0.23\n",
            "| 에폭 801 |  반복 1 / 2 | 시간 1[s] | 손실 0.43\n",
            "| 에폭 802 |  반복 1 / 2 | 시간 1[s] | 손실 0.44\n",
            "| 에폭 803 |  반복 1 / 2 | 시간 1[s] | 손실 0.20\n",
            "| 에폭 804 |  반복 1 / 2 | 시간 1[s] | 손실 0.35\n",
            "| 에폭 805 |  반복 1 / 2 | 시간 1[s] | 손실 0.34\n",
            "| 에폭 806 |  반복 1 / 2 | 시간 1[s] | 손실 0.30\n",
            "| 에폭 807 |  반복 1 / 2 | 시간 1[s] | 손실 0.34\n",
            "| 에폭 808 |  반복 1 / 2 | 시간 1[s] | 손실 0.34\n",
            "| 에폭 809 |  반복 1 / 2 | 시간 1[s] | 손실 0.34\n",
            "| 에폭 810 |  반복 1 / 2 | 시간 1[s] | 손실 0.41\n",
            "| 에폭 811 |  반복 1 / 2 | 시간 1[s] | 손실 0.22\n",
            "| 에폭 812 |  반복 1 / 2 | 시간 1[s] | 손실 0.25\n",
            "| 에폭 813 |  반복 1 / 2 | 시간 1[s] | 손실 0.52\n",
            "| 에폭 814 |  반복 1 / 2 | 시간 1[s] | 손실 0.24\n",
            "| 에폭 815 |  반복 1 / 2 | 시간 1[s] | 손실 0.30\n",
            "| 에폭 816 |  반복 1 / 2 | 시간 1[s] | 손실 0.33\n",
            "| 에폭 817 |  반복 1 / 2 | 시간 1[s] | 손실 0.33\n",
            "| 에폭 818 |  반복 1 / 2 | 시간 1[s] | 손실 0.24\n",
            "| 에폭 819 |  반복 1 / 2 | 시간 1[s] | 손실 0.41\n",
            "| 에폭 820 |  반복 1 / 2 | 시간 1[s] | 손실 0.33\n",
            "| 에폭 821 |  반복 1 / 2 | 시간 1[s] | 손실 0.21\n",
            "| 에폭 822 |  반복 1 / 2 | 시간 1[s] | 손실 0.44\n",
            "| 에폭 823 |  반복 1 / 2 | 시간 1[s] | 손실 0.43\n",
            "| 에폭 824 |  반복 1 / 2 | 시간 1[s] | 손실 0.32\n",
            "| 에폭 825 |  반복 1 / 2 | 시간 1[s] | 손실 0.32\n",
            "| 에폭 826 |  반복 1 / 2 | 시간 1[s] | 손실 0.21\n",
            "| 에폭 827 |  반복 1 / 2 | 시간 1[s] | 손실 0.33\n",
            "| 에폭 828 |  반복 1 / 2 | 시간 1[s] | 손실 0.32\n",
            "| 에폭 829 |  반복 1 / 2 | 시간 1[s] | 손실 0.23\n",
            "| 에폭 830 |  반복 1 / 2 | 시간 1[s] | 손실 0.42\n",
            "| 에폭 831 |  반복 1 / 2 | 시간 1[s] | 손실 0.32\n",
            "| 에폭 832 |  반복 1 / 2 | 시간 1[s] | 손실 0.23\n",
            "| 에폭 833 |  반복 1 / 2 | 시간 1[s] | 손실 0.41\n",
            "| 에폭 834 |  반복 1 / 2 | 시간 1[s] | 손실 0.33\n",
            "| 에폭 835 |  반복 1 / 2 | 시간 1[s] | 손실 0.41\n",
            "| 에폭 836 |  반복 1 / 2 | 시간 1[s] | 손실 0.12\n",
            "| 에폭 837 |  반복 1 / 2 | 시간 1[s] | 손실 0.41\n",
            "| 에폭 838 |  반복 1 / 2 | 시간 1[s] | 손실 0.32\n",
            "| 에폭 839 |  반복 1 / 2 | 시간 1[s] | 손실 0.34\n",
            "| 에폭 840 |  반복 1 / 2 | 시간 1[s] | 손실 0.21\n",
            "| 에폭 841 |  반복 1 / 2 | 시간 1[s] | 손실 0.32\n",
            "| 에폭 842 |  반복 1 / 2 | 시간 1[s] | 손실 0.41\n",
            "| 에폭 843 |  반복 1 / 2 | 시간 1[s] | 손실 0.32\n",
            "| 에폭 844 |  반복 1 / 2 | 시간 1[s] | 손실 0.33\n",
            "| 에폭 845 |  반복 1 / 2 | 시간 1[s] | 손실 0.43\n",
            "| 에폭 846 |  반복 1 / 2 | 시간 1[s] | 손실 0.21\n",
            "| 에폭 847 |  반복 1 / 2 | 시간 1[s] | 손실 0.32\n",
            "| 에폭 848 |  반복 1 / 2 | 시간 1[s] | 손실 0.29\n",
            "| 에폭 849 |  반복 1 / 2 | 시간 1[s] | 손실 0.23\n",
            "| 에폭 850 |  반복 1 / 2 | 시간 1[s] | 손실 0.41\n",
            "| 에폭 851 |  반복 1 / 2 | 시간 1[s] | 손실 0.32\n",
            "| 에폭 852 |  반복 1 / 2 | 시간 1[s] | 손실 0.34\n",
            "| 에폭 853 |  반복 1 / 2 | 시간 1[s] | 손실 0.42\n",
            "| 에폭 854 |  반복 1 / 2 | 시간 1[s] | 손실 0.30\n",
            "| 에폭 855 |  반복 1 / 2 | 시간 1[s] | 손실 0.20\n",
            "| 에폭 856 |  반복 1 / 2 | 시간 1[s] | 손실 0.34\n",
            "| 에폭 857 |  반복 1 / 2 | 시간 1[s] | 손실 0.31\n",
            "| 에폭 858 |  반복 1 / 2 | 시간 1[s] | 손실 0.40\n",
            "| 에폭 859 |  반복 1 / 2 | 시간 1[s] | 손실 0.31\n",
            "| 에폭 860 |  반복 1 / 2 | 시간 1[s] | 손실 0.22\n",
            "| 에폭 861 |  반복 1 / 2 | 시간 1[s] | 손실 0.20\n",
            "| 에폭 862 |  반복 1 / 2 | 시간 1[s] | 손실 0.31\n",
            "| 에폭 863 |  반복 1 / 2 | 시간 1[s] | 손실 0.42\n",
            "| 에폭 864 |  반복 1 / 2 | 시간 1[s] | 손실 0.31\n",
            "| 에폭 865 |  반복 1 / 2 | 시간 1[s] | 손실 0.19\n",
            "| 에폭 866 |  반복 1 / 2 | 시간 1[s] | 손실 0.31\n",
            "| 에폭 867 |  반복 1 / 2 | 시간 1[s] | 손실 0.53\n",
            "| 에폭 868 |  반복 1 / 2 | 시간 1[s] | 손실 0.33\n",
            "| 에폭 869 |  반복 1 / 2 | 시간 1[s] | 손실 0.29\n",
            "| 에폭 870 |  반복 1 / 2 | 시간 1[s] | 손실 0.21\n",
            "| 에폭 871 |  반복 1 / 2 | 시간 1[s] | 손실 0.32\n",
            "| 에폭 872 |  반복 1 / 2 | 시간 1[s] | 손실 0.30\n",
            "| 에폭 873 |  반복 1 / 2 | 시간 1[s] | 손실 0.31\n",
            "| 에폭 874 |  반복 1 / 2 | 시간 1[s] | 손실 0.42\n",
            "| 에폭 875 |  반복 1 / 2 | 시간 1[s] | 손실 0.10\n",
            "| 에폭 876 |  반복 1 / 2 | 시간 1[s] | 손실 0.42\n",
            "| 에폭 877 |  반복 1 / 2 | 시간 1[s] | 손실 0.18\n",
            "| 에폭 878 |  반복 1 / 2 | 시간 1[s] | 손실 0.44\n",
            "| 에폭 879 |  반복 1 / 2 | 시간 1[s] | 손실 0.19\n",
            "| 에폭 880 |  반복 1 / 2 | 시간 1[s] | 손실 0.40\n",
            "| 에폭 881 |  반복 1 / 2 | 시간 1[s] | 손실 0.21\n",
            "| 에폭 882 |  반복 1 / 2 | 시간 1[s] | 손실 0.40\n",
            "| 에폭 883 |  반복 1 / 2 | 시간 1[s] | 손실 0.31\n",
            "| 에폭 884 |  반복 1 / 2 | 시간 1[s] | 손실 0.31\n",
            "| 에폭 885 |  반복 1 / 2 | 시간 1[s] | 손실 0.21\n",
            "| 에폭 886 |  반복 1 / 2 | 시간 1[s] | 손실 0.29\n",
            "| 에폭 887 |  반복 1 / 2 | 시간 1[s] | 손실 0.42\n",
            "| 에폭 888 |  반복 1 / 2 | 시간 1[s] | 손실 0.41\n",
            "| 에폭 889 |  반복 1 / 2 | 시간 1[s] | 손실 0.19\n",
            "| 에폭 890 |  반복 1 / 2 | 시간 1[s] | 손실 0.33\n",
            "| 에폭 891 |  반복 1 / 2 | 시간 1[s] | 손실 0.31\n",
            "| 에폭 892 |  반복 1 / 2 | 시간 1[s] | 손실 0.31\n",
            "| 에폭 893 |  반복 1 / 2 | 시간 1[s] | 손실 0.31\n",
            "| 에폭 894 |  반복 1 / 2 | 시간 1[s] | 손실 0.39\n",
            "| 에폭 895 |  반복 1 / 2 | 시간 1[s] | 손실 0.20\n",
            "| 에폭 896 |  반복 1 / 2 | 시간 1[s] | 손실 0.32\n",
            "| 에폭 897 |  반복 1 / 2 | 시간 1[s] | 손실 0.28\n",
            "| 에폭 898 |  반복 1 / 2 | 시간 1[s] | 손실 0.32\n",
            "| 에폭 899 |  반복 1 / 2 | 시간 1[s] | 손실 0.31\n",
            "| 에폭 900 |  반복 1 / 2 | 시간 1[s] | 손실 0.28\n",
            "| 에폭 901 |  반복 1 / 2 | 시간 1[s] | 손실 0.42\n",
            "| 에폭 902 |  반복 1 / 2 | 시간 1[s] | 손실 0.21\n",
            "| 에폭 903 |  반복 1 / 2 | 시간 1[s] | 손실 0.28\n",
            "| 에폭 904 |  반복 1 / 2 | 시간 1[s] | 손실 0.32\n",
            "| 에폭 905 |  반복 1 / 2 | 시간 1[s] | 손실 0.30\n",
            "| 에폭 906 |  반복 1 / 2 | 시간 1[s] | 손실 0.40\n",
            "| 에폭 907 |  반복 1 / 2 | 시간 1[s] | 손실 0.20\n",
            "| 에폭 908 |  반복 1 / 2 | 시간 1[s] | 손실 0.29\n",
            "| 에폭 909 |  반복 1 / 2 | 시간 1[s] | 손실 0.32\n",
            "| 에폭 910 |  반복 1 / 2 | 시간 1[s] | 손실 0.17\n",
            "| 에폭 911 |  반복 1 / 2 | 시간 1[s] | 손실 0.42\n",
            "| 에폭 912 |  반복 1 / 2 | 시간 1[s] | 손실 0.19\n",
            "| 에폭 913 |  반복 1 / 2 | 시간 1[s] | 손실 0.41\n",
            "| 에폭 914 |  반복 1 / 2 | 시간 1[s] | 손실 0.30\n",
            "| 에폭 915 |  반복 1 / 2 | 시간 1[s] | 손실 0.20\n",
            "| 에폭 916 |  반복 1 / 2 | 시간 1[s] | 손실 0.41\n",
            "| 에폭 917 |  반복 1 / 2 | 시간 1[s] | 손실 0.30\n",
            "| 에폭 918 |  반복 1 / 2 | 시간 1[s] | 손실 0.30\n",
            "| 에폭 919 |  반복 1 / 2 | 시간 1[s] | 손실 0.19\n",
            "| 에폭 920 |  반복 1 / 2 | 시간 1[s] | 손실 0.40\n",
            "| 에폭 921 |  반복 1 / 2 | 시간 1[s] | 손실 0.30\n",
            "| 에폭 922 |  반복 1 / 2 | 시간 1[s] | 손실 0.19\n",
            "| 에폭 923 |  반복 1 / 2 | 시간 1[s] | 손실 0.50\n",
            "| 에폭 924 |  반복 1 / 2 | 시간 1[s] | 손실 0.20\n",
            "| 에폭 925 |  반복 1 / 2 | 시간 1[s] | 손실 0.18\n",
            "| 에폭 926 |  반복 1 / 2 | 시간 1[s] | 손실 0.31\n",
            "| 에폭 927 |  반복 1 / 2 | 시간 1[s] | 손실 0.50\n",
            "| 에폭 928 |  반복 1 / 2 | 시간 1[s] | 손실 0.20\n",
            "| 에폭 929 |  반복 1 / 2 | 시간 1[s] | 손실 0.28\n",
            "| 에폭 930 |  반복 1 / 2 | 시간 1[s] | 손실 0.31\n",
            "| 에폭 931 |  반복 1 / 2 | 시간 1[s] | 손실 0.39\n",
            "| 에폭 932 |  반복 1 / 2 | 시간 1[s] | 손실 0.30\n",
            "| 에폭 933 |  반복 1 / 2 | 시간 1[s] | 손실 0.07\n",
            "| 에폭 934 |  반복 1 / 2 | 시간 1[s] | 손실 0.42\n",
            "| 에폭 935 |  반복 1 / 2 | 시간 1[s] | 손실 0.39\n",
            "| 에폭 936 |  반복 1 / 2 | 시간 1[s] | 손실 0.19\n",
            "| 에폭 937 |  반복 1 / 2 | 시간 1[s] | 손실 0.29\n",
            "| 에폭 938 |  반복 1 / 2 | 시간 1[s] | 손실 0.19\n",
            "| 에폭 939 |  반복 1 / 2 | 시간 1[s] | 손실 0.42\n",
            "| 에폭 940 |  반복 1 / 2 | 시간 1[s] | 손실 0.18\n",
            "| 에폭 941 |  반복 1 / 2 | 시간 1[s] | 손실 0.39\n",
            "| 에폭 942 |  반복 1 / 2 | 시간 1[s] | 손실 0.41\n",
            "| 에폭 943 |  반복 1 / 2 | 시간 1[s] | 손실 0.18\n",
            "| 에폭 944 |  반복 1 / 2 | 시간 1[s] | 손실 0.40\n",
            "| 에폭 945 |  반복 1 / 2 | 시간 1[s] | 손실 0.30\n",
            "| 에폭 946 |  반복 1 / 2 | 시간 1[s] | 손실 0.19\n",
            "| 에폭 947 |  반복 1 / 2 | 시간 1[s] | 손실 0.41\n",
            "| 에폭 948 |  반복 1 / 2 | 시간 1[s] | 손실 0.29\n",
            "| 에폭 949 |  반복 1 / 2 | 시간 1[s] | 손실 0.07\n",
            "| 에폭 950 |  반복 1 / 2 | 시간 1[s] | 손실 0.39\n",
            "| 에폭 951 |  반복 1 / 2 | 시간 1[s] | 손실 0.31\n",
            "| 에폭 952 |  반복 1 / 2 | 시간 1[s] | 손실 0.39\n",
            "| 에폭 953 |  반복 1 / 2 | 시간 1[s] | 손실 0.08\n",
            "| 에폭 954 |  반복 1 / 2 | 시간 1[s] | 손실 0.29\n",
            "| 에폭 955 |  반복 1 / 2 | 시간 1[s] | 손실 0.39\n",
            "| 에폭 956 |  반복 1 / 2 | 시간 1[s] | 손실 0.30\n",
            "| 에폭 957 |  반복 1 / 2 | 시간 1[s] | 손실 0.29\n",
            "| 에폭 958 |  반복 1 / 2 | 시간 1[s] | 손실 0.39\n",
            "| 에폭 959 |  반복 1 / 2 | 시간 1[s] | 손실 0.18\n",
            "| 에폭 960 |  반복 1 / 2 | 시간 1[s] | 손실 0.31\n",
            "| 에폭 961 |  반복 1 / 2 | 시간 1[s] | 손실 0.29\n",
            "| 에폭 962 |  반복 1 / 2 | 시간 1[s] | 손실 0.29\n",
            "| 에폭 963 |  반복 1 / 2 | 시간 1[s] | 손실 0.29\n",
            "| 에폭 964 |  반복 1 / 2 | 시간 1[s] | 손실 0.29\n",
            "| 에폭 965 |  반복 1 / 2 | 시간 1[s] | 손실 0.29\n",
            "| 에폭 966 |  반복 1 / 2 | 시간 1[s] | 손실 0.29\n",
            "| 에폭 967 |  반복 1 / 2 | 시간 1[s] | 손실 0.29\n",
            "| 에폭 968 |  반복 1 / 2 | 시간 1[s] | 손실 0.18\n",
            "| 에폭 969 |  반복 1 / 2 | 시간 1[s] | 손실 0.39\n",
            "| 에폭 970 |  반복 1 / 2 | 시간 1[s] | 손실 0.40\n",
            "| 에폭 971 |  반복 1 / 2 | 시간 1[s] | 손실 0.06\n",
            "| 에폭 972 |  반복 1 / 2 | 시간 1[s] | 손실 0.41\n",
            "| 에폭 973 |  반복 1 / 2 | 시간 1[s] | 손실 0.28\n",
            "| 에폭 974 |  반복 1 / 2 | 시간 1[s] | 손실 0.30\n",
            "| 에폭 975 |  반복 1 / 2 | 시간 1[s] | 손실 0.29\n",
            "| 에폭 976 |  반복 1 / 2 | 시간 1[s] | 손실 0.40\n",
            "| 에폭 977 |  반복 1 / 2 | 시간 1[s] | 손실 0.17\n",
            "| 에폭 978 |  반복 1 / 2 | 시간 1[s] | 손실 0.18\n",
            "| 에폭 979 |  반복 1 / 2 | 시간 1[s] | 손실 0.40\n",
            "| 에폭 980 |  반복 1 / 2 | 시간 1[s] | 손실 0.16\n",
            "| 에폭 981 |  반복 1 / 2 | 시간 1[s] | 손실 0.40\n",
            "| 에폭 982 |  반복 1 / 2 | 시간 1[s] | 손실 0.30\n",
            "| 에폭 983 |  반복 1 / 2 | 시간 1[s] | 손실 0.17\n",
            "| 에폭 984 |  반복 1 / 2 | 시간 1[s] | 손실 0.29\n",
            "| 에폭 985 |  반복 1 / 2 | 시간 1[s] | 손실 0.40\n",
            "| 에폭 986 |  반복 1 / 2 | 시간 1[s] | 손실 0.27\n",
            "| 에폭 987 |  반복 1 / 2 | 시간 1[s] | 손실 0.19\n",
            "| 에폭 988 |  반복 1 / 2 | 시간 1[s] | 손실 0.39\n",
            "| 에폭 989 |  반복 1 / 2 | 시간 1[s] | 손실 0.29\n",
            "| 에폭 990 |  반복 1 / 2 | 시간 1[s] | 손실 0.29\n",
            "| 에폭 991 |  반복 1 / 2 | 시간 1[s] | 손실 0.28\n",
            "| 에폭 992 |  반복 1 / 2 | 시간 1[s] | 손실 0.41\n",
            "| 에폭 993 |  반복 1 / 2 | 시간 1[s] | 손실 0.28\n",
            "| 에폭 994 |  반복 1 / 2 | 시간 1[s] | 손실 0.06\n",
            "| 에폭 995 |  반복 1 / 2 | 시간 1[s] | 손실 0.41\n",
            "| 에폭 996 |  반복 1 / 2 | 시간 1[s] | 손실 0.39\n",
            "| 에폭 997 |  반복 1 / 2 | 시간 1[s] | 손실 0.07\n",
            "| 에폭 998 |  반복 1 / 2 | 시간 1[s] | 손실 0.50\n",
            "| 에폭 999 |  반복 1 / 2 | 시간 1[s] | 손실 0.28\n",
            "| 에폭 1000 |  반복 1 / 2 | 시간 1[s] | 손실 0.18\n"
          ]
        },
        {
          "output_type": "display_data",
          "data": {
            "text/plain": [
              "<Figure size 432x288 with 1 Axes>"
            ],
            "image/png": "[encoded data removed]"
          },
          "metadata": {
            "needs_background": "light"
          }
        }
      ]
    },
    {
      "cell_type": "code",
      "source": [
        "word_vecs = model.word_vecs\n",
        "for word_id, word in id_to_word.items():\n",
        "    print(word, word_vecs[word_id])"
      ],
      "metadata": {
        "colab": {
          "base_uri": "https://localhost:8080/"
        },
        "id": "raxjj-QE9VHM",
        "outputId": "c1b7760c-c8be-4dca-d6cd-9b2326f842e9"
      },
      "execution_count": null,
      "outputs": [
        {
          "output_type": "stream",
          "name": "stdout",
          "text": [
            "you [ 0.915  0.857 -1.486 -0.81   1.416]\n",
            "say [-0.243 -1.343 -0.227  1.36   0.193]\n",
            "goodbye [ 1.247  1.21   0.418 -1.145 -0.214]\n",
            "and [-1.351 -1.097 -1.264  1.105  1.288]\n",
            "i [ 1.215  1.206  0.408 -1.147 -0.229]\n",
            "hello [ 0.915  0.853 -1.488 -0.816  1.426]\n",
            ". [ 1.56  -1.079  1.251  1.163 -1.256]\n"
          ]
        }
      ]
    },
    {
      "cell_type": "markdown",
      "source": [
        "#### 2.3.3 skip-gram\n",
        "- 입력하고자 하는 문자열\n",
        "  - Duct tape works anywhere. Duct tape is magic and should be worshiped.\n",
        "  - (덕트 테이프는 어디서나 작동합니다. 덕트 테이프는 마법이며 숭배해야 합니다.)\n",
        "- 핵심부분만 보기 위하여 사전처리를 직접 정리해 둠\n",
        "  - 모든 단어의 소문자화: duct tape works anywhere. duct tape is magic and should be worshiped.\n",
        "  - 의미없는 조동사, be동사, 접속사, 마침표 등을 제거하고 동사는 원형으로 변형: duct tape work anywhere duct tape magic worship\n",
        "  - 같은 단어 제거: duct tape work anywhere magic worship\n",
        "  - 최종 결과: [\"duct\", \"tape\", \"work\", \"anywhere\", \"magic\", \"worship\"]\n",
        "- 하려고 하는 작업\n",
        "  - \"tape\"가 주어지면 앞뒤로 어떤 단어가 나올 것인지 추론"
      ],
      "metadata": {
        "id": "c_iiKJEivOD0"
      }
    },
    {
      "cell_type": "markdown",
      "source": [
        "![image.png](data:image/png;base64,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)"
      ],
      "metadata": {
        "id": "po_O2uYW5Jzh"
      }
    },
    {
      "cell_type": "markdown",
      "source": [
        "- 가운데의 층을 신경망 모델을 사용해도 되고 단순한 완전연결계층을 이용한 행렬곱을 사용해도 됨\n",
        "- 데이터가 커질수록 신경망 모델의 효율성, 성능이 높아지며 단순한 예제 데이터의 경우는 행렬곱으로도 충분함"
      ],
      "metadata": {
        "id": "oXFwa8E55M_v"
      }
    },
    {
      "cell_type": "code",
      "source": [
        "# Input String : \"Duct tape works anywhere. Duct tape is magic and should be worshiped.\"\n",
        "\n",
        "v = [\"duct\", \"tape\", \"work\", \"anywhere\", \"magic\", \"worship\"]\n",
        "print(len(v))\n",
        "print(v[0])"
      ],
      "metadata": {
        "id": "Yjrkw03F0EDG",
        "colab": {
          "base_uri": "https://localhost:8080/"
        },
        "outputId": "6c98e09c-15dd-4914-d0a0-c8d011238263"
      },
      "execution_count": null,
      "outputs": [
        {
          "output_type": "stream",
          "name": "stdout",
          "text": [
            "6\n",
            "duct\n"
          ]
        }
      ]
    },
    {
      "cell_type": "code",
      "source": [
        "import numpy as np"
      ],
      "metadata": {
        "id": "368HWTfk0a65"
      },
      "execution_count": null,
      "outputs": []
    },
    {
      "cell_type": "code",
      "source": [
        "np.random.seed(42)\n",
        "input_array_tape=np.array([0,1,0,0,0,0]) #\"tape\"\n",
        "input_weight_matrix = np.random.random_sample((6,3))\n",
        "print(input_weight_matrix)"
      ],
      "metadata": {
        "id": "gQzjSqLc0jFX",
        "colab": {
          "base_uri": "https://localhost:8080/"
        },
        "outputId": "0a7fec3d-aed4-4144-f507-7ac052911e04"
      },
      "execution_count": null,
      "outputs": [
        {
          "output_type": "stream",
          "name": "stdout",
          "text": [
            "[[0.375 0.951 0.732]\n",
            " [0.599 0.156 0.156]\n",
            " [0.058 0.866 0.601]\n",
            " [0.708 0.021 0.97 ]\n",
            " [0.832 0.212 0.182]\n",
            " [0.183 0.304 0.525]]\n"
          ]
        }
      ]
    },
    {
      "cell_type": "code",
      "source": [
        "projection = np.dot(input_array_tape,input_weight_matrix)\n",
        "print(projection)"
      ],
      "metadata": {
        "id": "MFwbXMnt0qdh",
        "colab": {
          "base_uri": "https://localhost:8080/"
        },
        "outputId": "64912a7f-4004-4819-f78a-a3c8ae5b39d4"
      },
      "execution_count": null,
      "outputs": [
        {
          "output_type": "stream",
          "name": "stdout",
          "text": [
            "[0.599 0.156 0.156]\n"
          ]
        }
      ]
    },
    {
      "cell_type": "code",
      "source": [
        "output_weight_matrix = np.random.random_sample((3,6))\n",
        "print(output_weight_matrix)"
      ],
      "metadata": {
        "id": "0u-8IrZ80s0Z",
        "colab": {
          "base_uri": "https://localhost:8080/"
        },
        "outputId": "d0a9518c-747e-4ae1-fb5f-5b51c0db6020"
      },
      "execution_count": null,
      "outputs": [
        {
          "output_type": "stream",
          "name": "stdout",
          "text": [
            "[[0.432 0.291 0.612 0.139 0.292 0.366]\n",
            " [0.456 0.785 0.2   0.514 0.592 0.046]\n",
            " [0.608 0.171 0.065 0.949 0.966 0.808]]\n"
          ]
        }
      ]
    },
    {
      "cell_type": "code",
      "source": [
        "output_array_for_input_tape_and_orange_output_context = np.dot(projection, output_weight_matrix)\n",
        "print(output_array_for_input_tape_and_orange_output_context)"
      ],
      "metadata": {
        "id": "fRkHgvHh0zN9",
        "colab": {
          "base_uri": "https://localhost:8080/"
        },
        "outputId": "81f62146-1fe9-45e5-8a25-45ff7876cca7"
      },
      "execution_count": null,
      "outputs": [
        {
          "output_type": "stream",
          "name": "stdout",
          "text": [
            "[0.425 0.323 0.408 0.312 0.418 0.353]\n"
          ]
        }
      ]
    },
    {
      "cell_type": "code",
      "source": [
        "print(list(zip(v, output_array_for_input_tape_and_orange_output_context)))"
      ],
      "metadata": {
        "id": "SmDmMC0R03aw",
        "colab": {
          "base_uri": "https://localhost:8080/"
        },
        "outputId": "63448227-cae9-4d7b-e132-4bd0a6e5a0cf"
      },
      "execution_count": null,
      "outputs": [
        {
          "output_type": "stream",
          "name": "stdout",
          "text": [
            "[('duct', 0.42451663675598933), ('tape', 0.3234497105099373), ('work', 0.4075914505752598), ('anywhere', 0.3117602853605092), ('magic', 0.41795589389125587), ('worship', 0.35267831257488347)]\n"
          ]
        }
      ]
    },
    {
      "cell_type": "markdown",
      "source": [
        "- 가장 높은 추론값을 가지는 것은\n",
        "  1. duct (0.4245)\n",
        "  2. magic (0.4179)\n",
        "  3. work (0.4075)\n",
        "<br><br>\n",
        "- 주어진 문장: *duct* **tape** *work* anywhere *duct* **tape** *magic* worship"
      ],
      "metadata": {
        "id": "tPD4pKQz4FGz"
      }
    }
  ]
}